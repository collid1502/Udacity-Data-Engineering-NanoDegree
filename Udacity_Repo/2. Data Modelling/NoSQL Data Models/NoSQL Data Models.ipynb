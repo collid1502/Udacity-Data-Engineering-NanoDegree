{
 "cells": [
  {
   "cell_type": "markdown",
   "metadata": {},
   "source": [
    "## Non-Relational Databases\n",
    "\n",
    "##### Terminology:\n",
    "\n",
    "NoSQL and Non-Relational are interchangeable terms.\n",
    "\n",
    "NoSQL = <font color=yellow>Not Only SQL</font> \n",
    "\n",
    "\n",
    "NB - \"nodes\" are basically just servers or systems. So adding a node, as is commonly referred to in linear scaling, is basically just adding another server.\n",
    "\n",
    "##### some notes on when Not to Use SQL:\n",
    "\n",
    "- Need high availability in the data: <font color=green>indicates system is always up and there is no downtime</font>\n",
    "- Have large amounts of data \n",
    "- Need Linear Scalability: <font color=green>The need to add more nodes to the system so performance will increase linearly</font> \n",
    "- Low Latency:  <font color=green>shorter delay before the data is trasnferred once the instruction for the transfer has been received</font> \n",
    "- Need fast reads and write "
   ]
  },
  {
   "cell_type": "markdown",
   "metadata": {},
   "source": [
    "### Apache Cassandra\n",
    "\n",
    "Understanding the architecture: https://docs.datastax.com/en/cassandra/3.0/cassandra/architecture/archTOC.html \n",
    "\n",
    "Cassandra Architecture: https://www.tutorialspoint.com/cassandra/cassandra_architecture.htm \n",
    "\n",
    "In depth Apache Cassandra Data Model docs: https://docs.datastax.com/en/cassandra/3.0/cassandra/dml/dmlIntro.html "
   ]
  },
  {
   "cell_type": "markdown",
   "metadata": {},
   "source": [
    "###  <font color=yellow>CAP</font> Theorem\n",
    "\n",
    "- <font color=yellow>Consistency:</font> Every read from the database gets the latest (and correct) piece of data or an error\n",
    "\n",
    "- <font color=yellow>Availability:</font> Every request is received and a response is given -- without a guarantee that the data is the latest update\n",
    "\n",
    "- <font color=yellow>Partition Tolerance:</font> The system continues to work regardless of losing network connectivity between nodes\n",
    "\n",
    "\n",
    "\n",
    "##### <font color=green>Is Eventual Consistency the opposite of what is promised by SQL database per the ACID principle?</font>\n",
    "Much has been written about how Consistency is interpreted in the ACID principle and the CAP theorem. Consistency in the ACID principle refers to the requirement that only transactions that abide by constraints and database rules are written into the database, otherwise the database keeps previous state. In other words, the data should be correct across all rows and tables. However, consistency in the CAP theorem refers to every read from the database getting the latest piece of data or an error.\n",
    "\n",
    "##### <font color=green>Which of these combinations is desirable for a production system - Consistency and Availability, Consistency and Partition Tolerance, or Availability and Partition Tolerance?</font>\n",
    "As the CAP Theorem Wikipedia entry says, \"The CAP theorem implies that in the presence of a network partition, one has to choose between consistency and availability.\" So there is no such thing as Consistency and Availability in a distributed database since it must always tolerate network issues. You can only have Consistency and Partition Tolerance (CP) or Availability and Partition Tolerance (AP). Remember, relational and non-relational databases do different things, and that's why most companies have both types of database systems.\n",
    "\n",
    "##### <font color=green>Does Cassandra meet just Availability and Partition Tolerance in the CAP theorem?</font>\n",
    "According to the CAP theorem, a database can actually only guarantee two out of the three in CAP. So supporting Availability and Partition Tolerance makes sense, since Availability and Partition Tolerance are the biggest requirements.\n",
    "\n",
    "##### <font color=green>If Apache Cassandra is not built for consistency, won't the analytics pipeline break?</font>\n",
    "If I am trying to do analysis, such as determining a trend over time, e.g., how many friends does John have on Twitter, and if you have one less person counted because of \"eventual consistency\" (the data may not be up-to-date in all locations), that's OK. In theory, that can be an issue but only if you are not constantly updating. If the pipeline pulls data from one node and it has not been updated, then you won't get it. Remember, in Apache Cassandra it is about Eventual Consistency."
   ]
  },
  {
   "cell_type": "markdown",
   "metadata": {},
   "source": [
    "#### Data Modelling in Apache Cassandra:\n",
    "- Denormalization is not just okay > it's a must\n",
    "- Denormalization must be done for fast reads\n",
    "- Apache Cassandra has been optimized for fast writes\n",
    "- ALWAYS think Queries first\n",
    "- One table per query is a great strategy\n",
    "- Apache Cassandra does **NOT** allow for JOINs between tables\n",
    "\n",
    "\n",
    "##### <font color=green>I see certain downsides of this approach, since in a production application, requirements change quickly and I may need to improve my queries later. Isn't that a downside of Apache Cassandra?</font>\n",
    "In Apache Cassandra, you want to model your data to your queries, and if your business need calls for quickly changing requirements, you need to create a new table to process the data. That is a requirement of Apache Cassandra. If your business needs calls for ad-hoc queries, these are not a strength of Apache Cassandra. However keep in mind that it is easy to create a new table that will fit your new query."
   ]
  },
  {
   "cell_type": "markdown",
   "metadata": {},
   "source": [
    "## Please Note - This code won't work on my personal seup without a fully installed Cassandra setup (which currently cannot be supported by Python 3.8 which I have)\n",
    "\n",
    "As such, the following is demo notes for code that would work on the right backend setup"
   ]
  },
  {
   "cell_type": "markdown",
   "metadata": {},
   "source": [
    "go to NoSQL Demo 1.ipynb"
   ]
  },
  {
   "cell_type": "markdown",
   "metadata": {},
   "source": [
    " "
   ]
  },
  {
   "cell_type": "markdown",
   "metadata": {},
   "source": [
    "### Primary Key\n",
    "\n",
    "- Must be Unique\n",
    "- The PRIMARY KEY is made up of either just the PARTITION KEY or may also include additional CLUSTERING COLUMNS\n",
    "- A simple PRIMARY KEY is just one column that is also the PARTITION KEY. A composite PRIMARY KEY is made up of more than one column and will assist in creating a unique value and in your retrieval queries\n",
    "- The PARTITION KEY will determine the distribution of the data across the system\n",
    "\n",
    "useful link for some docs on the subject: https://docs.datastax.com/en/cql/3.3/cql/cql_using/useSimplePrimaryKeyConcept.html#useSimplePrimaryKeyConcept "
   ]
  },
  {
   "cell_type": "markdown",
   "metadata": {},
   "source": [
    "### Clustering Columns\n",
    "\n",
    "- The clustering column will sort the data in sorted ascending order, e.g., alphabetical order. Note: this is a mistake in the video, which says descending order.\n",
    "- More than one clustering column can be added (or none!)\n",
    "- From there the clustering columns will sort in order of how they were added to the primary key \n",
    "\n",
    "\n",
    "#### Additional Resources \n",
    "useful link for some docs on the subject: https://docs.datastax.com/en/cql/3.3/cql/cql_using/useCompoundPrimaryKeyConcept.html\n",
    "\n",
    "Partition Key vs Clustering Keys : https://stackoverflow.com/questions/24949676/difference-between-partition-key-composite-key-and-clustering-key-in-cassandra "
   ]
  },
  {
   "cell_type": "markdown",
   "metadata": {},
   "source": [
    "### WHERE clause\n",
    "\n",
    "- Data Modeling in Apache Cassandra is query focused, and that focus needs to be on the WHERE clause\n",
    "- Failure to include a WHERE clause will result in an error\n",
    "\n",
    "\n",
    "#### Additional Resources \n",
    "AVOID using \"ALLOW FILTERING\": Here is a reference in DataStax that explains ALLOW FILTERING and why you should not use it.\n",
    "https://www.datastax.com/dev/blog/allow-filtering-explained-2 \n",
    "\n",
    "\n",
    "#### Why do we need to use a WHERE statement since we are not concerned about analytics? Is it only for debugging purposes?\n",
    "The WHERE statement is allowing us to do the fast reads. With Apache Cassandra, we are talking about big data -- think terabytes of data -- so we are making it fast for read purposes. Data is spread across all the nodes. By using the WHERE statement, we know which node to go to, from which node to get that data and serve it back. For example, imagine we have 10 years of data on 10 nodes or servers. So 1 year's data is on a separate node. By using the WHERE year = 1 statement we know which node to visit fast to pull the data from."
   ]
  },
  {
   "cell_type": "code",
   "execution_count": null,
   "metadata": {},
   "outputs": [],
   "source": []
  }
 ],
 "metadata": {
  "kernelspec": {
   "display_name": "Python 3",
   "language": "python",
   "name": "python3"
  },
  "language_info": {
   "codemirror_mode": {
    "name": "ipython",
    "version": 3
   },
   "file_extension": ".py",
   "mimetype": "text/x-python",
   "name": "python",
   "nbconvert_exporter": "python",
   "pygments_lexer": "ipython3",
   "version": "3.7.6"
  }
 },
 "nbformat": 4,
 "nbformat_minor": 4
}
