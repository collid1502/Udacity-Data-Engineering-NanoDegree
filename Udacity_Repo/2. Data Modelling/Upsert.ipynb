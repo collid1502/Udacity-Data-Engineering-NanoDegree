{
 "cells": [
  {
   "cell_type": "markdown",
   "metadata": {},
   "source": [
    "### Upsert\n",
    "In RDBMS language, the term upsert refers to the idea of inserting a new row in an existing table, or updating the row if it already exists in the table. The action of updating or inserting has been described as \"upsert\".\n",
    "\n",
    "The way this is handled in PostgreSQL is by using the `INSERT` statement in combination with the ON `CONFLICT` clause."
   ]
  },
  {
   "cell_type": "markdown",
   "metadata": {},
   "source": [
    "#### INSERT\n",
    "The INSERT statement adds in new rows within the table. The values associated with specific target columns can be added in any order.\n",
    "\n",
    "Let's look at a simple example. We will use a customer address table as an example, which is defined with the following CREATE statement:"
   ]
  },
  {
   "cell_type": "code",
   "execution_count": null,
   "metadata": {},
   "outputs": [],
   "source": [
    "CREATE TABLE IF NOT EXISTS customer_address (\n",
    "    customer_id int PRIMARY KEY, \n",
    "    customer_street varchar NOT NULL,\n",
    "    customer_city text NOT NULL,\n",
    "    customer_state text NOT NULL\n",
    ");"
   ]
  },
  {
   "cell_type": "markdown",
   "metadata": {},
   "source": [
    "Let's try to insert data into it by adding a new row:"
   ]
  },
  {
   "cell_type": "code",
   "execution_count": null,
   "metadata": {},
   "outputs": [],
   "source": [
    "INSERT into customer_address (\n",
    "VALUES\n",
    "    (432, '758 Main Street', 'Chicago', 'IL'\n",
    ");"
   ]
  },
  {
   "cell_type": "markdown",
   "metadata": {},
   "source": [
    "Now let's assume that the customer moved and we need to update the customer's address. However we do not want to add a new customer id. In other words, if there is any conflict on the `customer_id`, we do not want that to change.\n",
    "\n",
    "This would be a good candidate for using the ON CONFLICT DO NOTHING clause."
   ]
  },
  {
   "cell_type": "code",
   "execution_count": null,
   "metadata": {},
   "outputs": [],
   "source": [
    "INSERT INTO customer_address (customer_id, customer_street, customer_city, customer_state)\n",
    "VALUES\n",
    " (\n",
    " 432, '923 Knox Street', 'Albany', 'NY'\n",
    " ) \n",
    "ON CONFLICT (customer_id) \n",
    "DO NOTHING;"
   ]
  },
  {
   "cell_type": "markdown",
   "metadata": {},
   "source": [
    "Now, let's imagine we want to add more details in the existing address for an existing customer. This would be a good candidate for using the ON CONFLICT DO UPDATE clause."
   ]
  },
  {
   "cell_type": "code",
   "execution_count": null,
   "metadata": {},
   "outputs": [],
   "source": [
    "INSERT INTO customer_address (customer_id, customer_street)\n",
    "VALUES\n",
    "    (\n",
    "    432, '923 Knox Street, Suite 1' \n",
    ") \n",
    "ON CONFLICT (customer_id) \n",
    "DO UPDATE\n",
    "    SET customer_street  = EXCLUDED.customer_street;"
   ]
  },
  {
   "cell_type": "markdown",
   "metadata": {},
   "source": [
    " "
   ]
  },
  {
   "cell_type": "markdown",
   "metadata": {},
   "source": [
    "We recommend checking out these two links to learn other ways to insert data into the tables.\n",
    "\n",
    "- PostgreSQL tutorial : http://www.postgresqltutorial.com/postgresql-upsert/ \n",
    "- PostgreSQL documentation : https://www.postgresql.org/docs/9.5/sql-insert.html"
   ]
  }
 ],
 "metadata": {
  "kernelspec": {
   "display_name": "Python 3",
   "language": "python",
   "name": "python3"
  },
  "language_info": {
   "codemirror_mode": {
    "name": "ipython",
    "version": 3
   },
   "file_extension": ".py",
   "mimetype": "text/x-python",
   "name": "python",
   "nbconvert_exporter": "python",
   "pygments_lexer": "ipython3",
   "version": "3.7.6"
  }
 },
 "nbformat": 4,
 "nbformat_minor": 4
}
