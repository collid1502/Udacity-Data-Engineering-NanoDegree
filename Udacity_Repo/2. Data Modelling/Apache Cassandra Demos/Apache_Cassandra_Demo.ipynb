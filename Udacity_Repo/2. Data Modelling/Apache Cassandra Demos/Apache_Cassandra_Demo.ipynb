{
 "cells": [
  {
   "cell_type": "markdown",
   "metadata": {},
   "source": [
    "# Apache Cassandra \n",
    "\n",
    "### In this demo we are going to walk through the basics of creating a table in Apache Cassanrda, inserting rows of data, and doing a simple SQL query to validate the information.\n",
    "\n",
    "#### We will use a python wrapper / driver called cassandra to run the Apache Cassandra queries. This library can be installed by:\n",
    "\n",
    "! pip install cassandra-driver \n",
    "\n",
    "\n",
    "<font color='red'>*Note - Have not installed Apache Cassandra locally, or any of the relevant libraries. This code is notes only, it will not run*</font>"
   ]
  },
  {
   "cell_type": "markdown",
   "metadata": {},
   "source": [
    "#### Import Apache Cassandra Python package "
   ]
  },
  {
   "cell_type": "code",
   "execution_count": null,
   "metadata": {},
   "outputs": [],
   "source": [
    "import cassandra"
   ]
  },
  {
   "cell_type": "markdown",
   "metadata": {},
   "source": [
    "### Create connection to database\n",
    "\n",
    "This connects to out local instance of Apache Cassanrda. This connection will reach out to the database and ensure we have the correct access rights to connect, otherwise returns an error."
   ]
  },
  {
   "cell_type": "code",
   "execution_count": null,
   "metadata": {},
   "outputs": [],
   "source": [
    "from cassandra.cluster import Cluster \n",
    "\n",
    "try:\n",
    "    cluster = Cluster(['127.0.0.1']) # If you have a locally installed Apache Cassandra instance \n",
    "    session = clsuter.connect()\n",
    "except Exception as e:\n",
    "    print(e)"
   ]
  },
  {
   "cell_type": "markdown",
   "metadata": {},
   "source": [
    "### Test our Connection\n",
    "\n",
    "We are trying to do a select * on a table we have not yet created. We should expect to see a nicely handled error."
   ]
  },
  {
   "cell_type": "code",
   "execution_count": null,
   "metadata": {},
   "outputs": [],
   "source": [
    "try:\n",
    "    session.execute(\"\"\" select * from music_library\"\"\")\n",
    "except Exception as e:\n",
    "    print(e)"
   ]
  },
  {
   "cell_type": "markdown",
   "metadata": {},
   "source": [
    "*would now get an error printed here, because that table does not actually exist yet*"
   ]
  },
  {
   "cell_type": "markdown",
   "metadata": {},
   "source": [
    "### Lets create a keyspace to do our work\n",
    "\n",
    "Remember, keyspace is like our database equivalent for a NoSQL setup\n",
    "\n",
    "*Note: Ignore the Replication Strategy and Factor Information for now. These will be discussed in later lessons. Just know that on a one node local instance this will be the strategy and replication factor*"
   ]
  },
  {
   "cell_type": "code",
   "execution_count": null,
   "metadata": {},
   "outputs": [],
   "source": [
    "try:\n",
    "    session.execute(\"\"\"\n",
    "    CREATE KEYSPACE IF NOT EXISTS udacity \n",
    "    WITH REPLICATION =\n",
    "    { 'class' : 'SimpleStrategy', 'replication_factor' : 1}\n",
    "    \"\"\")\n",
    "except Exception as e:\n",
    "    print(e)"
   ]
  },
  {
   "cell_type": "markdown",
   "metadata": {},
   "source": [
    "#### Connect to our keyspace. Compare this to how we had to create a new session in PostgreSQL."
   ]
  },
  {
   "cell_type": "code",
   "execution_count": null,
   "metadata": {},
   "outputs": [],
   "source": [
    "try:\n",
    "    session.set_keyspace('udacity')\n",
    "    \n",
    "except Exception as e:\n",
    "    print(e)"
   ]
  },
  {
   "cell_type": "markdown",
   "metadata": {},
   "source": [
    " "
   ]
  },
  {
   "cell_type": "markdown",
   "metadata": {},
   "source": [
    "#### We are working with Apache Cassandra a NoSQL database. We can't model our data and create our table without mor information.\n",
    "\n",
    "## What queries will I be performing on this data?\n",
    "\n",
    "#### In this case I would like to be able to get every album that was released in a particular year.\n",
    "\n",
    "`SELECT * FROM music_library WHERE year=1970`\n",
    "\n",
    "#### Because of this, I need to be able to do a WHERE clause on YEAR. So, YEAR will become my partition key, and artist anem will be my clustering column to make each Primary Key unique. Remember there are no duplicates in Apache Cassandra.\n",
    "\n",
    "`Table Name: music_library`\n",
    "\n",
    "`column 1: Album Name`\n",
    "\n",
    "`column 2: Artist Name`\n",
    "\n",
    "`column 3: Year`\n",
    "\n",
    "`PRIMARY KEY(Year, Artist Name)`\n",
    "\n",
    "### Now translate this information into a Create Table Statement"
   ]
  },
  {
   "cell_type": "code",
   "execution_count": null,
   "metadata": {},
   "outputs": [],
   "source": [
    "query = \"\"\"CREATE TABLE IF NOT EXISTS music_library\"\"\"\n",
    "query = query + \" (year int, artist_name text, album_name text, PRIMARY KEY (year, artist_name))\"\n",
    "try:\n",
    "    session.execute(query)\n",
    "except Exception as e:\n",
    "    print(e)"
   ]
  },
  {
   "cell_type": "markdown",
   "metadata": {},
   "source": [
    "##### Now execute a select statement to ensure the table was created, even with the result being 0 because the table is empty\n",
    "\n",
    "Note: Depending on the version of Apache Cassandra you have installed, this might throw an \"ALLOW FILTERING\" error instead of a result of \"0\". This is to ve expected, as this type of query should not be performed on large datasets, we are just doing it here for the sake of the demo."
   ]
  },
  {
   "cell_type": "code",
   "execution_count": null,
   "metadata": {},
   "outputs": [],
   "source": [
    "check_query = \"select count(*) from music_library\"\n",
    "try:\n",
    "    count = session.execute(check_query)\n",
    "except Exception as e:\n",
    "    print(e)\n",
    "    \n",
    "print(count.one())"
   ]
  },
  {
   "cell_type": "markdown",
   "metadata": {},
   "source": [
    " "
   ]
  },
  {
   "cell_type": "markdown",
   "metadata": {},
   "source": [
    "### Let's insert two rows of data\n",
    "\n",
    "Note the syntax here"
   ]
  },
  {
   "cell_type": "code",
   "execution_count": null,
   "metadata": {},
   "outputs": [],
   "source": [
    "insert_query = \"INSERT INTO music_library (year, artist_name, album_name)\"\n",
    "insert_query = insert_query + \" VALUES (%s, %s, %s)\"\n",
    "\n",
    "try:\n",
    "    session.execute(insert_query, (1970, \"The Beatles\", \"Let it Be\"))\n",
    "except Exception as e:\n",
    "    print(e)\n",
    "    \n",
    "try:\n",
    "    session.execute(insert_query, (1965, \"The Beatles\", \"Rubber Soul\"))\n",
    "except Exception as e:\n",
    "    print(e)"
   ]
  },
  {
   "cell_type": "markdown",
   "metadata": {},
   "source": [
    " "
   ]
  },
  {
   "cell_type": "markdown",
   "metadata": {},
   "source": [
    "### Validate your data was inserted into the table.\n",
    "\n",
    "Note: The for loop is used for printing the results. If executing queries in the cqlsh, this would not be required.\n",
    "\n",
    "Note: Depending on version of Apache Cassandra installed, this might throw an error \"ALLOW FILTERING\" instead of printing the 2 rows inserted into the table. This is to be expected, as this type of query should not be performed on large datasets, we are only doing this for the sake of the demo."
   ]
  },
  {
   "cell_type": "code",
   "execution_count": null,
   "metadata": {},
   "outputs": [],
   "source": [
    "test_query = \"select * from music_library\"\n",
    "try:\n",
    "    rows = session.execute(test_query)\n",
    "except Exception as e:\n",
    "    print(e)\n",
    "    \n",
    "for row in rows:\n",
    "    print(row.year, row.album_name, row.artist_name)"
   ]
  },
  {
   "cell_type": "markdown",
   "metadata": {},
   "source": [
    "### Lets validate our Data Model with our original query\n",
    "\n",
    "`select * from music_library WHERE year=1970`"
   ]
  },
  {
   "cell_type": "code",
   "execution_count": null,
   "metadata": {},
   "outputs": [],
   "source": [
    "my_query = \"select * from music_library where year=1970\"\n",
    "try:\n",
    "    rows = session.execute(my_query)\n",
    "except Exception as e:\n",
    "    print(e)\n",
    "    \n",
    "for row in rows:\n",
    "    print(row.year, row.album_name, row.artist_name)"
   ]
  },
  {
   "cell_type": "markdown",
   "metadata": {},
   "source": [
    "### Finally, close the session and cluster connection "
   ]
  },
  {
   "cell_type": "code",
   "execution_count": null,
   "metadata": {},
   "outputs": [],
   "source": [
    "session.shutdown()\n",
    "cluster.shutdown() "
   ]
  },
  {
   "cell_type": "markdown",
   "metadata": {},
   "source": [
    "#### End"
   ]
  }
 ],
 "metadata": {
  "kernelspec": {
   "display_name": "Python 3",
   "language": "python",
   "name": "python3"
  },
  "language_info": {
   "codemirror_mode": {
    "name": "ipython",
    "version": 3
   },
   "file_extension": ".py",
   "mimetype": "text/x-python",
   "name": "python",
   "nbconvert_exporter": "python",
   "pygments_lexer": "ipython3",
   "version": "3.7.6"
  }
 },
 "nbformat": 4,
 "nbformat_minor": 4
}
