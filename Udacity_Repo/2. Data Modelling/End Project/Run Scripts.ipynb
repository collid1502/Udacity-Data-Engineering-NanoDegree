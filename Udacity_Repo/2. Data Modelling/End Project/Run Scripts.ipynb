{
 "cells": [
  {
   "cell_type": "markdown",
   "metadata": {},
   "source": [
    "Call the `create_tables.py` file, and run it"
   ]
  },
  {
   "cell_type": "code",
   "execution_count": 3,
   "metadata": {},
   "outputs": [],
   "source": [
    "%run create_tables.py"
   ]
  },
  {
   "cell_type": "markdown",
   "metadata": {},
   "source": [
    "connect & check tables "
   ]
  },
  {
   "cell_type": "code",
   "execution_count": 4,
   "metadata": {},
   "outputs": [],
   "source": [
    "import psycopg2"
   ]
  },
  {
   "cell_type": "code",
   "execution_count": 5,
   "metadata": {},
   "outputs": [],
   "source": [
    "try:\n",
    "    conn = psycopg2.connect(\"host=localhost dbname=sparkifydb user=postgres password=Danny3lfc\")\n",
    "except psycopg2.Error as e:\n",
    "    print(\"Error: Could not connect to the PostgreSQL DB\")\n",
    "    print(e)\n",
    "    \n",
    "conn.set_session(autocommit=True)"
   ]
  },
  {
   "cell_type": "code",
   "execution_count": 6,
   "metadata": {},
   "outputs": [],
   "source": [
    "try:\n",
    "    cur = conn.cursor()\n",
    "except pyscopg2.Error as e:\n",
    "    print(\"Error: Could not get cursor to the Database\")\n",
    "    print(e)"
   ]
  },
  {
   "cell_type": "code",
   "execution_count": 7,
   "metadata": {},
   "outputs": [
    {
     "name": "stdout",
     "output_type": "stream",
     "text": [
      "[(11,)]\n"
     ]
    }
   ],
   "source": [
    "cur.execute(\"select count(*) from songplays;\")\n",
    "print(cur.fetchall())"
   ]
  },
  {
   "cell_type": "code",
   "execution_count": 8,
   "metadata": {},
   "outputs": [
    {
     "name": "stdout",
     "output_type": "stream",
     "text": [
      "[(1,)]\n"
     ]
    }
   ],
   "source": [
    "cur.execute(\"select count(*) from songs;\")\n",
    "print(cur.fetchall())"
   ]
  },
  {
   "cell_type": "code",
   "execution_count": 9,
   "metadata": {},
   "outputs": [
    {
     "name": "stdout",
     "output_type": "stream",
     "text": [
      "[('SOMZWCG12A8C13C480', \"I Didn't Mean To\", 'ARD7TVE1187B99BFB1', 0, Decimal('218.93179'))]\n"
     ]
    }
   ],
   "source": [
    "cur.execute(\"select * from songs;\")\n",
    "print(cur.fetchall())"
   ]
  },
  {
   "cell_type": "code",
   "execution_count": 10,
   "metadata": {},
   "outputs": [
    {
     "name": "stdout",
     "output_type": "stream",
     "text": [
      "[(1,)]\n"
     ]
    }
   ],
   "source": [
    "cur.execute(\"select count(*) from artists;\")\n",
    "print(cur.fetchall())"
   ]
  },
  {
   "cell_type": "code",
   "execution_count": 11,
   "metadata": {},
   "outputs": [
    {
     "name": "stdout",
     "output_type": "stream",
     "text": [
      "[('ARD7TVE1187B99BFB1', 'Casual', 'California - LA', Decimal('NaN'), Decimal('NaN'))]\n"
     ]
    }
   ],
   "source": [
    "cur.execute(\"select * from artists;\")\n",
    "print(cur.fetchall())"
   ]
  },
  {
   "cell_type": "code",
   "execution_count": 12,
   "metadata": {},
   "outputs": [
    {
     "name": "stdout",
     "output_type": "stream",
     "text": [
      "[('2018-11-01 21:01:46.796', '21', '1', '44', '11', '2018', '3'), ('2018-11-01 21:05:52.796', '21', '1', '44', '11', '2018', '3'), ('2018-11-01 21:08:16.796', '21', '1', '44', '11', '2018', '3'), ('2018-11-01 21:11:13.796', '21', '1', '44', '11', '2018', '3'), ('2018-11-01 21:17:33.796', '21', '1', '44', '11', '2018', '3'), ('2018-11-01 21:24:53.796', '21', '1', '44', '11', '2018', '3'), ('2018-11-01 21:28:54.796', '21', '1', '44', '11', '2018', '3'), ('2018-11-01 21:42:00.796', '21', '1', '44', '11', '2018', '3'), ('2018-11-01 21:52:05.796', '21', '1', '44', '11', '2018', '3'), ('2018-11-01 21:55:25.796', '21', '1', '44', '11', '2018', '3'), ('2018-11-01 22:23:14.796', '22', '1', '44', '11', '2018', '3')]\n"
     ]
    }
   ],
   "source": [
    "cur.execute(\"select * from time;\")\n",
    "print(cur.fetchall())"
   ]
  },
  {
   "cell_type": "code",
   "execution_count": 13,
   "metadata": {},
   "outputs": [
    {
     "name": "stdout",
     "output_type": "stream",
     "text": [
      "[('8', 'Kaylee', 'Summers', 'F', 'free'), ('10', 'Sylvie', 'Cruz', 'F', 'free'), ('26', 'Ryan', 'Smith', 'M', 'free'), ('101', 'Jayden', 'Fox', 'M', 'free')]\n"
     ]
    }
   ],
   "source": [
    "cur.execute(\"select * from users limit 10;\")\n",
    "print(cur.fetchall())"
   ]
  },
  {
   "cell_type": "code",
   "execution_count": 15,
   "metadata": {},
   "outputs": [
    {
     "name": "stdout",
     "output_type": "stream",
     "text": [
      "[(2, '1541106106796', '8', 'free', None, None, '139', 'Phoenix-Mesa-Scottsdale, AZ', '\"Mozilla/5.0 (Windows NT 6.1; WOW64) AppleWebKit/537.36 (KHTML, like Gecko) Chrome/35.0.1916.153 Safari/537.36\"'), (4, '1541106352796', '8', 'free', None, None, '139', 'Phoenix-Mesa-Scottsdale, AZ', '\"Mozilla/5.0 (Windows NT 6.1; WOW64) AppleWebKit/537.36 (KHTML, like Gecko) Chrome/35.0.1916.153 Safari/537.36\"'), (5, '1541106496796', '8', 'free', None, None, '139', 'Phoenix-Mesa-Scottsdale, AZ', '\"Mozilla/5.0 (Windows NT 6.1; WOW64) AppleWebKit/537.36 (KHTML, like Gecko) Chrome/35.0.1916.153 Safari/537.36\"')]\n"
     ]
    }
   ],
   "source": [
    "cur.execute(\"select * from songplays limit 3;\")\n",
    "print(cur.fetchall())"
   ]
  },
  {
   "cell_type": "markdown",
   "metadata": {},
   "source": [
    " "
   ]
  },
  {
   "cell_type": "markdown",
   "metadata": {},
   "source": [
    " "
   ]
  },
  {
   "cell_type": "code",
   "execution_count": 16,
   "metadata": {},
   "outputs": [],
   "source": [
    "# close connection \n",
    "cur.close()\n",
    "conn.close() "
   ]
  },
  {
   "cell_type": "markdown",
   "metadata": {},
   "source": [
    " "
   ]
  },
  {
   "cell_type": "markdown",
   "metadata": {},
   "source": [
    "Run the `etl.py` script "
   ]
  },
  {
   "cell_type": "code",
   "execution_count": 2,
   "metadata": {},
   "outputs": [
    {
     "name": "stdout",
     "output_type": "stream",
     "text": [
      "71 files found in data/song_data\n",
      "1/71 files processed.\n",
      "2/71 files processed.\n",
      "3/71 files processed.\n",
      "4/71 files processed.\n",
      "5/71 files processed.\n",
      "6/71 files processed.\n",
      "7/71 files processed.\n",
      "8/71 files processed.\n",
      "9/71 files processed.\n",
      "10/71 files processed.\n",
      "11/71 files processed.\n",
      "12/71 files processed.\n",
      "13/71 files processed.\n",
      "14/71 files processed.\n",
      "15/71 files processed.\n",
      "16/71 files processed.\n",
      "17/71 files processed.\n",
      "18/71 files processed.\n",
      "19/71 files processed.\n",
      "20/71 files processed.\n",
      "21/71 files processed.\n",
      "22/71 files processed.\n",
      "23/71 files processed.\n",
      "24/71 files processed.\n",
      "25/71 files processed.\n",
      "26/71 files processed.\n",
      "27/71 files processed.\n",
      "28/71 files processed.\n",
      "29/71 files processed.\n",
      "30/71 files processed.\n",
      "31/71 files processed.\n",
      "32/71 files processed.\n",
      "33/71 files processed.\n",
      "34/71 files processed.\n",
      "35/71 files processed.\n",
      "36/71 files processed.\n",
      "37/71 files processed.\n",
      "38/71 files processed.\n",
      "39/71 files processed.\n",
      "40/71 files processed.\n",
      "41/71 files processed.\n",
      "42/71 files processed.\n",
      "43/71 files processed.\n",
      "44/71 files processed.\n",
      "45/71 files processed.\n",
      "46/71 files processed.\n",
      "47/71 files processed.\n",
      "48/71 files processed.\n",
      "49/71 files processed.\n",
      "50/71 files processed.\n",
      "51/71 files processed.\n",
      "52/71 files processed.\n",
      "53/71 files processed.\n",
      "54/71 files processed.\n",
      "55/71 files processed.\n",
      "56/71 files processed.\n",
      "57/71 files processed.\n",
      "58/71 files processed.\n",
      "59/71 files processed.\n",
      "60/71 files processed.\n",
      "61/71 files processed.\n",
      "62/71 files processed.\n",
      "63/71 files processed.\n",
      "64/71 files processed.\n",
      "65/71 files processed.\n",
      "66/71 files processed.\n",
      "67/71 files processed.\n",
      "68/71 files processed.\n",
      "69/71 files processed.\n",
      "70/71 files processed.\n",
      "71/71 files processed.\n",
      "30 files found in data/log_data\n",
      "1/30 files processed.\n",
      "2/30 files processed.\n",
      "3/30 files processed.\n",
      "4/30 files processed.\n",
      "5/30 files processed.\n",
      "6/30 files processed.\n",
      "7/30 files processed.\n",
      "8/30 files processed.\n",
      "9/30 files processed.\n",
      "10/30 files processed.\n",
      "11/30 files processed.\n",
      "12/30 files processed.\n",
      "13/30 files processed.\n",
      "14/30 files processed.\n",
      "15/30 files processed.\n",
      "16/30 files processed.\n",
      "17/30 files processed.\n",
      "18/30 files processed.\n",
      "19/30 files processed.\n",
      "20/30 files processed.\n",
      "21/30 files processed.\n",
      "22/30 files processed.\n",
      "23/30 files processed.\n",
      "24/30 files processed.\n",
      "25/30 files processed.\n",
      "26/30 files processed.\n",
      "27/30 files processed.\n",
      "28/30 files processed.\n",
      "29/30 files processed.\n",
      "30/30 files processed.\n"
     ]
    }
   ],
   "source": [
    "%run etl.py"
   ]
  },
  {
   "cell_type": "code",
   "execution_count": null,
   "metadata": {},
   "outputs": [],
   "source": []
  }
 ],
 "metadata": {
  "kernelspec": {
   "display_name": "Python 3",
   "language": "python",
   "name": "python3"
  },
  "language_info": {
   "codemirror_mode": {
    "name": "ipython",
    "version": 3
   },
   "file_extension": ".py",
   "mimetype": "text/x-python",
   "name": "python",
   "nbconvert_exporter": "python",
   "pygments_lexer": "ipython3",
   "version": "3.7.6"
  }
 },
 "nbformat": 4,
 "nbformat_minor": 4
}
