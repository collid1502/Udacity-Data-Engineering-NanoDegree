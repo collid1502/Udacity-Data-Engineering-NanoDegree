{
 "cells": [
  {
   "cell_type": "code",
   "execution_count": 1,
   "metadata": {
    "editable": true
   },
   "outputs": [],
   "source": [
    "# import relevant packages\n",
    "import pyspark \n",
    "from pyspark import SparkConf\n",
    "from pyspark.sql import SparkSession "
   ]
  },
  {
   "cell_type": "code",
   "execution_count": 2,
   "metadata": {
    "editable": true
   },
   "outputs": [
    {
     "name": "stdout",
     "output_type": "stream",
     "text": [
      "spark initiated\n"
     ]
    }
   ],
   "source": [
    "# initiate spark\n",
    "try:\n",
    "    spark = SparkSession \\\n",
    "        .builder \\\n",
    "        .appName(\"Datalake_Dev\") \\\n",
    "        .getOrCreate() \n",
    "    print(\"spark initiated\") \n",
    "except Exception as e:\n",
    "    print(\"spark failed\")\n",
    "    print(e) "
   ]
  },
  {
   "cell_type": "code",
   "execution_count": 3,
   "metadata": {
    "editable": true
   },
   "outputs": [
    {
     "data": {
      "text/plain": [
       "[('spark.rdd.compress', 'True'),\n",
       " ('spark.app.name', 'Datalake_Dev'),\n",
       " ('spark.serializer.objectStreamReset', '100'),\n",
       " ('spark.master', 'local[*]'),\n",
       " ('spark.executor.id', 'driver'),\n",
       " ('spark.submit.deployMode', 'client'),\n",
       " ('spark.app.id', 'local-1622733986611'),\n",
       " ('spark.driver.port', '32831'),\n",
       " ('spark.ui.showConsoleProgress', 'true'),\n",
       " ('spark.driver.host', '2508c848c488')]"
      ]
     },
     "execution_count": 3,
     "metadata": {},
     "output_type": "execute_result"
    }
   ],
   "source": [
    "# collect the context details of this spark session \n",
    "spark.sparkContext.getConf().getAll() "
   ]
  },
  {
   "cell_type": "code",
   "execution_count": 4,
   "metadata": {
    "editable": true
   },
   "outputs": [
    {
     "data": {
      "text/html": [
       "\n",
       "            <div>\n",
       "                <p><b>SparkSession - in-memory</b></p>\n",
       "                \n",
       "        <div>\n",
       "            <p><b>SparkContext</b></p>\n",
       "\n",
       "            <p><a href=\"http://2508c848c488:4040\">Spark UI</a></p>\n",
       "\n",
       "            <dl>\n",
       "              <dt>Version</dt>\n",
       "                <dd><code>v2.4.3</code></dd>\n",
       "              <dt>Master</dt>\n",
       "                <dd><code>local[*]</code></dd>\n",
       "              <dt>AppName</dt>\n",
       "                <dd><code>Datalake_Dev</code></dd>\n",
       "            </dl>\n",
       "        </div>\n",
       "        \n",
       "            </div>\n",
       "        "
      ],
      "text/plain": [
       "<pyspark.sql.session.SparkSession at 0x7fd4dfd36a20>"
      ]
     },
     "execution_count": 4,
     "metadata": {},
     "output_type": "execute_result"
    }
   ],
   "source": [
    "# check spark session details \n",
    "spark"
   ]
  },
  {
   "cell_type": "code",
   "execution_count": 5,
   "metadata": {
    "editable": true
   },
   "outputs": [],
   "source": [
    "# unzip log files & song files\n",
    "import zipfile"
   ]
  },
  {
   "cell_type": "code",
   "execution_count": 6,
   "metadata": {
    "editable": true
   },
   "outputs": [],
   "source": [
    "with zipfile.ZipFile(\"data/log-data.zip\", 'r') as zipref:\n",
    "    zipref.extractall(\"data/logs\") "
   ]
  },
  {
   "cell_type": "code",
   "execution_count": 7,
   "metadata": {
    "editable": true
   },
   "outputs": [],
   "source": [
    "with zipfile.ZipFile(\"data/song-data.zip\", 'r') as zipref2:\n",
    "    zipref2.extractall(\"data/songs\") "
   ]
  },
  {
   "cell_type": "markdown",
   "metadata": {
    "editable": true
   },
   "source": [
    "### Read test JSON files\n",
    "\n",
    "Use the \\data folder containing test file to run some example work"
   ]
  },
  {
   "cell_type": "code",
   "execution_count": 8,
   "metadata": {
    "editable": true
   },
   "outputs": [],
   "source": [
    "# set the path to all the files, use multiline option = true, read in all files\n",
    "test_path_log = \"data/logs/*.json\" \n",
    "user_log = spark.read.option(\"multiline\",\"true\").json(test_path_log) "
   ]
  },
  {
   "cell_type": "code",
   "execution_count": 9,
   "metadata": {
    "editable": true
   },
   "outputs": [
    {
     "name": "stdout",
     "output_type": "stream",
     "text": [
      "root\n",
      " |-- artist: string (nullable = true)\n",
      " |-- auth: string (nullable = true)\n",
      " |-- firstName: string (nullable = true)\n",
      " |-- gender: string (nullable = true)\n",
      " |-- itemInSession: long (nullable = true)\n",
      " |-- lastName: string (nullable = true)\n",
      " |-- length: double (nullable = true)\n",
      " |-- level: string (nullable = true)\n",
      " |-- location: string (nullable = true)\n",
      " |-- method: string (nullable = true)\n",
      " |-- page: string (nullable = true)\n",
      " |-- registration: double (nullable = true)\n",
      " |-- sessionId: long (nullable = true)\n",
      " |-- song: string (nullable = true)\n",
      " |-- status: long (nullable = true)\n",
      " |-- ts: long (nullable = true)\n",
      " |-- userAgent: string (nullable = true)\n",
      " |-- userId: string (nullable = true)\n",
      "\n"
     ]
    }
   ],
   "source": [
    "# check schema \n",
    "user_log.printSchema() "
   ]
  },
  {
   "cell_type": "code",
   "execution_count": 10,
   "metadata": {
    "editable": true
   },
   "outputs": [
    {
     "name": "stdout",
     "output_type": "stream",
     "text": [
      "+--------+---------+---------+------+-------------+--------+---------+-----+--------------------+------+--------+-----------------+---------+-------------+------+-------------+--------------------+------+\n",
      "|  artist|     auth|firstName|gender|itemInSession|lastName|   length|level|            location|method|    page|     registration|sessionId|         song|status|           ts|           userAgent|userId|\n",
      "+--------+---------+---------+------+-------------+--------+---------+-----+--------------------+------+--------+-----------------+---------+-------------+------+-------------+--------------------+------+\n",
      "|Harmonia|Logged In|     Ryan|     M|            0|   Smith|655.77751| free|San Jose-Sunnyval...|   PUT|NextSong|1.541016707796E12|      583|Sehr kosmisch|   200|1542241826796|\"Mozilla/5.0 (X11...|    26|\n",
      "+--------+---------+---------+------+-------------+--------+---------+-----+--------------------+------+--------+-----------------+---------+-------------+------+-------------+--------------------+------+\n",
      "only showing top 1 row\n",
      "\n"
     ]
    }
   ],
   "source": [
    "# check first line of dataframe \n",
    "user_log.show(n=1) "
   ]
  },
  {
   "cell_type": "markdown",
   "metadata": {
    "editable": true
   },
   "source": [
    "#### Import some useful stuff\n",
    "\n",
    "These may be needed according to etl.py"
   ]
  },
  {
   "cell_type": "code",
   "execution_count": 11,
   "metadata": {
    "editable": true
   },
   "outputs": [],
   "source": [
    "import configparser\n",
    "from datetime import datetime\n",
    "import os\n",
    "from pyspark.sql import SparkSession\n",
    "from pyspark.sql.functions import udf, col\n",
    "from pyspark.sql.functions import year, month, dayofmonth, hour, weekofyear, date_format\n",
    "import pyspark.sql.functions as F\n",
    "from pyspark.sql.types import IntegerType "
   ]
  },
  {
   "cell_type": "markdown",
   "metadata": {
    "editable": true
   },
   "source": [
    " "
   ]
  },
  {
   "cell_type": "markdown",
   "metadata": {
    "editable": true
   },
   "source": [
    "##### Step 1 - Create \"time\" table from logs data TS"
   ]
  },
  {
   "cell_type": "code",
   "execution_count": 12,
   "metadata": {
    "editable": true
   },
   "outputs": [
    {
     "name": "stdout",
     "output_type": "stream",
     "text": [
      "+--------+---------+---------+------+-------------+--------+---------+-----+--------------------+------+--------+-----------------+---------+-------------+------+-------------+--------------------+------+----------+\n",
      "|  artist|     auth|firstName|gender|itemInSession|lastName|   length|level|            location|method|    page|     registration|sessionId|         song|status|           ts|           userAgent|userId| timestamp|\n",
      "+--------+---------+---------+------+-------------+--------+---------+-----+--------------------+------+--------+-----------------+---------+-------------+------+-------------+--------------------+------+----------+\n",
      "|Harmonia|Logged In|     Ryan|     M|            0|   Smith|655.77751| free|San Jose-Sunnyval...|   PUT|NextSong|1.541016707796E12|      583|Sehr kosmisch|   200|1542241826796|\"Mozilla/5.0 (X11...|    26|1542241826|\n",
      "+--------+---------+---------+------+-------------+--------+---------+-----+--------------------+------+--------+-----------------+---------+-------------+------+-------------+--------------------+------+----------+\n",
      "only showing top 1 row\n",
      "\n"
     ]
    }
   ],
   "source": [
    "# first - we need to create a timestamp, through a UDF, from the 'ts' column in our dataframe \n",
    "get_timestamp = udf(lambda x: int(int(x)//1000)) \n",
    "user_log = user_log.withColumn(\"timestamp\", get_timestamp(user_log.ts).cast(IntegerType()))  \n",
    "user_log.show(n=1) "
   ]
  },
  {
   "cell_type": "markdown",
   "metadata": {
    "editable": true
   },
   "source": [
    " "
   ]
  },
  {
   "cell_type": "code",
   "execution_count": 13,
   "metadata": {
    "editable": true
   },
   "outputs": [
    {
     "name": "stdout",
     "output_type": "stream",
     "text": [
      "root\n",
      " |-- artist: string (nullable = true)\n",
      " |-- auth: string (nullable = true)\n",
      " |-- firstName: string (nullable = true)\n",
      " |-- gender: string (nullable = true)\n",
      " |-- itemInSession: long (nullable = true)\n",
      " |-- lastName: string (nullable = true)\n",
      " |-- length: double (nullable = true)\n",
      " |-- level: string (nullable = true)\n",
      " |-- location: string (nullable = true)\n",
      " |-- method: string (nullable = true)\n",
      " |-- page: string (nullable = true)\n",
      " |-- registration: double (nullable = true)\n",
      " |-- sessionId: long (nullable = true)\n",
      " |-- song: string (nullable = true)\n",
      " |-- status: long (nullable = true)\n",
      " |-- ts: long (nullable = true)\n",
      " |-- userAgent: string (nullable = true)\n",
      " |-- userId: string (nullable = true)\n",
      " |-- timestamp: integer (nullable = true)\n",
      "\n"
     ]
    }
   ],
   "source": [
    "# look at new schema again \n",
    "user_log.printSchema()  "
   ]
  },
  {
   "cell_type": "markdown",
   "metadata": {
    "editable": true
   },
   "source": [
    " "
   ]
  },
  {
   "cell_type": "code",
   "execution_count": 14,
   "metadata": {
    "editable": true
   },
   "outputs": [],
   "source": [
    "# Second- create UDF that collects a datetime column from the new timestamp column \n",
    "get_datetime = udf(lambda x: str(datetime.fromtimestamp(int(x)/1000.0)))  "
   ]
  },
  {
   "cell_type": "code",
   "execution_count": 15,
   "metadata": {
    "editable": true
   },
   "outputs": [
    {
     "name": "stdout",
     "output_type": "stream",
     "text": [
      "+--------+---------+---------+------+-------------+--------+---------+-----+--------------------+------+--------+-----------------+---------+-------------+------+-------------+--------------------+------+----------+--------------------+\n",
      "|  artist|     auth|firstName|gender|itemInSession|lastName|   length|level|            location|method|    page|     registration|sessionId|         song|status|           ts|           userAgent|userId| timestamp|            datetime|\n",
      "+--------+---------+---------+------+-------------+--------+---------+-----+--------------------+------+--------+-----------------+---------+-------------+------+-------------+--------------------+------+----------+--------------------+\n",
      "|Harmonia|Logged In|     Ryan|     M|            0|   Smith|655.77751| free|San Jose-Sunnyval...|   PUT|NextSong|1.541016707796E12|      583|Sehr kosmisch|   200|1542241826796|\"Mozilla/5.0 (X11...|    26|1542241826|2018-11-15 00:30:...|\n",
      "+--------+---------+---------+------+-------------+--------+---------+-----+--------------------+------+--------+-----------------+---------+-------------+------+-------------+--------------------+------+----------+--------------------+\n",
      "only showing top 1 row\n",
      "\n"
     ]
    }
   ],
   "source": [
    "user_log = user_log.withColumn('datetime', get_datetime(user_log.ts)) \n",
    "user_log.show(n=1) "
   ]
  },
  {
   "cell_type": "markdown",
   "metadata": {
    "editable": true
   },
   "source": [
    "##### Now create the time table"
   ]
  },
  {
   "cell_type": "code",
   "execution_count": 16,
   "metadata": {
    "editable": true
   },
   "outputs": [],
   "source": [
    "# place into Temp View\n",
    "user_log.createOrReplaceTempView(\"user_log_table\") "
   ]
  },
  {
   "cell_type": "code",
   "execution_count": 19,
   "metadata": {
    "editable": true
   },
   "outputs": [],
   "source": [
    "time_query = \"\"\"\n",
    "SELECT\n",
    "    a.start_time,\n",
    "    hour(a.start_time) as hour,\n",
    "    dayofmonth(a.start_time) as day,\n",
    "    weekofyear(a.start_time) as week,\n",
    "    month(a.start_time) as month,\n",
    "    year(a.start_time) as year,\n",
    "    dayofweek(a.start_time) as weekday\n",
    "    \n",
    "FROM\n",
    "    (SELECT DISTINCT \n",
    "        t1.datetime as start_time\n",
    "            FROM user_log_table as t1\n",
    "    ) as a \n",
    "ORDER BY a.start_time \n",
    "\"\"\""
   ]
  },
  {
   "cell_type": "code",
   "execution_count": 20,
   "metadata": {
    "editable": true
   },
   "outputs": [
    {
     "name": "stdout",
     "output_type": "stream",
     "text": [
      "+--------------------+----+---+----+-----+----+-------+\n",
      "|          start_time|hour|day|week|month|year|weekday|\n",
      "+--------------------+----+---+----+-----+----+-------+\n",
      "|2018-11-01 20:57:...|  20|  1|  44|   11|2018|      5|\n",
      "|2018-11-02 01:25:...|   1|  2|  44|   11|2018|      6|\n",
      "|2018-11-03 01:04:...|   1|  3|  44|   11|2018|      7|\n",
      "+--------------------+----+---+----+-----+----+-------+\n",
      "only showing top 3 rows\n",
      "\n"
     ]
    }
   ],
   "source": [
    "# run query & show results \n",
    "spark.sql(time_query).show(n=3) "
   ]
  },
  {
   "cell_type": "markdown",
   "metadata": {
    "editable": true
   },
   "source": [
    " "
   ]
  },
  {
   "cell_type": "markdown",
   "metadata": {
    "editable": true
   },
   "source": [
    "### Now lets focus on `Users` table\n",
    "\n",
    "we need:\n",
    "- user_id\n",
    "- first_name\n",
    "- last_name\n",
    "- gender\n",
    "- level "
   ]
  },
  {
   "cell_type": "code",
   "execution_count": 21,
   "metadata": {
    "editable": true
   },
   "outputs": [],
   "source": [
    "user_query = \"\"\"\n",
    "SELECT DISTINCT\n",
    "    a.userID as user_id,\n",
    "    a.firstName as first_name,\n",
    "    a.lastName as last_name,\n",
    "    a.gender,\n",
    "    a.level\n",
    "    \n",
    "FROM user_log_table as a \n",
    "WHERE \n",
    "    a.userID IS NOT NULL \n",
    "AND a.ts = (\n",
    "            SELECT MAX(b.ts) FROM user_log_table as b WHERE b.userID = a.userID\n",
    "            )  \n",
    "\"\"\""
   ]
  },
  {
   "cell_type": "code",
   "execution_count": 23,
   "metadata": {
    "editable": true
   },
   "outputs": [
    {
     "name": "stdout",
     "output_type": "stream",
     "text": [
      "+-------+----------+---------+------+-----+\n",
      "|user_id|first_name|last_name|gender|level|\n",
      "+-------+----------+---------+------+-----+\n",
      "|     37|    Jordan|    Hicks|     F| free|\n",
      "|     15|      Lily|     Koch|     F| paid|\n",
      "|     95|      Sara|  Johnson|     F| paid|\n",
      "+-------+----------+---------+------+-----+\n",
      "only showing top 3 rows\n",
      "\n"
     ]
    }
   ],
   "source": [
    "# run query & show results \n",
    "spark.sql(user_query).show(n=3) "
   ]
  },
  {
   "cell_type": "markdown",
   "metadata": {
    "editable": true
   },
   "source": [
    "---------------------"
   ]
  },
  {
   "cell_type": "markdown",
   "metadata": {
    "editable": true
   },
   "source": [
    "#### Read in songplay JSON data"
   ]
  },
  {
   "cell_type": "code",
   "execution_count": 26,
   "metadata": {
    "editable": true
   },
   "outputs": [],
   "source": [
    "import os "
   ]
  },
  {
   "cell_type": "markdown",
   "metadata": {
    "editable": true
   },
   "source": [
    "use the os.walk to go through each sub file and read all JSON files found"
   ]
  },
  {
   "cell_type": "code",
   "execution_count": 27,
   "metadata": {
    "editable": true
   },
   "outputs": [],
   "source": [
    "path = \"data/songs/song_data/\"\n",
    "songs_list = [] \n",
    "for root, directories, files in os.walk(path):\n",
    "    for file in files:\n",
    "        filepath = os.path.join(root, file) \n",
    "        if filepath.endswith('.json'):\n",
    "            songs_list.append(filepath) "
   ]
  },
  {
   "cell_type": "code",
   "execution_count": 28,
   "metadata": {
    "editable": true
   },
   "outputs": [
    {
     "name": "stdout",
     "output_type": "stream",
     "text": [
      "['data/songs/song_data/A/A/A/TRAAAAW128F429D538.json', 'data/songs/song_data/A/A/A/TRAAAVG12903CFA543.json', 'data/songs/song_data/A/A/A/TRAAARJ128F9320760.json', 'data/songs/song_data/A/A/A/TRAAAPK128E0786D96.json', 'data/songs/song_data/A/A/A/TRAAABD128F429CF47.json', 'data/songs/song_data/A/A/A/TRAAAMO128F1481E7F.json', 'data/songs/song_data/A/A/A/TRAAAMQ128F1460CD3.json', 'data/songs/song_data/A/A/A/TRAAAVO128F93133D4.json', 'data/songs/song_data/A/A/A/TRAAAEF128F4273421.json', 'data/songs/song_data/A/A/A/TRAAAFD128F92F423A.json', 'data/songs/song_data/A/A/A/TRAAADZ128F9348C2E.json', 'data/songs/song_data/A/A/B/TRAABNV128F425CEE1.json', 'data/songs/song_data/A/A/B/TRAABRB128F9306DD5.json', 'data/songs/song_data/A/A/B/TRAABLR128F423B7E3.json', 'data/songs/song_data/A/A/B/TRAABDL12903CAABBA.json', 'data/songs/song_data/A/A/B/TRAABJL12903CDCF1A.json', 'data/songs/song_data/A/A/B/TRAABVM128F92CA9DC.json', 'data/songs/song_data/A/A/B/TRAABYN12903CFD305.json', 'data/songs/song_data/A/A/B/TRAABXG128F9318EBD.json', 'data/songs/song_data/A/A/B/TRAABCL128F4286650.json', 'data/songs/song_data/A/A/B/TRAABYW128F4244559.json', 'data/songs/song_data/A/A/B/TRAABJV128F1460C49.json', 'data/songs/song_data/A/A/C/TRAACVS128E078BE39.json', 'data/songs/song_data/A/A/C/TRAACPE128F421C1B9.json', 'data/songs/song_data/A/A/C/TRAACLV128F427E123.json', 'data/songs/song_data/A/A/C/TRAACER128F4290F96.json', 'data/songs/song_data/A/A/C/TRAACTB12903CAAF15.json', 'data/songs/song_data/A/A/C/TRAACFV128F935E50B.json', 'data/songs/song_data/A/A/C/TRAACIW12903CC0F6D.json', 'data/songs/song_data/A/A/C/TRAACOW128F933E35F.json', 'data/songs/song_data/A/A/C/TRAACHN128F1489601.json', 'data/songs/song_data/A/A/C/TRAACCG128F92E8A55.json', 'data/songs/song_data/A/A/C/TRAACQT128F9331780.json', 'data/songs/song_data/A/A/C/TRAACNS128F14A2DF5.json', 'data/songs/song_data/A/A/C/TRAACSL128F93462F4.json', 'data/songs/song_data/A/A/C/TRAACZK128F4243829.json', 'data/songs/song_data/A/B/A/TRABAIO128F42938F9.json', 'data/songs/song_data/A/B/A/TRABAWW128F4250A31.json', 'data/songs/song_data/A/B/A/TRABAZH128F930419A.json', 'data/songs/song_data/A/B/A/TRABAVQ12903CBF7E0.json', 'data/songs/song_data/A/B/A/TRABAXR128F426515F.json', 'data/songs/song_data/A/B/A/TRABAXL128F424FC50.json', 'data/songs/song_data/A/B/A/TRABAFJ128F42AF24E.json', 'data/songs/song_data/A/B/A/TRABAXV128F92F6AE3.json', 'data/songs/song_data/A/B/A/TRABACN128F425B784.json', 'data/songs/song_data/A/B/A/TRABATO128F42627E9.json', 'data/songs/song_data/A/B/A/TRABAFP128F931E9A1.json', 'data/songs/song_data/A/B/B/TRABBVJ128F92F7EAA.json', 'data/songs/song_data/A/B/B/TRABBXU128F92FEF48.json', 'data/songs/song_data/A/B/B/TRABBAM128F429D223.json', 'data/songs/song_data/A/B/B/TRABBZN12903CD9297.json', 'data/songs/song_data/A/B/B/TRABBNP128F932546F.json', 'data/songs/song_data/A/B/B/TRABBOR128F4286200.json', 'data/songs/song_data/A/B/B/TRABBOP128F931B50D.json', 'data/songs/song_data/A/B/B/TRABBLU128F93349CF.json', 'data/songs/song_data/A/B/B/TRABBBV128F42967D7.json', 'data/songs/song_data/A/B/B/TRABBJE12903CDB442.json', 'data/songs/song_data/A/B/B/TRABBKX128F4285205.json', 'data/songs/song_data/A/B/B/TRABBTA128F933D304.json', 'data/songs/song_data/A/B/C/TRABCEI128F424C983.json', 'data/songs/song_data/A/B/C/TRABCUQ128E0783E2B.json', 'data/songs/song_data/A/B/C/TRABCTK128F934B224.json', 'data/songs/song_data/A/B/C/TRABCIX128F4265903.json', 'data/songs/song_data/A/B/C/TRABCEC128F426456E.json', 'data/songs/song_data/A/B/C/TRABCPZ128F4275C32.json', 'data/songs/song_data/A/B/C/TRABCXB128F4286BD3.json', 'data/songs/song_data/A/B/C/TRABCAJ12903CDFCC2.json', 'data/songs/song_data/A/B/C/TRABCFL128F149BB0D.json', 'data/songs/song_data/A/B/C/TRABCKL128F423A778.json', 'data/songs/song_data/A/B/C/TRABCRU128F423F449.json', 'data/songs/song_data/A/B/C/TRABCYE128F934CE1D.json']\n"
     ]
    }
   ],
   "source": [
    "print(songs_list) "
   ]
  },
  {
   "cell_type": "code",
   "execution_count": 29,
   "metadata": {
    "editable": true
   },
   "outputs": [],
   "source": [
    "# set the path to all the files, use multiline option = true, read in all files\n",
    "songs = spark.read.option(\"multiline\",\"true\").json(songs_list)  "
   ]
  },
  {
   "cell_type": "code",
   "execution_count": 30,
   "metadata": {
    "editable": true
   },
   "outputs": [
    {
     "name": "stdout",
     "output_type": "stream",
     "text": [
      "root\n",
      " |-- artist_id: string (nullable = true)\n",
      " |-- artist_latitude: double (nullable = true)\n",
      " |-- artist_location: string (nullable = true)\n",
      " |-- artist_longitude: double (nullable = true)\n",
      " |-- artist_name: string (nullable = true)\n",
      " |-- duration: double (nullable = true)\n",
      " |-- num_songs: long (nullable = true)\n",
      " |-- song_id: string (nullable = true)\n",
      " |-- title: string (nullable = true)\n",
      " |-- year: long (nullable = true)\n",
      "\n"
     ]
    }
   ],
   "source": [
    "songs.printSchema() "
   ]
  },
  {
   "cell_type": "code",
   "execution_count": null,
   "metadata": {
    "editable": true
   },
   "outputs": [],
   "source": []
  },
  {
   "cell_type": "code",
   "execution_count": null,
   "metadata": {
    "editable": true
   },
   "outputs": [],
   "source": []
  },
  {
   "cell_type": "code",
   "execution_count": null,
   "metadata": {
    "editable": true
   },
   "outputs": [],
   "source": [
    "spark.stop() "
   ]
  },
  {
   "cell_type": "code",
   "execution_count": null,
   "metadata": {
    "editable": true
   },
   "outputs": [],
   "source": []
  },
  {
   "cell_type": "code",
   "execution_count": null,
   "metadata": {
    "editable": true
   },
   "outputs": [],
   "source": []
  },
  {
   "cell_type": "code",
   "execution_count": null,
   "metadata": {
    "editable": true
   },
   "outputs": [],
   "source": []
  },
  {
   "cell_type": "code",
   "execution_count": null,
   "metadata": {
    "editable": true
   },
   "outputs": [],
   "source": []
  },
  {
   "cell_type": "code",
   "execution_count": null,
   "metadata": {
    "editable": true
   },
   "outputs": [],
   "source": []
  }
 ],
 "metadata": {
  "kernelspec": {
   "display_name": "Python 3",
   "language": "python",
   "name": "python3"
  },
  "language_info": {
   "codemirror_mode": {
    "name": "ipython",
    "version": 3
   },
   "file_extension": ".py",
   "mimetype": "text/x-python",
   "name": "python",
   "nbconvert_exporter": "python",
   "pygments_lexer": "ipython3",
   "version": "3.6.3"
  }
 },
 "nbformat": 4,
 "nbformat_minor": 4
}
