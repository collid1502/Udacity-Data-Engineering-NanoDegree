{
 "cells": [
  {
   "cell_type": "markdown",
   "metadata": {},
   "source": [
    "## Gather the required data sources\n",
    "\n",
    "The first stage of this project is to collect 3 different data sources:\n",
    "\n",
    "- Import the Twitter Archived Enhanced CSV file we have been passed\n",
    "- Collect the Image Predictions TSV file from Udacity servers & read in \n",
    "- Utilise a Twitter API connection to read off additional 'Likes' & 'Retweets' data for each of our tweets"
   ]
  },
  {
   "cell_type": "markdown",
   "metadata": {},
   "source": [
    "##### Twitter Archive File\n",
    "\n",
    "This file was downloaded as part of the project. This will simply be read in from filepath."
   ]
  },
  {
   "cell_type": "code",
   "execution_count": 1,
   "metadata": {},
   "outputs": [],
   "source": [
    "# Import Pandas lib to use for read in \n",
    "import pandas as pd"
   ]
  },
  {
   "cell_type": "code",
   "execution_count": 2,
   "metadata": {},
   "outputs": [],
   "source": [
    "Twitter_Archive = pd.read_csv(r\"twitter-archive-enhanced.csv\")"
   ]
  },
  {
   "cell_type": "code",
   "execution_count": 3,
   "metadata": {},
   "outputs": [
    {
     "data": {
      "text/html": [
       "<div>\n",
       "<style scoped>\n",
       "    .dataframe tbody tr th:only-of-type {\n",
       "        vertical-align: middle;\n",
       "    }\n",
       "\n",
       "    .dataframe tbody tr th {\n",
       "        vertical-align: top;\n",
       "    }\n",
       "\n",
       "    .dataframe thead th {\n",
       "        text-align: right;\n",
       "    }\n",
       "</style>\n",
       "<table border=\"1\" class=\"dataframe\">\n",
       "  <thead>\n",
       "    <tr style=\"text-align: right;\">\n",
       "      <th></th>\n",
       "      <th>tweet_id</th>\n",
       "      <th>in_reply_to_status_id</th>\n",
       "      <th>in_reply_to_user_id</th>\n",
       "      <th>timestamp</th>\n",
       "      <th>source</th>\n",
       "      <th>text</th>\n",
       "      <th>retweeted_status_id</th>\n",
       "      <th>retweeted_status_user_id</th>\n",
       "      <th>retweeted_status_timestamp</th>\n",
       "      <th>expanded_urls</th>\n",
       "      <th>rating_numerator</th>\n",
       "      <th>rating_denominator</th>\n",
       "      <th>name</th>\n",
       "      <th>doggo</th>\n",
       "      <th>floofer</th>\n",
       "      <th>pupper</th>\n",
       "      <th>puppo</th>\n",
       "    </tr>\n",
       "  </thead>\n",
       "  <tbody>\n",
       "    <tr>\n",
       "      <th>0</th>\n",
       "      <td>892420643555336193</td>\n",
       "      <td>NaN</td>\n",
       "      <td>NaN</td>\n",
       "      <td>2017-08-01 16:23:56 +0000</td>\n",
       "      <td>&lt;a href=\"http://twitter.com/download/iphone\" r...</td>\n",
       "      <td>This is Phineas. He's a mystical boy. Only eve...</td>\n",
       "      <td>NaN</td>\n",
       "      <td>NaN</td>\n",
       "      <td>NaN</td>\n",
       "      <td>https://twitter.com/dog_rates/status/892420643...</td>\n",
       "      <td>13</td>\n",
       "      <td>10</td>\n",
       "      <td>Phineas</td>\n",
       "      <td>None</td>\n",
       "      <td>None</td>\n",
       "      <td>None</td>\n",
       "      <td>None</td>\n",
       "    </tr>\n",
       "  </tbody>\n",
       "</table>\n",
       "</div>"
      ],
      "text/plain": [
       "             tweet_id  in_reply_to_status_id  in_reply_to_user_id  \\\n",
       "0  892420643555336193                    NaN                  NaN   \n",
       "\n",
       "                   timestamp  \\\n",
       "0  2017-08-01 16:23:56 +0000   \n",
       "\n",
       "                                              source  \\\n",
       "0  <a href=\"http://twitter.com/download/iphone\" r...   \n",
       "\n",
       "                                                text  retweeted_status_id  \\\n",
       "0  This is Phineas. He's a mystical boy. Only eve...                  NaN   \n",
       "\n",
       "   retweeted_status_user_id retweeted_status_timestamp  \\\n",
       "0                       NaN                        NaN   \n",
       "\n",
       "                                       expanded_urls  rating_numerator  \\\n",
       "0  https://twitter.com/dog_rates/status/892420643...                13   \n",
       "\n",
       "   rating_denominator     name doggo floofer pupper puppo  \n",
       "0                  10  Phineas  None    None   None  None  "
      ]
     },
     "execution_count": 3,
     "metadata": {},
     "output_type": "execute_result"
    }
   ],
   "source": [
    "# check data read in \n",
    "Twitter_Archive.head(1)"
   ]
  },
  {
   "cell_type": "markdown",
   "metadata": {},
   "source": [
    " "
   ]
  },
  {
   "cell_type": "markdown",
   "metadata": {},
   "source": [
    "##### Image Predictions File\n",
    "\n",
    "A neural network model has assessed some of the WeRateDogs data, then created dog breed predictions from its assessments.\n",
    "We need to access this data from the Udacity servers, which can be done via the folliwng URL:\n",
    "\n",
    "\"https://d17h27t6h515a5.cloudfront.net/topher/2017/August/599fd2ad_image-predictions/image-predictions.tsv\"\n",
    "\n",
    "*Project scope says to use requests library - so cant use the Pandas read_csv here to just access online via URL.\n",
    "This will be in order to save a copy of the file fown to my computer, and then read in.*"
   ]
  },
  {
   "cell_type": "code",
   "execution_count": 5,
   "metadata": {},
   "outputs": [],
   "source": [
    "# set the URL\n",
    "images_url = r\"https://d17h27t6h515a5.cloudfront.net/topher/2017/August/599fd2ad_image-predictions/image-predictions.tsv\"\n",
    "\n",
    "# import the requests lib\n",
    "import requests"
   ]
  },
  {
   "cell_type": "code",
   "execution_count": 5,
   "metadata": {},
   "outputs": [],
   "source": [
    "# use requests get() to access & download file \n",
    "download_file = requests.get(images_url)"
   ]
  },
  {
   "cell_type": "code",
   "execution_count": 6,
   "metadata": {},
   "outputs": [],
   "source": [
    "# write the downloaded content to a file\n",
    "with open(\"Image_Predictions.tsv\", mode='wb') as file:\n",
    "    file.write(download_file.content)"
   ]
  },
  {
   "cell_type": "code",
   "execution_count": 4,
   "metadata": {},
   "outputs": [],
   "source": [
    "# now read that file in using pandas read_csv \n",
    "Image_Pred = pd.read_csv(r\"Image_Predictions.tsv\", sep='\\t')"
   ]
  },
  {
   "cell_type": "code",
   "execution_count": 5,
   "metadata": {},
   "outputs": [
    {
     "data": {
      "text/html": [
       "<div>\n",
       "<style scoped>\n",
       "    .dataframe tbody tr th:only-of-type {\n",
       "        vertical-align: middle;\n",
       "    }\n",
       "\n",
       "    .dataframe tbody tr th {\n",
       "        vertical-align: top;\n",
       "    }\n",
       "\n",
       "    .dataframe thead th {\n",
       "        text-align: right;\n",
       "    }\n",
       "</style>\n",
       "<table border=\"1\" class=\"dataframe\">\n",
       "  <thead>\n",
       "    <tr style=\"text-align: right;\">\n",
       "      <th></th>\n",
       "      <th>tweet_id</th>\n",
       "      <th>jpg_url</th>\n",
       "      <th>img_num</th>\n",
       "      <th>p1</th>\n",
       "      <th>p1_conf</th>\n",
       "      <th>p1_dog</th>\n",
       "      <th>p2</th>\n",
       "      <th>p2_conf</th>\n",
       "      <th>p2_dog</th>\n",
       "      <th>p3</th>\n",
       "      <th>p3_conf</th>\n",
       "      <th>p3_dog</th>\n",
       "    </tr>\n",
       "  </thead>\n",
       "  <tbody>\n",
       "    <tr>\n",
       "      <th>0</th>\n",
       "      <td>666020888022790149</td>\n",
       "      <td>https://pbs.twimg.com/media/CT4udn0WwAA0aMy.jpg</td>\n",
       "      <td>1</td>\n",
       "      <td>Welsh_springer_spaniel</td>\n",
       "      <td>0.465074</td>\n",
       "      <td>True</td>\n",
       "      <td>collie</td>\n",
       "      <td>0.156665</td>\n",
       "      <td>True</td>\n",
       "      <td>Shetland_sheepdog</td>\n",
       "      <td>0.061428</td>\n",
       "      <td>True</td>\n",
       "    </tr>\n",
       "  </tbody>\n",
       "</table>\n",
       "</div>"
      ],
      "text/plain": [
       "             tweet_id                                          jpg_url  \\\n",
       "0  666020888022790149  https://pbs.twimg.com/media/CT4udn0WwAA0aMy.jpg   \n",
       "\n",
       "   img_num                      p1   p1_conf  p1_dog      p2   p2_conf  \\\n",
       "0        1  Welsh_springer_spaniel  0.465074    True  collie  0.156665   \n",
       "\n",
       "   p2_dog                 p3   p3_conf  p3_dog  \n",
       "0    True  Shetland_sheepdog  0.061428    True  "
      ]
     },
     "execution_count": 5,
     "metadata": {},
     "output_type": "execute_result"
    }
   ],
   "source": [
    "# check data read in \n",
    "Image_Pred.head(1)"
   ]
  },
  {
   "cell_type": "markdown",
   "metadata": {},
   "source": [
    " "
   ]
  },
  {
   "cell_type": "markdown",
   "metadata": {},
   "source": [
    "##### Twitter JSON data from API\n",
    "\n",
    "This step requires the Twitter API in order to leverage additional information regardings tweets we hold within the archive file imported earlier.\n",
    "\n",
    "In this step, we will access the retweet & like counts, plus anything else that may be of interest.\n",
    "\n",
    "\n",
    "`Action Plan`\n",
    "\n",
    "Use the twitter API, to collect the JSON file of each Tweet (using Tweet ID we have from the archive file).\n",
    "Each of these JSON files should be stored as their own line into a txt file. \n",
    "**This file should be called: tweet_json.txt**\n",
    "\n",
    "This, can then be read line by line into a pandas dataframe.\n",
    "\n",
    "<font color='red'>**NB: Do Not leave Twitter API keys within the project code when submitting**</font>"
   ]
  },
  {
   "cell_type": "code",
   "execution_count": null,
   "metadata": {},
   "outputs": [],
   "source": [
    "# Set up the Twitter API \n",
    "import tweepy\n",
    "\n",
    "consumer_key = ''\n",
    "consumer_secret = ''\n",
    "\n",
    "# Generate these within developer app\n",
    "access_token = ''\n",
    "access_secret = ''\n",
    "\n",
    "auth = tweepy.OAuthHandler(consumer_key, consumer_secret)\n",
    "auth.set_access_token(access_token, access_secret)\n",
    "\n",
    "api = tweepy.API(auth_handler=auth, wait_on_rate_limit=True, wait_on_rate_limit_notify=True) "
   ]
  },
  {
   "cell_type": "markdown",
   "metadata": {},
   "source": [
    "Test connection with API is working - check home timeline tweets"
   ]
  },
  {
   "cell_type": "code",
   "execution_count": null,
   "metadata": {},
   "outputs": [],
   "source": [
    "# test API is working - access home tweets - break after one \n",
    "public_tweets = api.home_timeline()\n",
    "for tweet in public_tweets:\n",
    "    print(tweet.text)\n",
    "    break"
   ]
  },
  {
   "cell_type": "markdown",
   "metadata": {},
   "source": [
    " "
   ]
  },
  {
   "cell_type": "markdown",
   "metadata": {},
   "source": [
    "Working fine. We can now proceed.\n",
    "\n",
    "First step, create a list of Tweet IDs to iterate over for API data Collection."
   ]
  },
  {
   "cell_type": "code",
   "execution_count": null,
   "metadata": {},
   "outputs": [],
   "source": [
    "Use_Tweet_IDs = Twitter_Archive['tweet_id']\n",
    "Use_Tweet_IDs.head()"
   ]
  },
  {
   "cell_type": "code",
   "execution_count": 10,
   "metadata": {},
   "outputs": [],
   "source": [
    "# import the JSON library as will be required\n",
    "import json \n",
    "\n",
    "# set a 0 counter variable & an empty list for Tweet_IDs where we cannot collect information (i.e. they have been deleted)\n",
    "tweet_counter = 0 \n",
    "failed_tweets = [] "
   ]
  },
  {
   "cell_type": "code",
   "execution_count": null,
   "metadata": {},
   "outputs": [],
   "source": [
    "with open('tweet_json.txt', 'w') as outputfile:\n",
    "    for tweet in Use_Tweet_IDs:\n",
    "        \n",
    "        # run a counter of how many tweets we are through \n",
    "        tweet_counter = tweet_counter + 1 \n",
    "        print(tweet_counter)\n",
    "        \n",
    "        # run check to see if tweet id exists ... if so, collect json info \n",
    "        try:\n",
    "            # this is the key for accessing each tweets data \n",
    "            tweet_info = api.get_status(tweet, tweet_mode='extended') \n",
    "            \n",
    "            # get each tweets json \n",
    "            tweet_json = tweet_info._json \n",
    "            \n",
    "            # dump it out as a line in the file, then use '\\n' to indicate new line \n",
    "            json.dump(tweet_json, outputfile)\n",
    "            outputfile.write('\\n') \n",
    "        \n",
    "        # else, print a message to say tweet not found. Add the ID to a fails list \n",
    "        except:\n",
    "            print(str(tweet) + \" Tweet not found\")  \n",
    "            failed_tweets.append(tweet) "
   ]
  },
  {
   "cell_type": "markdown",
   "metadata": {},
   "source": [
    "For the list of Tweet IDs that failed, convert this to a dataframe, then send to a CSV file to be saved in case of later need."
   ]
  },
  {
   "cell_type": "code",
   "execution_count": null,
   "metadata": {},
   "outputs": [],
   "source": [
    "# use pandas lib to turn failures list into a dataframe\n",
    "failures_df = pd.DataFrame({'fail_tweet_id':failed_tweets})\n",
    "\n",
    "# send failures to file \n",
    "failures_df.to_csv('tweet_failures.csv', index=False)"
   ]
  },
  {
   "cell_type": "markdown",
   "metadata": {},
   "source": [
    " "
   ]
  },
  {
   "cell_type": "markdown",
   "metadata": {},
   "source": [
    "##### Read Twitter JSON file\n",
    "\n",
    "We now need to read the Twitter JSON file back in, line by line, and build a dataframe from the information so that we can use it."
   ]
  },
  {
   "cell_type": "code",
   "execution_count": 6,
   "metadata": {},
   "outputs": [],
   "source": [
    "import json\n",
    "\n",
    "data = []\n",
    "my_data = []\n",
    "\n",
    "json_filepath = r\"tweet_json.txt\"\n",
    "with open(json_filepath) as json_file:\n",
    "    for line in json_file:\n",
    "        data.append(json.loads(line))"
   ]
  },
  {
   "cell_type": "markdown",
   "metadata": {},
   "source": [
    "For each item in the data list, iterate over and collect a dict, then append into the my_data list."
   ]
  },
  {
   "cell_type": "code",
   "execution_count": 7,
   "metadata": {},
   "outputs": [],
   "source": [
    "for i in data:\n",
    "    try:\n",
    "        was_a_retweet = i['retweeted_status']\n",
    "    except:\n",
    "        was_a_retweet = None\n",
    "        \n",
    "    my_data.append({\n",
    "                    'tweet_id': i['id'],\n",
    "                    'created_at': i['created_at'],\n",
    "                    'retweets': int(i['retweet_count']),\n",
    "                    'likes': int(i['favorite_count']),\n",
    "                    'retweet_status': was_a_retweet\n",
    "                    })"
   ]
  },
  {
   "cell_type": "code",
   "execution_count": 8,
   "metadata": {},
   "outputs": [],
   "source": [
    "# Use pandas to convert to a dataframe \n",
    "Tweet_JSON = pd.DataFrame(my_data, columns = ['tweet_id', 'created_at', 'retweets', 'likes', 'retweet_status'])"
   ]
  },
  {
   "cell_type": "code",
   "execution_count": 9,
   "metadata": {},
   "outputs": [
    {
     "data": {
      "text/html": [
       "<div>\n",
       "<style scoped>\n",
       "    .dataframe tbody tr th:only-of-type {\n",
       "        vertical-align: middle;\n",
       "    }\n",
       "\n",
       "    .dataframe tbody tr th {\n",
       "        vertical-align: top;\n",
       "    }\n",
       "\n",
       "    .dataframe thead th {\n",
       "        text-align: right;\n",
       "    }\n",
       "</style>\n",
       "<table border=\"1\" class=\"dataframe\">\n",
       "  <thead>\n",
       "    <tr style=\"text-align: right;\">\n",
       "      <th></th>\n",
       "      <th>tweet_id</th>\n",
       "      <th>created_at</th>\n",
       "      <th>retweets</th>\n",
       "      <th>likes</th>\n",
       "      <th>retweet_status</th>\n",
       "    </tr>\n",
       "  </thead>\n",
       "  <tbody>\n",
       "    <tr>\n",
       "      <th>0</th>\n",
       "      <td>892420643555336193</td>\n",
       "      <td>Tue Aug 01 16:23:56 +0000 2017</td>\n",
       "      <td>7362</td>\n",
       "      <td>35018</td>\n",
       "      <td>None</td>\n",
       "    </tr>\n",
       "  </tbody>\n",
       "</table>\n",
       "</div>"
      ],
      "text/plain": [
       "             tweet_id                      created_at  retweets  likes  \\\n",
       "0  892420643555336193  Tue Aug 01 16:23:56 +0000 2017      7362  35018   \n",
       "\n",
       "  retweet_status  \n",
       "0           None  "
      ]
     },
     "execution_count": 9,
     "metadata": {},
     "output_type": "execute_result"
    }
   ],
   "source": [
    "# run a check that data has read in correctly \n",
    "Tweet_JSON.head(1)"
   ]
  },
  {
   "cell_type": "markdown",
   "metadata": {},
   "source": [
    "<font color='Red'>*End of Data Gather Section*</font>"
   ]
  },
  {
   "cell_type": "markdown",
   "metadata": {},
   "source": [
    " "
   ]
  },
  {
   "cell_type": "markdown",
   "metadata": {},
   "source": [
    "## Assess the three data sources\n",
    "\n",
    "We now have three different data sources read in for this project:\n",
    "\n",
    "- the DataFrame **Twitter_Archive**\n",
    "- the DataFrame **Image_Pred**\n",
    "- the DataFrame **Tweet_JSON**\n",
    "\n",
    "We also have a stored CSV file listing tweet IDs for deleted tweets (based on no reponse via Twitter API) should we need to read this in.\n",
    "\n",
    "We must now begin to assess each of these datasets, looking for quality & structural issues that may need to be addressed before we can analyse & visualise this data."
   ]
  },
  {
   "cell_type": "markdown",
   "metadata": {},
   "source": [
    "### Lets tackle Twitter Archive first\n",
    "\n",
    "Some intial notes passed from the project motivation spec:\n",
    "\n",
    "- Ratings (Numerator & Denominator variables) will likely have errors with their extraction\n",
    "- Dog Names & Dog Stages may also face similar issues\n",
    "- We only want original tweets, not retweets\n",
    "- We only want posts that contained images with the tweet"
   ]
  },
  {
   "cell_type": "code",
   "execution_count": 10,
   "metadata": {},
   "outputs": [
    {
     "name": "stdout",
     "output_type": "stream",
     "text": [
      "<class 'pandas.core.frame.DataFrame'>\n",
      "RangeIndex: 2356 entries, 0 to 2355\n",
      "Data columns (total 17 columns):\n",
      " #   Column                      Non-Null Count  Dtype  \n",
      "---  ------                      --------------  -----  \n",
      " 0   tweet_id                    2356 non-null   int64  \n",
      " 1   in_reply_to_status_id       78 non-null     float64\n",
      " 2   in_reply_to_user_id         78 non-null     float64\n",
      " 3   timestamp                   2356 non-null   object \n",
      " 4   source                      2356 non-null   object \n",
      " 5   text                        2356 non-null   object \n",
      " 6   retweeted_status_id         181 non-null    float64\n",
      " 7   retweeted_status_user_id    181 non-null    float64\n",
      " 8   retweeted_status_timestamp  181 non-null    object \n",
      " 9   expanded_urls               2297 non-null   object \n",
      " 10  rating_numerator            2356 non-null   int64  \n",
      " 11  rating_denominator          2356 non-null   int64  \n",
      " 12  name                        2356 non-null   object \n",
      " 13  doggo                       2356 non-null   object \n",
      " 14  floofer                     2356 non-null   object \n",
      " 15  pupper                      2356 non-null   object \n",
      " 16  puppo                       2356 non-null   object \n",
      "dtypes: float64(4), int64(3), object(10)\n",
      "memory usage: 220.9+ KB\n"
     ]
    }
   ],
   "source": [
    "# Lets start by looking at the info for our Dataframe \n",
    "Twitter_Archive.info()"
   ]
  },
  {
   "cell_type": "markdown",
   "metadata": {},
   "source": [
    "*Some immediate notes / thoughts*:\n",
    "\n",
    "##### Potential Cleaning identified\n",
    "- `Tweet_ID` is recorded as an integer type, but we wont need it for any calculations, should be changed to object\n",
    "- The `retweeted_status_id` is a float. We are not using it for calculations so it should be a string/object. This column has 181 non-null values. This indicates 181 retweets we need to remove.\n",
    "- Expanded URLs only has 2297 non-null observations, out of 2355 records. This indicates 58 records have no picture attached and will need to be removed.\n",
    "- The `in_reply_to_status_id` is a float, but will not be used for calculations. It should be converted to a string/object data type. 78 observations are a reply to tweet, not an original, we will remove these from consideration, as we are are looking for original tweets only.\n",
    "- The `timestamp` column is an object, not a datetime, this needs to be corrected to a proper data type\n",
    "- Rating numerator & denominator are integers, not floats. This means they cannot hold decimals at present. Reasearch on We Rate Dogs rating scale does not confirm if ratings need to be whole numbers, so these may need to change data types to float.\n",
    "\n",
    "#####  Potential Tidiness identified\n",
    "- We can see there is a column for each of the \"Dog Stages\", rather than one column, with the actual stage in it, as a categorical variable. This will need to be tidied. The name and four dog stage columns are all non-null (i.e. no missing values). This needs to be checked."
   ]
  },
  {
   "cell_type": "markdown",
   "metadata": {},
   "source": [
    "### Further Assessment of Twitter Archive Data"
   ]
  },
  {
   "cell_type": "markdown",
   "metadata": {},
   "source": [
    "###### Assesment of rating numerator & rating denominator"
   ]
  },
  {
   "cell_type": "code",
   "execution_count": 11,
   "metadata": {},
   "outputs": [
    {
     "data": {
      "text/html": [
       "<div>\n",
       "<style scoped>\n",
       "    .dataframe tbody tr th:only-of-type {\n",
       "        vertical-align: middle;\n",
       "    }\n",
       "\n",
       "    .dataframe tbody tr th {\n",
       "        vertical-align: top;\n",
       "    }\n",
       "\n",
       "    .dataframe thead th {\n",
       "        text-align: right;\n",
       "    }\n",
       "</style>\n",
       "<table border=\"1\" class=\"dataframe\">\n",
       "  <thead>\n",
       "    <tr style=\"text-align: right;\">\n",
       "      <th></th>\n",
       "      <th>rating_numerator</th>\n",
       "      <th>rating_denominator</th>\n",
       "    </tr>\n",
       "  </thead>\n",
       "  <tbody>\n",
       "    <tr>\n",
       "      <th>count</th>\n",
       "      <td>2356.000000</td>\n",
       "      <td>2356.000000</td>\n",
       "    </tr>\n",
       "    <tr>\n",
       "      <th>mean</th>\n",
       "      <td>13.126486</td>\n",
       "      <td>10.455433</td>\n",
       "    </tr>\n",
       "    <tr>\n",
       "      <th>std</th>\n",
       "      <td>45.876648</td>\n",
       "      <td>6.745237</td>\n",
       "    </tr>\n",
       "    <tr>\n",
       "      <th>min</th>\n",
       "      <td>0.000000</td>\n",
       "      <td>0.000000</td>\n",
       "    </tr>\n",
       "    <tr>\n",
       "      <th>25%</th>\n",
       "      <td>10.000000</td>\n",
       "      <td>10.000000</td>\n",
       "    </tr>\n",
       "    <tr>\n",
       "      <th>50%</th>\n",
       "      <td>11.000000</td>\n",
       "      <td>10.000000</td>\n",
       "    </tr>\n",
       "    <tr>\n",
       "      <th>75%</th>\n",
       "      <td>12.000000</td>\n",
       "      <td>10.000000</td>\n",
       "    </tr>\n",
       "    <tr>\n",
       "      <th>90%</th>\n",
       "      <td>13.000000</td>\n",
       "      <td>10.000000</td>\n",
       "    </tr>\n",
       "    <tr>\n",
       "      <th>99%</th>\n",
       "      <td>21.800000</td>\n",
       "      <td>10.000000</td>\n",
       "    </tr>\n",
       "    <tr>\n",
       "      <th>max</th>\n",
       "      <td>1776.000000</td>\n",
       "      <td>170.000000</td>\n",
       "    </tr>\n",
       "  </tbody>\n",
       "</table>\n",
       "</div>"
      ],
      "text/plain": [
       "       rating_numerator  rating_denominator\n",
       "count       2356.000000         2356.000000\n",
       "mean          13.126486           10.455433\n",
       "std           45.876648            6.745237\n",
       "min            0.000000            0.000000\n",
       "25%           10.000000           10.000000\n",
       "50%           11.000000           10.000000\n",
       "75%           12.000000           10.000000\n",
       "90%           13.000000           10.000000\n",
       "99%           21.800000           10.000000\n",
       "max         1776.000000          170.000000"
      ]
     },
     "execution_count": 11,
     "metadata": {},
     "output_type": "execute_result"
    }
   ],
   "source": [
    "# For our Numerator & Denominator columns, lets run a describe and collect some summary stats. Additional percentiles 90% & 99% to be selected\n",
    "Twitter_Archive[['rating_numerator','rating_denominator']].describe(percentiles=[0.25,0.5,0.75,0.9,0.99])"
   ]
  },
  {
   "cell_type": "markdown",
   "metadata": {},
   "source": [
    "Some notes on the summary stats from the ratings:\n",
    "\n",
    "- Good to note both have a Min value of 0. This means we have no negative ratings by mistake/error.\n",
    "- The 99th percentile for numerator, and the Max value for both, indicate some potential errors. These will need to be investigated and cleaned or exlcuded.\n",
    "- The denominator should always be 10, so this presents a cleaning issue."
   ]
  },
  {
   "cell_type": "markdown",
   "metadata": {},
   "source": [
    "Lets use some value counts to check the frequency of the different ratings values."
   ]
  },
  {
   "cell_type": "code",
   "execution_count": 12,
   "metadata": {},
   "outputs": [
    {
     "data": {
      "text/plain": [
       "12      558\n",
       "11      464\n",
       "10      461\n",
       "13      351\n",
       "9       158\n",
       "8       102\n",
       "7        55\n",
       "14       54\n",
       "5        37\n",
       "6        32\n",
       "3        19\n",
       "4        17\n",
       "1         9\n",
       "2         9\n",
       "420       2\n",
       "0         2\n",
       "15        2\n",
       "75        2\n",
       "80        1\n",
       "20        1\n",
       "24        1\n",
       "26        1\n",
       "44        1\n",
       "50        1\n",
       "60        1\n",
       "165       1\n",
       "84        1\n",
       "88        1\n",
       "144       1\n",
       "182       1\n",
       "143       1\n",
       "666       1\n",
       "960       1\n",
       "1776      1\n",
       "17        1\n",
       "27        1\n",
       "45        1\n",
       "99        1\n",
       "121       1\n",
       "204       1\n",
       "Name: rating_numerator, dtype: int64"
      ]
     },
     "execution_count": 12,
     "metadata": {},
     "output_type": "execute_result"
    }
   ],
   "source": [
    "# Numerator\n",
    "Twitter_Archive['rating_numerator'].value_counts()"
   ]
  },
  {
   "cell_type": "markdown",
   "metadata": {},
   "source": [
    "Some Notes:\n",
    "\n",
    "- Looking at the frequency of numerator ratings, it suugests anything between 0 to 14 looks legitimate. This could also mean that even though 15 & 17 only appear twice/once respectively, these too may be legitimate.\n",
    "- With low volumes above 20, this may suggest we simply exclude these records from consideration, as it will not significantly impact our data size."
   ]
  },
  {
   "cell_type": "code",
   "execution_count": 13,
   "metadata": {},
   "outputs": [
    {
     "data": {
      "text/plain": [
       "10     2333\n",
       "11        3\n",
       "50        3\n",
       "80        2\n",
       "20        2\n",
       "2         1\n",
       "16        1\n",
       "40        1\n",
       "70        1\n",
       "15        1\n",
       "90        1\n",
       "110       1\n",
       "120       1\n",
       "130       1\n",
       "150       1\n",
       "170       1\n",
       "7         1\n",
       "0         1\n",
       "Name: rating_denominator, dtype: int64"
      ]
     },
     "execution_count": 13,
     "metadata": {},
     "output_type": "execute_result"
    }
   ],
   "source": [
    "# Denominator\n",
    "Twitter_Archive['rating_denominator'].value_counts()"
   ]
  },
  {
   "cell_type": "markdown",
   "metadata": {},
   "source": [
    "- We know the denominator should be 10. There is only a small number of instances where 10 is not the value, thus, we may exclude these rather than clean, as overall, the data size will not be adversely impacted."
   ]
  },
  {
   "cell_type": "markdown",
   "metadata": {},
   "source": [
    " "
   ]
  },
  {
   "cell_type": "markdown",
   "metadata": {},
   "source": [
    "###### Assesment of dog names"
   ]
  },
  {
   "cell_type": "markdown",
   "metadata": {},
   "source": [
    "Lets now take a look at the `name` column by running a count values to see which names appear most often."
   ]
  },
  {
   "cell_type": "code",
   "execution_count": 14,
   "metadata": {},
   "outputs": [
    {
     "data": {
      "text/plain": [
       "None       745\n",
       "a           55\n",
       "Charlie     12\n",
       "Oliver      11\n",
       "Lucy        11\n",
       "          ... \n",
       "Bones        1\n",
       "Chuck        1\n",
       "Kloey        1\n",
       "Ralphie      1\n",
       "Grady        1\n",
       "Name: name, Length: 957, dtype: int64"
      ]
     },
     "execution_count": 14,
     "metadata": {},
     "output_type": "execute_result"
    }
   ],
   "source": [
    "Twitter_Archive['name'].value_counts()"
   ]
  },
  {
   "cell_type": "markdown",
   "metadata": {},
   "source": [
    "Some notes from the value count on the `name` variable:\n",
    "\n",
    "- There has been a string record of 'None' rather than a genuine Null. These cases may have geuine names within the data `text` that can be extracted. This may present a cleaning opportunity.\n",
    "- The same can be said for records with 'a' recorded as a name.\n",
    "- Overall, 957 unique names occur"
   ]
  },
  {
   "cell_type": "markdown",
   "metadata": {},
   "source": [
    "###### Assesment of the four dog stage columns"
   ]
  },
  {
   "cell_type": "markdown",
   "metadata": {},
   "source": [
    "Next, let's take a look at the 4 different dog stage variables. We know that we will need to tidy these into one column. However, let's assess what the population of each looks like."
   ]
  },
  {
   "cell_type": "code",
   "execution_count": 15,
   "metadata": {},
   "outputs": [
    {
     "data": {
      "text/html": [
       "<div>\n",
       "<style scoped>\n",
       "    .dataframe tbody tr th:only-of-type {\n",
       "        vertical-align: middle;\n",
       "    }\n",
       "\n",
       "    .dataframe tbody tr th {\n",
       "        vertical-align: top;\n",
       "    }\n",
       "\n",
       "    .dataframe thead th {\n",
       "        text-align: right;\n",
       "    }\n",
       "</style>\n",
       "<table border=\"1\" class=\"dataframe\">\n",
       "  <thead>\n",
       "    <tr style=\"text-align: right;\">\n",
       "      <th></th>\n",
       "      <th>doggo</th>\n",
       "      <th>floofer</th>\n",
       "      <th>pupper</th>\n",
       "      <th>puppo</th>\n",
       "      <th>count</th>\n",
       "    </tr>\n",
       "  </thead>\n",
       "  <tbody>\n",
       "    <tr>\n",
       "      <th>0</th>\n",
       "      <td>None</td>\n",
       "      <td>None</td>\n",
       "      <td>None</td>\n",
       "      <td>None</td>\n",
       "      <td>1976</td>\n",
       "    </tr>\n",
       "    <tr>\n",
       "      <th>1</th>\n",
       "      <td>None</td>\n",
       "      <td>None</td>\n",
       "      <td>None</td>\n",
       "      <td>puppo</td>\n",
       "      <td>29</td>\n",
       "    </tr>\n",
       "    <tr>\n",
       "      <th>2</th>\n",
       "      <td>None</td>\n",
       "      <td>None</td>\n",
       "      <td>pupper</td>\n",
       "      <td>None</td>\n",
       "      <td>245</td>\n",
       "    </tr>\n",
       "    <tr>\n",
       "      <th>3</th>\n",
       "      <td>None</td>\n",
       "      <td>floofer</td>\n",
       "      <td>None</td>\n",
       "      <td>None</td>\n",
       "      <td>9</td>\n",
       "    </tr>\n",
       "    <tr>\n",
       "      <th>4</th>\n",
       "      <td>doggo</td>\n",
       "      <td>None</td>\n",
       "      <td>None</td>\n",
       "      <td>None</td>\n",
       "      <td>83</td>\n",
       "    </tr>\n",
       "    <tr>\n",
       "      <th>5</th>\n",
       "      <td>doggo</td>\n",
       "      <td>None</td>\n",
       "      <td>None</td>\n",
       "      <td>puppo</td>\n",
       "      <td>1</td>\n",
       "    </tr>\n",
       "    <tr>\n",
       "      <th>6</th>\n",
       "      <td>doggo</td>\n",
       "      <td>None</td>\n",
       "      <td>pupper</td>\n",
       "      <td>None</td>\n",
       "      <td>12</td>\n",
       "    </tr>\n",
       "    <tr>\n",
       "      <th>7</th>\n",
       "      <td>doggo</td>\n",
       "      <td>floofer</td>\n",
       "      <td>None</td>\n",
       "      <td>None</td>\n",
       "      <td>1</td>\n",
       "    </tr>\n",
       "  </tbody>\n",
       "</table>\n",
       "</div>"
      ],
      "text/plain": [
       "   doggo  floofer  pupper  puppo  count\n",
       "0   None     None    None   None   1976\n",
       "1   None     None    None  puppo     29\n",
       "2   None     None  pupper   None    245\n",
       "3   None  floofer    None   None      9\n",
       "4  doggo     None    None   None     83\n",
       "5  doggo     None    None  puppo      1\n",
       "6  doggo     None  pupper   None     12\n",
       "7  doggo  floofer    None   None      1"
      ]
     },
     "execution_count": 15,
     "metadata": {},
     "output_type": "execute_result"
    }
   ],
   "source": [
    "Twitter_Archive.groupby([\"doggo\", \"floofer\", \"pupper\", \"puppo\"]).size().reset_index().rename(columns={0: \"count\"})"
   ]
  },
  {
   "cell_type": "markdown",
   "metadata": {},
   "source": [
    "some notes from the dog stages:\n",
    "\n",
    "- Fields are either populated with observation itself, or the string 'None'\n",
    "- Will need to replace the 'None' values with an actual Null\n",
    "- Will need to try and improve the text search, see if we can better identify dog stages from tweet text\n",
    "- There 13 cases (12 + 1) where two dog stages are present for the same tweet\n",
    "- Will need to tidy the four dog stage columns into one column "
   ]
  },
  {
   "cell_type": "markdown",
   "metadata": {},
   "source": [
    "### Final Assessment Notes from Twitter Archive Data\n",
    "\n",
    "Tasks that will be required on the Twitter Archive Data:\n",
    "\n",
    "##### Cleaning Actions\n",
    "- Convert `tweet_id` from integer data type to object/string dtype \n",
    "- Convert data type of `retweeted_status_id` from float to object/string\n",
    "- Removal of cases where `retweeted_status_id` is not null. We only wish to focus on original tweets.\n",
    "- Convert data type of `in_reply_to_status_id` to object/string\n",
    "- Removal of cases where `in_reply_to_status_id` is not null. Choosing to focus on originating tweets from WeRateDogs page only.\n",
    "- The `timestamp` variable will be coverted to an actual timestamp, from its current text dtype\n",
    "- There are cases where `expanded_urls` are missing. Where this is the case, given the small number of cases relative to data size, these cases will be removed.\n",
    "- The `rating_numerator` needs to change data type to float.\n",
    "- The `rating_numerator` will need to be cleaned. Upon inspection, there are clearly values that have either been extracted from text incorrectly, or have some other error within them. It is also not clear if WeRateDogs can award ratings with decimals. With this in mind, the safe approach would be to transform the data type to float, to handle decimals that may be identifed.\n",
    "- The `rating_denominator` needs to change data type to float\n",
    "- The `rating_denominator` will need to be cleaned. There are cases where the value is not 10, which is the standard rating scale expected for WeRateDogs ratings. The data type will also be changed to float, to match with the numerator variable.\n",
    "\n",
    "- There are cases where multiple `dog_stage` exist within the same tweet. These will need to be concatenated to one observation.\n",
    "- The `dog_stage` columns will need to be cleaned, so that the 'None' string is removed. We will look at trying to identify a better text extraction for dog stages, and where we still have no stage found, ensure a proper null value is present, rather than a string 'None'.\n",
    "\n",
    "##### Tidiness Actions\n",
    "- The four `dog_stage` columns need to be tidied into one column, rather than having observations as columns instead of rows."
   ]
  },
  {
   "cell_type": "markdown",
   "metadata": {},
   "source": [
    "<font color='red'>*End of Twitter_Archive Assessment*</font>"
   ]
  },
  {
   "cell_type": "markdown",
   "metadata": {},
   "source": [
    " "
   ]
  },
  {
   "cell_type": "markdown",
   "metadata": {},
   "source": [
    "### Assessment of Image Predictions Data"
   ]
  },
  {
   "cell_type": "code",
   "execution_count": 16,
   "metadata": {},
   "outputs": [
    {
     "name": "stdout",
     "output_type": "stream",
     "text": [
      "<class 'pandas.core.frame.DataFrame'>\n",
      "RangeIndex: 2075 entries, 0 to 2074\n",
      "Data columns (total 12 columns):\n",
      " #   Column    Non-Null Count  Dtype  \n",
      "---  ------    --------------  -----  \n",
      " 0   tweet_id  2075 non-null   int64  \n",
      " 1   jpg_url   2075 non-null   object \n",
      " 2   img_num   2075 non-null   int64  \n",
      " 3   p1        2075 non-null   object \n",
      " 4   p1_conf   2075 non-null   float64\n",
      " 5   p1_dog    2075 non-null   bool   \n",
      " 6   p2        2075 non-null   object \n",
      " 7   p2_conf   2075 non-null   float64\n",
      " 8   p2_dog    2075 non-null   bool   \n",
      " 9   p3        2075 non-null   object \n",
      " 10  p3_conf   2075 non-null   float64\n",
      " 11  p3_dog    2075 non-null   bool   \n",
      "dtypes: bool(3), float64(3), int64(2), object(4)\n",
      "memory usage: 119.6+ KB\n"
     ]
    }
   ],
   "source": [
    "# Gather some immediate info of the image predictions file \n",
    "Image_Pred.info()"
   ]
  },
  {
   "cell_type": "markdown",
   "metadata": {},
   "source": [
    "Notes from info() output:\n",
    "\n",
    "- `Tweet_ID` is recorded as an integer type, but we wont need it for any calculations, so change this to a string (object)\n",
    "- 2075 records. All records appear to be non-null\n",
    "- `img_num` is classed as a integer type, however, this is actually a category variable which should only consist of values 1-4. This represents the image that has been used to create the predictions.\n",
    "- There are 3 prediction values. Each, has 3 columns containing information, an estimate at dog breed, the prediction confidence and a True/False boolean for whether the prediction is indeed a dog breed. These will need more informative variable names"
   ]
  },
  {
   "cell_type": "code",
   "execution_count": 17,
   "metadata": {},
   "outputs": [
    {
     "data": {
      "text/plain": [
       "1    1780\n",
       "2     198\n",
       "3      66\n",
       "4      31\n",
       "Name: img_num, dtype: int64"
      ]
     },
     "execution_count": 17,
     "metadata": {},
     "output_type": "execute_result"
    }
   ],
   "source": [
    "# Lets also run a check on img_num - make sure only the values 1-4 exist as expected.\n",
    "Image_Pred['img_num'].value_counts()"
   ]
  },
  {
   "cell_type": "markdown",
   "metadata": {},
   "source": [
    "The `img_num` variable looks fine and contains only the expected values. Thus, all that needs to be cleaned is it's data type."
   ]
  },
  {
   "cell_type": "markdown",
   "metadata": {},
   "source": [
    "### Final Assessment Notes from Image Predictions Data\n",
    "\n",
    "Tasks that will be required on the Image Data:\n",
    "\n",
    "##### Cleaning Actions\n",
    "- The variable `img_num` will be converted to a categorical data type. \n",
    "- The `tweet_id` column will be converted to a string/object data type\n",
    "\n",
    "##### Tidiness Actions\n",
    "- The variables `p1`,`p2`, & `p3` will be converted into one categorical variable, with the values 1 to 3.\n",
    "- The corresponding dog breed prediction, prediction confidence score & true/false boolean will be placed into their own variables aligning to each prediction category number"
   ]
  },
  {
   "cell_type": "markdown",
   "metadata": {},
   "source": [
    "<font color='red'>*End of Image_Pred Assessment*</font>"
   ]
  },
  {
   "cell_type": "markdown",
   "metadata": {},
   "source": [
    " "
   ]
  },
  {
   "cell_type": "markdown",
   "metadata": {},
   "source": [
    "### Assessment of JSON Tweet Data"
   ]
  },
  {
   "cell_type": "code",
   "execution_count": 34,
   "metadata": {},
   "outputs": [
    {
     "name": "stdout",
     "output_type": "stream",
     "text": [
      "<class 'pandas.core.frame.DataFrame'>\n",
      "RangeIndex: 4662 entries, 0 to 4661\n",
      "Data columns (total 5 columns):\n",
      " #   Column          Non-Null Count  Dtype \n",
      "---  ------          --------------  ----- \n",
      " 0   tweet_id        4662 non-null   int64 \n",
      " 1   created_at      4662 non-null   object\n",
      " 2   retweets        4662 non-null   int64 \n",
      " 3   likes           4662 non-null   int64 \n",
      " 4   retweet_status  326 non-null    object\n",
      "dtypes: int64(3), object(2)\n",
      "memory usage: 145.8+ KB\n"
     ]
    }
   ],
   "source": [
    "# let's start by gathering some basic info on the dataframe \n",
    "Tweet_JSON.info()"
   ]
  },
  {
   "cell_type": "markdown",
   "metadata": {},
   "source": [
    "Some notes from the info() gather:\n",
    "\n",
    "- `Tweet_ID` is recorded as an integer type, but we wont need it for any calculations, so we may change this to a string (object)\n",
    "- No nulls within the `tweet_id`, `created_at`, `retweets` & `likes`, which is good\n",
    "- `created_at` is currently an object (string) data type, but should be converted to a datetime\n",
    "- 163 instances where `retweet_status` is not null. We should exclude these as we are not interedted in retweets.\n",
    "- `retweets` and `likes` are the correct data type of integer, as these must be whole numbers."
   ]
  },
  {
   "cell_type": "code",
   "execution_count": 35,
   "metadata": {},
   "outputs": [
    {
     "data": {
      "text/html": [
       "<div>\n",
       "<style scoped>\n",
       "    .dataframe tbody tr th:only-of-type {\n",
       "        vertical-align: middle;\n",
       "    }\n",
       "\n",
       "    .dataframe tbody tr th {\n",
       "        vertical-align: top;\n",
       "    }\n",
       "\n",
       "    .dataframe thead th {\n",
       "        text-align: right;\n",
       "    }\n",
       "</style>\n",
       "<table border=\"1\" class=\"dataframe\">\n",
       "  <thead>\n",
       "    <tr style=\"text-align: right;\">\n",
       "      <th></th>\n",
       "      <th>retweets</th>\n",
       "      <th>likes</th>\n",
       "    </tr>\n",
       "  </thead>\n",
       "  <tbody>\n",
       "    <tr>\n",
       "      <th>count</th>\n",
       "      <td>4662.000000</td>\n",
       "      <td>4662.000000</td>\n",
       "    </tr>\n",
       "    <tr>\n",
       "      <th>mean</th>\n",
       "      <td>2589.523381</td>\n",
       "      <td>7314.099099</td>\n",
       "    </tr>\n",
       "    <tr>\n",
       "      <th>std</th>\n",
       "      <td>4379.979960</td>\n",
       "      <td>11359.360226</td>\n",
       "    </tr>\n",
       "    <tr>\n",
       "      <th>min</th>\n",
       "      <td>1.000000</td>\n",
       "      <td>0.000000</td>\n",
       "    </tr>\n",
       "    <tr>\n",
       "      <th>25%</th>\n",
       "      <td>525.000000</td>\n",
       "      <td>1267.000000</td>\n",
       "    </tr>\n",
       "    <tr>\n",
       "      <th>50%</th>\n",
       "      <td>1207.000000</td>\n",
       "      <td>3174.000000</td>\n",
       "    </tr>\n",
       "    <tr>\n",
       "      <th>75%</th>\n",
       "      <td>2998.500000</td>\n",
       "      <td>8946.250000</td>\n",
       "    </tr>\n",
       "    <tr>\n",
       "      <th>max</th>\n",
       "      <td>74317.000000</td>\n",
       "      <td>150575.000000</td>\n",
       "    </tr>\n",
       "  </tbody>\n",
       "</table>\n",
       "</div>"
      ],
      "text/plain": [
       "           retweets          likes\n",
       "count   4662.000000    4662.000000\n",
       "mean    2589.523381    7314.099099\n",
       "std     4379.979960   11359.360226\n",
       "min        1.000000       0.000000\n",
       "25%      525.000000    1267.000000\n",
       "50%     1207.000000    3174.000000\n",
       "75%     2998.500000    8946.250000\n",
       "max    74317.000000  150575.000000"
      ]
     },
     "execution_count": 35,
     "metadata": {},
     "output_type": "execute_result"
    }
   ],
   "source": [
    "# grab some summay stats on the retweets & likes, lets make sure we have no negatives or unreasonable numbers\n",
    "Tweet_JSON[['retweets','likes']].describe()"
   ]
  },
  {
   "cell_type": "markdown",
   "metadata": {},
   "source": [
    "Notes:\n",
    "\n",
    "- Min values are 1 & 0. Good news, no negative numbers (*which should not be possible*).\n",
    "- Max values are 74,317 & 150,575. These are reasonable numbers for retweets & likes, so no worries there either."
   ]
  },
  {
   "cell_type": "code",
   "execution_count": 36,
   "metadata": {},
   "outputs": [
    {
     "data": {
      "text/html": [
       "<div>\n",
       "<style scoped>\n",
       "    .dataframe tbody tr th:only-of-type {\n",
       "        vertical-align: middle;\n",
       "    }\n",
       "\n",
       "    .dataframe tbody tr th {\n",
       "        vertical-align: top;\n",
       "    }\n",
       "\n",
       "    .dataframe thead th {\n",
       "        text-align: right;\n",
       "    }\n",
       "</style>\n",
       "<table border=\"1\" class=\"dataframe\">\n",
       "  <thead>\n",
       "    <tr style=\"text-align: right;\">\n",
       "      <th></th>\n",
       "      <th>tweet_id</th>\n",
       "      <th>created_at</th>\n",
       "      <th>retweets</th>\n",
       "      <th>likes</th>\n",
       "      <th>retweet_status</th>\n",
       "    </tr>\n",
       "  </thead>\n",
       "  <tbody>\n",
       "    <tr>\n",
       "      <th>1756</th>\n",
       "      <td>677698403548192770</td>\n",
       "      <td>Fri Dec 18 03:54:25 +0000 2015</td>\n",
       "      <td>303</td>\n",
       "      <td>1171</td>\n",
       "      <td>None</td>\n",
       "    </tr>\n",
       "    <tr>\n",
       "      <th>1923</th>\n",
       "      <td>673697980713705472</td>\n",
       "      <td>Mon Dec 07 02:58:09 +0000 2015</td>\n",
       "      <td>1796</td>\n",
       "      <td>3681</td>\n",
       "      <td>None</td>\n",
       "    </tr>\n",
       "    <tr>\n",
       "      <th>490</th>\n",
       "      <td>812709060537683968</td>\n",
       "      <td>Sat Dec 24 17:18:34 +0000 2016</td>\n",
       "      <td>1410</td>\n",
       "      <td>6516</td>\n",
       "      <td>None</td>\n",
       "    </tr>\n",
       "    <tr>\n",
       "      <th>2072</th>\n",
       "      <td>670733412878163972</td>\n",
       "      <td>Sat Nov 28 22:38:01 +0000 2015</td>\n",
       "      <td>470</td>\n",
       "      <td>893</td>\n",
       "      <td>None</td>\n",
       "    </tr>\n",
       "    <tr>\n",
       "      <th>1098</th>\n",
       "      <td>730573383004487680</td>\n",
       "      <td>Thu May 12 01:40:42 +0000 2016</td>\n",
       "      <td>2027</td>\n",
       "      <td>4682</td>\n",
       "      <td>None</td>\n",
       "    </tr>\n",
       "  </tbody>\n",
       "</table>\n",
       "</div>"
      ],
      "text/plain": [
       "                tweet_id                      created_at  retweets  likes  \\\n",
       "1756  677698403548192770  Fri Dec 18 03:54:25 +0000 2015       303   1171   \n",
       "1923  673697980713705472  Mon Dec 07 02:58:09 +0000 2015      1796   3681   \n",
       "490   812709060537683968  Sat Dec 24 17:18:34 +0000 2016      1410   6516   \n",
       "2072  670733412878163972  Sat Nov 28 22:38:01 +0000 2015       470    893   \n",
       "1098  730573383004487680  Thu May 12 01:40:42 +0000 2016      2027   4682   \n",
       "\n",
       "     retweet_status  \n",
       "1756           None  \n",
       "1923           None  \n",
       "490            None  \n",
       "2072           None  \n",
       "1098           None  "
      ]
     },
     "execution_count": 36,
     "metadata": {},
     "output_type": "execute_result"
    }
   ],
   "source": [
    "# let's also look at a sample of the file just to eyeball the data \n",
    "Tweet_JSON.sample(5)"
   ]
  },
  {
   "cell_type": "markdown",
   "metadata": {},
   "source": [
    "### Final Assessment Notes from JSON Twitter Data\n",
    "\n",
    "Tasks that will be required on the JSON Data:\n",
    "\n",
    "##### Cleaning Actions\n",
    "- The variable `created_at` will need its data type converted to a datetime, rather than its current string form. \n",
    "- Where retweets are identified, through `retweet_status`, they will be removed \n",
    "- ensure `retweets` and `likes` are both data type integer\n",
    "- `tweet_id` must be changed to data type string/object\n",
    "\n",
    "##### Tidiness Actions\n",
    "- Join to main data"
   ]
  },
  {
   "cell_type": "markdown",
   "metadata": {},
   "source": [
    "<font color='red'>*End of Tweet_JSON Assessment*</font>"
   ]
  },
  {
   "cell_type": "markdown",
   "metadata": {},
   "source": [
    " "
   ]
  },
  {
   "cell_type": "markdown",
   "metadata": {},
   "source": [
    "### Actions from assessment of data sources\n",
    "\n",
    "Tasks that will be required:\n",
    "\n",
    "##### Cleaning Actions\n",
    "- Convert `tweet_id` from integer data type to object/string dtype \n",
    "- Convert data type of `retweeted_status_id` from float to object/string\n",
    "- Removal of cases where `retweeted_status_id` is not null. We only wish to focus on original tweets.\n",
    "- Convert data type of `in_reply_to_status_id` to object/string\n",
    "- Removal of cases where `in_reply_to_status_id` is not null. Choosing to focus on originating tweets from WeRateDogs page only.\n",
    "- The `timestamp` variable will be coverted to an actual timestamp, from its current text dtype\n",
    "- There are cases where `expanded_urls` are missing. Where this is the case, given the small number of cases relative to data size, these cases will be removed.\n",
    "- The `rating_numerator` needs to change data type to float, this is most appropriate for calculations & analysis\n",
    "- The `rating_numerator` will need to be cleaned. Upon inspection, there are clearly values that have either been extracted from text incorrectly, or have some other error within them. It is also not clear if WeRateDogs can award ratings with decimals. With this in mind, the safe approach would be to transform the data type to float, to handle decimals that may be identifed.\n",
    "- The `rating_denominator` needs to change data type to float, this is most appropriate for calculations & analysis\n",
    "- The `rating_denominator` will need to be cleaned. There are cases where the value is not 10, which is the standard rating scale expected for WeRateDogs ratings. The data type will also be changed to float, to match with the numerator variable.\n",
    "\n",
    "- There are cases where multiple `dog_stage` exist within the same tweet. These will need to be concatenated to one observation.\n",
    "- The `dog_stage` columns will need to be cleaned, so that the 'None' string is removed. We will look at trying to identify a better text extraction for dog stages, and where we still have no stage found, ensure a proper null value is present, rather than a string 'None'.\n",
    "- The variable `img_num` will be converted to a categorical data type. \n",
    "- The `tweet_id` column will be converted to a string/object data type\n",
    "- The variable `created_at` will need its data type converted to a datetime, rather than its current string form. \n",
    "- Where retweets are identified, through `retweet_status`, they will be removed \n",
    "- ensure `retweets` and `likes` are both data type integer\n",
    "\n",
    "##### Tidiness Actions\n",
    "- The four `dog_stage` columns need to be tidied into one column, rather than having observations as columns instead of rows.\n",
    "- The variables `p1`,`p2`, & `p3` will be converted into one categorical variable, with the values 1 to 3.\n",
    "- The corresponding dog breed prediction, prediction confidence score & true/false boolean will be placed into their own variables aligning to each prediction category number\n",
    "- Finally, all three clean datasets will be merged to create one final master data set"
   ]
  },
  {
   "cell_type": "markdown",
   "metadata": {},
   "source": [
    " "
   ]
  },
  {
   "cell_type": "markdown",
   "metadata": {},
   "source": [
    "## Clean the three data sources\n",
    "\n",
    "Now that we understand more about our three datasets, and have some summary information & notes on them, we can begin to iteratively clean & merge the data, so that we build a final dataset ready for some analysis & visualisation."
   ]
  },
  {
   "cell_type": "markdown",
   "metadata": {},
   "source": [
    "#### Lets start by creating copies of each of the three datasets, so that we can make modifications to them"
   ]
  },
  {
   "cell_type": "code",
   "execution_count": 34,
   "metadata": {},
   "outputs": [],
   "source": [
    "# Create copies of each dataset with the addition of 'clean', so that we have datasets to work with \n",
    "# without effecting the originals.\n",
    "Twitter_Archive_Clean = Twitter_Archive.copy()\n",
    "Image_Pred_Clean = Image_Pred.copy()\n",
    "Tweet_JSON_Clean = Tweet_JSON.copy()"
   ]
  },
  {
   "cell_type": "markdown",
   "metadata": {},
   "source": [
    "### Cleaning 1 - Remove all retweets & reply to status tweets from the Twitter Archive data\n",
    "\n",
    "- use the `retweeted_status_id` & `in_reply_to_status_id` to exclude retweets from the Archive dataset\n",
    "- change `retweeted_status_id` & `in_reply_to_status_id` to string dtype\n",
    "- change `in_reply_to_user_id` & `retweeted_status_user_id` to string dtype"
   ]
  },
  {
   "cell_type": "markdown",
   "metadata": {},
   "source": [
    "##### Code"
   ]
  },
  {
   "cell_type": "code",
   "execution_count": 35,
   "metadata": {
    "scrolled": true
   },
   "outputs": [],
   "source": [
    "# filter to retweet status is null only \n",
    "Twitter_Archive_Clean = Twitter_Archive_Clean[Twitter_Archive_Clean['retweeted_status_id'].isnull()]\n",
    "\n",
    "# filter out reply to status tweets\n",
    "Twitter_Archive_Clean = Twitter_Archive_Clean[Twitter_Archive_Clean['in_reply_to_status_id'].isnull()]\n",
    "\n",
    "# change retweet status data type to object/string\n",
    "Twitter_Archive_Clean.retweeted_status_id = Twitter_Archive_Clean.retweeted_status_id.astype(str)\n",
    "Twitter_Archive_Clean.retweeted_status_user_id = Twitter_Archive_Clean.retweeted_status_user_id.astype(str)\n",
    "\n",
    "# change reply status data type to object/string\n",
    "Twitter_Archive_Clean.in_reply_to_status_id = Twitter_Archive_Clean.in_reply_to_status_id.astype(str)\n",
    "Twitter_Archive_Clean.in_reply_to_user_id = Twitter_Archive_Clean.in_reply_to_user_id.astype(str)"
   ]
  },
  {
   "cell_type": "markdown",
   "metadata": {},
   "source": [
    "##### Test"
   ]
  },
  {
   "cell_type": "code",
   "execution_count": 36,
   "metadata": {},
   "outputs": [
    {
     "name": "stdout",
     "output_type": "stream",
     "text": [
      "<class 'pandas.core.frame.DataFrame'>\n",
      "Int64Index: 2097 entries, 0 to 2355\n",
      "Data columns (total 17 columns):\n",
      " #   Column                      Non-Null Count  Dtype \n",
      "---  ------                      --------------  ----- \n",
      " 0   tweet_id                    2097 non-null   int64 \n",
      " 1   in_reply_to_status_id       2097 non-null   object\n",
      " 2   in_reply_to_user_id         2097 non-null   object\n",
      " 3   timestamp                   2097 non-null   object\n",
      " 4   source                      2097 non-null   object\n",
      " 5   text                        2097 non-null   object\n",
      " 6   retweeted_status_id         2097 non-null   object\n",
      " 7   retweeted_status_user_id    2097 non-null   object\n",
      " 8   retweeted_status_timestamp  0 non-null      object\n",
      " 9   expanded_urls               2094 non-null   object\n",
      " 10  rating_numerator            2097 non-null   int64 \n",
      " 11  rating_denominator          2097 non-null   int64 \n",
      " 12  name                        2097 non-null   object\n",
      " 13  doggo                       2097 non-null   object\n",
      " 14  floofer                     2097 non-null   object\n",
      " 15  pupper                      2097 non-null   object\n",
      " 16  puppo                       2097 non-null   object\n",
      "dtypes: int64(3), object(14)\n",
      "memory usage: 180.2+ KB\n"
     ]
    }
   ],
   "source": [
    "# check the info() for retweeted status id column for non-null values\n",
    "Twitter_Archive_Clean.info()"
   ]
  },
  {
   "cell_type": "markdown",
   "metadata": {},
   "source": [
    "We can now see that 0 non-null exists for retweet id. This means we have cleared all retweets as expected."
   ]
  },
  {
   "cell_type": "markdown",
   "metadata": {},
   "source": [
    " "
   ]
  },
  {
   "cell_type": "markdown",
   "metadata": {},
   "source": [
    "### Cleaning 2 - Convert 'timestamp' to datetime in Twitter Archive\n",
    "\n",
    "- change the data type of `timestamp` to a proper datetime."
   ]
  },
  {
   "cell_type": "markdown",
   "metadata": {},
   "source": [
    "##### Code"
   ]
  },
  {
   "cell_type": "code",
   "execution_count": 37,
   "metadata": {},
   "outputs": [],
   "source": [
    "# use the pd.to_datetime to convert timestamp to a datetime \n",
    "Twitter_Archive_Clean.timestamp = pd.to_datetime(Twitter_Archive_Clean.timestamp)"
   ]
  },
  {
   "cell_type": "markdown",
   "metadata": {},
   "source": [
    "##### Test"
   ]
  },
  {
   "cell_type": "code",
   "execution_count": 38,
   "metadata": {},
   "outputs": [
    {
     "name": "stdout",
     "output_type": "stream",
     "text": [
      "<class 'pandas.core.frame.DataFrame'>\n",
      "Int64Index: 2097 entries, 0 to 2355\n",
      "Data columns (total 17 columns):\n",
      " #   Column                      Non-Null Count  Dtype              \n",
      "---  ------                      --------------  -----              \n",
      " 0   tweet_id                    2097 non-null   int64              \n",
      " 1   in_reply_to_status_id       2097 non-null   object             \n",
      " 2   in_reply_to_user_id         2097 non-null   object             \n",
      " 3   timestamp                   2097 non-null   datetime64[ns, UTC]\n",
      " 4   source                      2097 non-null   object             \n",
      " 5   text                        2097 non-null   object             \n",
      " 6   retweeted_status_id         2097 non-null   object             \n",
      " 7   retweeted_status_user_id    2097 non-null   object             \n",
      " 8   retweeted_status_timestamp  0 non-null      object             \n",
      " 9   expanded_urls               2094 non-null   object             \n",
      " 10  rating_numerator            2097 non-null   int64              \n",
      " 11  rating_denominator          2097 non-null   int64              \n",
      " 12  name                        2097 non-null   object             \n",
      " 13  doggo                       2097 non-null   object             \n",
      " 14  floofer                     2097 non-null   object             \n",
      " 15  pupper                      2097 non-null   object             \n",
      " 16  puppo                       2097 non-null   object             \n",
      "dtypes: datetime64[ns, UTC](1), int64(3), object(13)\n",
      "memory usage: 188.4+ KB\n"
     ]
    }
   ],
   "source": [
    "# check the info() for timestamp data type\n",
    "Twitter_Archive_Clean.info()"
   ]
  },
  {
   "cell_type": "markdown",
   "metadata": {},
   "source": [
    "We can now see it has been correctly converted as required."
   ]
  },
  {
   "cell_type": "markdown",
   "metadata": {},
   "source": [
    " "
   ]
  },
  {
   "cell_type": "markdown",
   "metadata": {},
   "source": [
    "### Cleaning 3 - Remove cases with a missing expanded URLs from Twitter Archive data\n",
    "\n",
    "There are a small number of cases that have missing values in the expanded URLs column. In case the missing URLs relate to an where the tweets are not rating dogs focused, I have removed as asafety measure. Given the small volume of cases, this should impact our dataset too much.\n",
    "\n",
    "- Action: remove cases where expanded URLs are missing"
   ]
  },
  {
   "cell_type": "markdown",
   "metadata": {},
   "source": [
    "##### Code"
   ]
  },
  {
   "cell_type": "code",
   "execution_count": 39,
   "metadata": {},
   "outputs": [],
   "source": [
    "Twitter_Archive_Clean = Twitter_Archive_Clean[Twitter_Archive_Clean['expanded_urls'].notnull()]"
   ]
  },
  {
   "cell_type": "markdown",
   "metadata": {},
   "source": [
    "#### Test"
   ]
  },
  {
   "cell_type": "code",
   "execution_count": 40,
   "metadata": {},
   "outputs": [
    {
     "name": "stdout",
     "output_type": "stream",
     "text": [
      "<class 'pandas.core.frame.DataFrame'>\n",
      "Int64Index: 2094 entries, 0 to 2355\n",
      "Data columns (total 17 columns):\n",
      " #   Column                      Non-Null Count  Dtype              \n",
      "---  ------                      --------------  -----              \n",
      " 0   tweet_id                    2094 non-null   int64              \n",
      " 1   in_reply_to_status_id       2094 non-null   object             \n",
      " 2   in_reply_to_user_id         2094 non-null   object             \n",
      " 3   timestamp                   2094 non-null   datetime64[ns, UTC]\n",
      " 4   source                      2094 non-null   object             \n",
      " 5   text                        2094 non-null   object             \n",
      " 6   retweeted_status_id         2094 non-null   object             \n",
      " 7   retweeted_status_user_id    2094 non-null   object             \n",
      " 8   retweeted_status_timestamp  0 non-null      object             \n",
      " 9   expanded_urls               2094 non-null   object             \n",
      " 10  rating_numerator            2094 non-null   int64              \n",
      " 11  rating_denominator          2094 non-null   int64              \n",
      " 12  name                        2094 non-null   object             \n",
      " 13  doggo                       2094 non-null   object             \n",
      " 14  floofer                     2094 non-null   object             \n",
      " 15  pupper                      2094 non-null   object             \n",
      " 16  puppo                       2094 non-null   object             \n",
      "dtypes: datetime64[ns, UTC](1), int64(3), object(13)\n",
      "memory usage: 188.1+ KB\n"
     ]
    }
   ],
   "source": [
    "# check the info() to make sure that expanded URLs when null, have been removed\n",
    "Twitter_Archive_Clean.info()"
   ]
  },
  {
   "cell_type": "markdown",
   "metadata": {},
   "source": [
    "We can see from the above, that out of the 2117 observations, all have an expanded URL which is not null."
   ]
  },
  {
   "cell_type": "markdown",
   "metadata": {},
   "source": [
    " "
   ]
  },
  {
   "cell_type": "markdown",
   "metadata": {},
   "source": [
    "### Cleaning 4 - chage the tweet id data type in Twitter Archive\n",
    "\n",
    "- change `tweet_id` data type from integer to string"
   ]
  },
  {
   "cell_type": "markdown",
   "metadata": {},
   "source": [
    "##### Code"
   ]
  },
  {
   "cell_type": "code",
   "execution_count": 41,
   "metadata": {},
   "outputs": [],
   "source": [
    "Twitter_Archive_Clean.tweet_id = Twitter_Archive_Clean.tweet_id.astype(str)"
   ]
  },
  {
   "cell_type": "markdown",
   "metadata": {},
   "source": [
    "##### Test"
   ]
  },
  {
   "cell_type": "code",
   "execution_count": 42,
   "metadata": {},
   "outputs": [
    {
     "name": "stdout",
     "output_type": "stream",
     "text": [
      "<class 'pandas.core.frame.DataFrame'>\n",
      "Int64Index: 2094 entries, 0 to 2355\n",
      "Data columns (total 17 columns):\n",
      " #   Column                      Non-Null Count  Dtype              \n",
      "---  ------                      --------------  -----              \n",
      " 0   tweet_id                    2094 non-null   object             \n",
      " 1   in_reply_to_status_id       2094 non-null   object             \n",
      " 2   in_reply_to_user_id         2094 non-null   object             \n",
      " 3   timestamp                   2094 non-null   datetime64[ns, UTC]\n",
      " 4   source                      2094 non-null   object             \n",
      " 5   text                        2094 non-null   object             \n",
      " 6   retweeted_status_id         2094 non-null   object             \n",
      " 7   retweeted_status_user_id    2094 non-null   object             \n",
      " 8   retweeted_status_timestamp  0 non-null      object             \n",
      " 9   expanded_urls               2094 non-null   object             \n",
      " 10  rating_numerator            2094 non-null   int64              \n",
      " 11  rating_denominator          2094 non-null   int64              \n",
      " 12  name                        2094 non-null   object             \n",
      " 13  doggo                       2094 non-null   object             \n",
      " 14  floofer                     2094 non-null   object             \n",
      " 15  pupper                      2094 non-null   object             \n",
      " 16  puppo                       2094 non-null   object             \n",
      "dtypes: datetime64[ns, UTC](1), int64(2), object(14)\n",
      "memory usage: 180.0+ KB\n"
     ]
    }
   ],
   "source": [
    "# check the dtype of the tweet_id - it should now state object\n",
    "Twitter_Archive_Clean.info()"
   ]
  },
  {
   "cell_type": "markdown",
   "metadata": {},
   "source": [
    " "
   ]
  },
  {
   "cell_type": "markdown",
   "metadata": {},
   "source": [
    "### Cleaning 5 - correct & clean the ratings columns in Twitter Archive\n",
    "\n",
    "- Design a better extraction method to collect ratings data from the tweet text\n",
    "- We need to ensure that both numerator & denominator are float types, to be able to handle decimals\n",
    "- Denominators should be 10, any that are not this will require cleaning\n",
    "- Numerators don't typically go higher than 20 out of 10, any above this may require inspection, cleaning or removal\n",
    "- Create new 'rating' variable, which is the division of numerator by denominator "
   ]
  },
  {
   "cell_type": "markdown",
   "metadata": {},
   "source": [
    "##### Code 1\n",
    "\n",
    "Create a copy df of just tweet id & text. Run a RegExp to extract fractions from the text.\n",
    "\n",
    "RexExp Detail\n",
    "- We want to be able to identify fractions within the text string. As such, we can break this out into smaller sub groups.\n",
    "- First, we want the pattern to the left of any \"/\". This pattern could be a mix of digits & decimals \n",
    "- Second, we want the \"/\" itself, as the separator of sub group 1 (numerator) and sub group 2 (denominator)\n",
    "- Third, we want the patter to the right of any \"/\". This pattern could be a mix of digits & decimals, though in the We Rate Dogs case, ratings are usually only out of 10.\n",
    "\n",
    "We can use the following RexExp patter, \"((?:\\d+\\.)?\\d+)\\/((?:\\d+\\.)?\\d+)\"\n",
    "\n",
    "Lets break this down:\n",
    "\n",
    "- (?:...) tells the engine to match everything encolsed within the brackets \n",
    "- then \"\\d\" tells the engine to match any digit\n",
    "- the \"+\" allows the digit search to occur as many times as possible to no match. This means multiple digits in a row can be picked up \n",
    "- the \"\\.\" part tells the engine to match for the literal \".\" in a string.\n",
    "- then, we have another \"?\", which tells the engine not to fail the regexp match, if the pattern before this question mark so far is not met. AKA, if we do not find digits to the left of a decimal point, keep going.\n",
    "- then we have the \"\\d+\", this is to say, match any number of digits in a row again. \n",
    "\n",
    "- So, with the above so far, we can pick out any cases where a decimal occurs, i.e. 12.2, or just a regular integer, i.e. 12\n",
    "\n",
    "- next, we use the \"\\/\". This tells the engine to search for the literal \"/\" - aka our fraction symbol in the text.\n",
    "- we then repeat the first regexp text before the fraction symbol which tells the engine to collect any set of digits or decimals immediately after the fraction line \n",
    "\n",
    "So, now we have a RegExp that can collect fractions from text, such as *12.1/10* or *10/15.8* or *11.1/12.2*\n",
    "\n",
    "inside the first set of brackets before the \"/\" is the first capture group. The second set of brackets after the \"/\" is the second capture group. Using the expand=True option in the str.extract() method, these capture groups can be separated to different columns."
   ]
  },
  {
   "cell_type": "code",
   "execution_count": 68,
   "metadata": {},
   "outputs": [],
   "source": [
    "# build a data frame that collect the tweet_id & text - call this ratings_clean \n",
    "ratings_clean = Twitter_Archive_Clean[['tweet_id', 'text']].copy()"
   ]
  },
  {
   "cell_type": "code",
   "execution_count": 69,
   "metadata": {},
   "outputs": [],
   "source": [
    "# now, from the ratings_clean df, use a RegExp to extract fractions with decimals \n",
    "ratings_clean_2 = ratings_clean.text.str.extract('((?:\\d+\\.)?\\d+)\\/((?:\\d+\\.)?\\d+)', expand=True)\n",
    "\n",
    "# label these columns 'new_numerator' & 'new_denominator' \n",
    "ratings_clean_2.columns = ['new_numerator', 'new_denominator']"
   ]
  },
  {
   "cell_type": "code",
   "execution_count": 70,
   "metadata": {},
   "outputs": [],
   "source": [
    "# merge these new ratings variables back to ratings_clean data frame through a merge on the dataset indexes \n",
    "ratings_clean = pd.merge(ratings_clean, ratings_clean_2, left_index=True, right_index=True)"
   ]
  },
  {
   "cell_type": "code",
   "execution_count": 73,
   "metadata": {},
   "outputs": [],
   "source": [
    "# ensure the ratings columns have the right data types. Convert to floats.\n",
    "ratings_clean.new_numerator = ratings_clean.new_numerator.astype(float)\n",
    "ratings_clean.new_denominator = ratings_clean.new_denominator.astype(float)"
   ]
  },
  {
   "cell_type": "code",
   "execution_count": 75,
   "metadata": {},
   "outputs": [],
   "source": [
    "# create a new ratings column - rating - which is the division of numerator by denominator \n",
    "ratings_clean['rating'] = ratings_clean['new_numerator']/ratings_clean['new_denominator']"
   ]
  },
  {
   "cell_type": "markdown",
   "metadata": {},
   "source": [
    "###### Test 1"
   ]
  },
  {
   "cell_type": "code",
   "execution_count": 76,
   "metadata": {},
   "outputs": [
    {
     "data": {
      "text/html": [
       "<div>\n",
       "<style scoped>\n",
       "    .dataframe tbody tr th:only-of-type {\n",
       "        vertical-align: middle;\n",
       "    }\n",
       "\n",
       "    .dataframe tbody tr th {\n",
       "        vertical-align: top;\n",
       "    }\n",
       "\n",
       "    .dataframe thead th {\n",
       "        text-align: right;\n",
       "    }\n",
       "</style>\n",
       "<table border=\"1\" class=\"dataframe\">\n",
       "  <thead>\n",
       "    <tr style=\"text-align: right;\">\n",
       "      <th></th>\n",
       "      <th>tweet_id</th>\n",
       "      <th>text</th>\n",
       "      <th>new_numerator</th>\n",
       "      <th>new_denominator</th>\n",
       "      <th>rating</th>\n",
       "    </tr>\n",
       "  </thead>\n",
       "  <tbody>\n",
       "    <tr>\n",
       "      <th>0</th>\n",
       "      <td>892420643555336193</td>\n",
       "      <td>This is Phineas. He's a mystical boy. Only ever appears in the hole of a donut. 13/10 https://t.co/MgUWQ76dJU</td>\n",
       "      <td>13.0</td>\n",
       "      <td>10.0</td>\n",
       "      <td>1.3</td>\n",
       "    </tr>\n",
       "    <tr>\n",
       "      <th>1</th>\n",
       "      <td>892177421306343426</td>\n",
       "      <td>This is Tilly. She's just checking pup on you. Hopes you're doing ok. If not, she's available for pats, snugs, boops, the whole bit. 13/10 https://t.co/0Xxu71qeIV</td>\n",
       "      <td>13.0</td>\n",
       "      <td>10.0</td>\n",
       "      <td>1.3</td>\n",
       "    </tr>\n",
       "    <tr>\n",
       "      <th>2</th>\n",
       "      <td>891815181378084864</td>\n",
       "      <td>This is Archie. He is a rare Norwegian Pouncing Corgo. Lives in the tall grass. You never know when one may strike. 12/10 https://t.co/wUnZnhtVJB</td>\n",
       "      <td>12.0</td>\n",
       "      <td>10.0</td>\n",
       "      <td>1.2</td>\n",
       "    </tr>\n",
       "  </tbody>\n",
       "</table>\n",
       "</div>"
      ],
      "text/plain": [
       "             tweet_id  \\\n",
       "0  892420643555336193   \n",
       "1  892177421306343426   \n",
       "2  891815181378084864   \n",
       "\n",
       "                                                                                                                                                                 text  \\\n",
       "0                                                       This is Phineas. He's a mystical boy. Only ever appears in the hole of a donut. 13/10 https://t.co/MgUWQ76dJU   \n",
       "1  This is Tilly. She's just checking pup on you. Hopes you're doing ok. If not, she's available for pats, snugs, boops, the whole bit. 13/10 https://t.co/0Xxu71qeIV   \n",
       "2                   This is Archie. He is a rare Norwegian Pouncing Corgo. Lives in the tall grass. You never know when one may strike. 12/10 https://t.co/wUnZnhtVJB   \n",
       "\n",
       "   new_numerator  new_denominator  rating  \n",
       "0           13.0             10.0     1.3  \n",
       "1           13.0             10.0     1.3  \n",
       "2           12.0             10.0     1.2  "
      ]
     },
     "execution_count": 76,
     "metadata": {},
     "output_type": "execute_result"
    }
   ],
   "source": [
    "pd.set_option('display.max_colwidth', None) # removes column width restriction\n",
    "\n",
    "# check top 3 lines of result data frame - make sure we have tweet_id, text, new_numerator & new_denominator\n",
    "ratings_clean.head(3)"
   ]
  },
  {
   "cell_type": "code",
   "execution_count": 77,
   "metadata": {},
   "outputs": [
    {
     "name": "stdout",
     "output_type": "stream",
     "text": [
      "<class 'pandas.core.frame.DataFrame'>\n",
      "Int64Index: 2094 entries, 0 to 2355\n",
      "Data columns (total 5 columns):\n",
      " #   Column           Non-Null Count  Dtype  \n",
      "---  ------           --------------  -----  \n",
      " 0   tweet_id         2094 non-null   object \n",
      " 1   text             2094 non-null   object \n",
      " 2   new_numerator    2094 non-null   float64\n",
      " 3   new_denominator  2094 non-null   float64\n",
      " 4   rating           2094 non-null   float64\n",
      "dtypes: float64(3), object(2)\n",
      "memory usage: 145.8+ KB\n"
     ]
    }
   ],
   "source": [
    "# collect info() on data frame to check data types are correct. Should be objects foe tweet_id & text, floats for ratings.\n",
    "ratings_clean.info()"
   ]
  },
  {
   "cell_type": "markdown",
   "metadata": {},
   "source": [
    " "
   ]
  },
  {
   "cell_type": "markdown",
   "metadata": {},
   "source": [
    "##### Code 2\n",
    "\n",
    "use a describe() on the ratings column from our dataset, to help identify outliers or potentially incorrect values."
   ]
  },
  {
   "cell_type": "code",
   "execution_count": 84,
   "metadata": {},
   "outputs": [
    {
     "data": {
      "text/plain": [
       "count    2094.000000\n",
       "mean        1.165263\n",
       "std         3.966068\n",
       "min         0.000000\n",
       "25%         1.000000\n",
       "50%         1.100000\n",
       "75%         1.200000\n",
       "90%         1.300000\n",
       "99%         1.400000\n",
       "max       177.600000\n",
       "Name: rating, dtype: float64"
      ]
     },
     "execution_count": 84,
     "metadata": {},
     "output_type": "execute_result"
    }
   ],
   "source": [
    "ratings_clean['rating'].describe(percentiles= [0.25,0.5,0.75,0.9,0.99])"
   ]
  },
  {
   "cell_type": "markdown",
   "metadata": {},
   "source": [
    "- We can see the Min value is 0. Good, means we have no negative ratings which should not happen.\n",
    "- We can see the 99th percentile is up to 1.4 so lets bring back all tweets where the rating is over 1.4"
   ]
  },
  {
   "cell_type": "code",
   "execution_count": 85,
   "metadata": {},
   "outputs": [
    {
     "data": {
      "text/html": [
       "<div>\n",
       "<style scoped>\n",
       "    .dataframe tbody tr th:only-of-type {\n",
       "        vertical-align: middle;\n",
       "    }\n",
       "\n",
       "    .dataframe tbody tr th {\n",
       "        vertical-align: top;\n",
       "    }\n",
       "\n",
       "    .dataframe thead th {\n",
       "        text-align: right;\n",
       "    }\n",
       "</style>\n",
       "<table border=\"1\" class=\"dataframe\">\n",
       "  <thead>\n",
       "    <tr style=\"text-align: right;\">\n",
       "      <th></th>\n",
       "      <th>tweet_id</th>\n",
       "      <th>text</th>\n",
       "      <th>new_numerator</th>\n",
       "      <th>new_denominator</th>\n",
       "      <th>rating</th>\n",
       "    </tr>\n",
       "  </thead>\n",
       "  <tbody>\n",
       "    <tr>\n",
       "      <th>516</th>\n",
       "      <td>810984652412424192</td>\n",
       "      <td>Meet Sam. She smiles 24/7 &amp;amp; secretly aspires to be a reindeer. \\nKeep Sam smiling by clicking and sharing this link:\\nhttps://t.co/98tB8y7y7t https://t.co/LouL5vdvxx</td>\n",
       "      <td>24.0</td>\n",
       "      <td>7.0</td>\n",
       "      <td>3.428571</td>\n",
       "    </tr>\n",
       "    <tr>\n",
       "      <th>979</th>\n",
       "      <td>749981277374128128</td>\n",
       "      <td>This is Atticus. He's quite simply America af. 1776/10 https://t.co/GRXwMxLBkh</td>\n",
       "      <td>1776.0</td>\n",
       "      <td>10.0</td>\n",
       "      <td>177.600000</td>\n",
       "    </tr>\n",
       "    <tr>\n",
       "      <th>2074</th>\n",
       "      <td>670842764863651840</td>\n",
       "      <td>After so many requests... here you go.\\n\\nGood dogg. 420/10 https://t.co/yfAAo1gdeY</td>\n",
       "      <td>420.0</td>\n",
       "      <td>10.0</td>\n",
       "      <td>42.000000</td>\n",
       "    </tr>\n",
       "  </tbody>\n",
       "</table>\n",
       "</div>"
      ],
      "text/plain": [
       "                tweet_id  \\\n",
       "516   810984652412424192   \n",
       "979   749981277374128128   \n",
       "2074  670842764863651840   \n",
       "\n",
       "                                                                                                                                                                           text  \\\n",
       "516   Meet Sam. She smiles 24/7 &amp; secretly aspires to be a reindeer. \\nKeep Sam smiling by clicking and sharing this link:\\nhttps://t.co/98tB8y7y7t https://t.co/LouL5vdvxx   \n",
       "979                                                                                              This is Atticus. He's quite simply America af. 1776/10 https://t.co/GRXwMxLBkh   \n",
       "2074                                                                                        After so many requests... here you go.\\n\\nGood dogg. 420/10 https://t.co/yfAAo1gdeY   \n",
       "\n",
       "      new_numerator  new_denominator      rating  \n",
       "516            24.0              7.0    3.428571  \n",
       "979          1776.0             10.0  177.600000  \n",
       "2074          420.0             10.0   42.000000  "
      ]
     },
     "execution_count": 85,
     "metadata": {},
     "output_type": "execute_result"
    }
   ],
   "source": [
    "# rating above 1.4\n",
    "ratings_clean.loc[ratings_clean['rating'] > 1.4]"
   ]
  },
  {
   "cell_type": "markdown",
   "metadata": {},
   "source": [
    "We can see from the output above, these tweets contain fractions that are not actual ratings, but jokes celebrating holidays or other events. We will change the values of the numerator, denominator & rating to Null."
   ]
  },
  {
   "cell_type": "code",
   "execution_count": 86,
   "metadata": {},
   "outputs": [],
   "source": [
    "rating_to_correct = [516, 979, 2074]\n",
    "\n",
    "for rating in rating_to_correct:\n",
    "    ratings_clean.at[rating, 'new_numerator'] = None\n",
    "    ratings_clean.at[rating, 'new_denominator'] = None\n",
    "    ratings_clean.at[rating, 'rating'] = None"
   ]
  },
  {
   "cell_type": "markdown",
   "metadata": {},
   "source": [
    "##### Test 2\n",
    "\n",
    "pull up one of these tweets, make sure the rating variables are now null."
   ]
  },
  {
   "cell_type": "code",
   "execution_count": 87,
   "metadata": {},
   "outputs": [
    {
     "data": {
      "text/html": [
       "<div>\n",
       "<style scoped>\n",
       "    .dataframe tbody tr th:only-of-type {\n",
       "        vertical-align: middle;\n",
       "    }\n",
       "\n",
       "    .dataframe tbody tr th {\n",
       "        vertical-align: top;\n",
       "    }\n",
       "\n",
       "    .dataframe thead th {\n",
       "        text-align: right;\n",
       "    }\n",
       "</style>\n",
       "<table border=\"1\" class=\"dataframe\">\n",
       "  <thead>\n",
       "    <tr style=\"text-align: right;\">\n",
       "      <th></th>\n",
       "      <th>tweet_id</th>\n",
       "      <th>text</th>\n",
       "      <th>new_numerator</th>\n",
       "      <th>new_denominator</th>\n",
       "      <th>rating</th>\n",
       "    </tr>\n",
       "  </thead>\n",
       "  <tbody>\n",
       "    <tr>\n",
       "      <th>516</th>\n",
       "      <td>810984652412424192</td>\n",
       "      <td>Meet Sam. She smiles 24/7 &amp;amp; secretly aspires to be a reindeer. \\nKeep Sam smiling by clicking and sharing this link:\\nhttps://t.co/98tB8y7y7t https://t.co/LouL5vdvxx</td>\n",
       "      <td>NaN</td>\n",
       "      <td>NaN</td>\n",
       "      <td>NaN</td>\n",
       "    </tr>\n",
       "  </tbody>\n",
       "</table>\n",
       "</div>"
      ],
      "text/plain": [
       "               tweet_id  \\\n",
       "516  810984652412424192   \n",
       "\n",
       "                                                                                                                                                                          text  \\\n",
       "516  Meet Sam. She smiles 24/7 &amp; secretly aspires to be a reindeer. \\nKeep Sam smiling by clicking and sharing this link:\\nhttps://t.co/98tB8y7y7t https://t.co/LouL5vdvxx   \n",
       "\n",
       "     new_numerator  new_denominator  rating  \n",
       "516            NaN              NaN     NaN  "
      ]
     },
     "execution_count": 87,
     "metadata": {},
     "output_type": "execute_result"
    }
   ],
   "source": [
    "ratings_clean.loc[ratings_clean['tweet_id'] == \"810984652412424192\"]"
   ]
  },
  {
   "cell_type": "markdown",
   "metadata": {},
   "source": [
    " "
   ]
  },
  {
   "cell_type": "markdown",
   "metadata": {},
   "source": [
    "##### Code 3\n",
    "\n",
    "Check the denominators. We know that the rating scale should really be a score out of 10. Lets check for value counts where the denominator is not = 10."
   ]
  },
  {
   "cell_type": "code",
   "execution_count": 88,
   "metadata": {},
   "outputs": [
    {
     "data": {
      "text/plain": [
       "50.0     3\n",
       "80.0     2\n",
       "11.0     2\n",
       "2.0      1\n",
       "120.0    1\n",
       "110.0    1\n",
       "40.0     1\n",
       "90.0     1\n",
       "20.0     1\n",
       "170.0    1\n",
       "150.0    1\n",
       "70.0     1\n",
       "Name: new_denominator, dtype: int64"
      ]
     },
     "execution_count": 88,
     "metadata": {},
     "output_type": "execute_result"
    }
   ],
   "source": [
    "check = ratings_clean.loc[ratings_clean['new_denominator'] != 10]\n",
    "check.new_denominator.value_counts()"
   ]
  },
  {
   "cell_type": "markdown",
   "metadata": {},
   "source": [
    "We have 16 cases where the denominator is not 10. Let's take a look."
   ]
  },
  {
   "cell_type": "code",
   "execution_count": 90,
   "metadata": {},
   "outputs": [
    {
     "data": {
      "text/html": [
       "<div>\n",
       "<style scoped>\n",
       "    .dataframe tbody tr th:only-of-type {\n",
       "        vertical-align: middle;\n",
       "    }\n",
       "\n",
       "    .dataframe tbody tr th {\n",
       "        vertical-align: top;\n",
       "    }\n",
       "\n",
       "    .dataframe thead th {\n",
       "        text-align: right;\n",
       "    }\n",
       "</style>\n",
       "<table border=\"1\" class=\"dataframe\">\n",
       "  <thead>\n",
       "    <tr style=\"text-align: right;\">\n",
       "      <th></th>\n",
       "      <th>tweet_id</th>\n",
       "      <th>text</th>\n",
       "      <th>new_numerator</th>\n",
       "      <th>new_denominator</th>\n",
       "      <th>rating</th>\n",
       "    </tr>\n",
       "  </thead>\n",
       "  <tbody>\n",
       "    <tr>\n",
       "      <th>433</th>\n",
       "      <td>820690176645140481</td>\n",
       "      <td>The floofs have been released I repeat the floofs have been released. 84/70 https://t.co/NIYC820tmd</td>\n",
       "      <td>84.0</td>\n",
       "      <td>70.0</td>\n",
       "      <td>1.200000</td>\n",
       "    </tr>\n",
       "    <tr>\n",
       "      <th>516</th>\n",
       "      <td>810984652412424192</td>\n",
       "      <td>Meet Sam. She smiles 24/7 &amp;amp; secretly aspires to be a reindeer. \\nKeep Sam smiling by clicking and sharing this link:\\nhttps://t.co/98tB8y7y7t https://t.co/LouL5vdvxx</td>\n",
       "      <td>NaN</td>\n",
       "      <td>NaN</td>\n",
       "      <td>NaN</td>\n",
       "    </tr>\n",
       "    <tr>\n",
       "      <th>902</th>\n",
       "      <td>758467244762497024</td>\n",
       "      <td>Why does this never happen at my front door... 165/150 https://t.co/HmwrdfEfUE</td>\n",
       "      <td>165.0</td>\n",
       "      <td>150.0</td>\n",
       "      <td>1.100000</td>\n",
       "    </tr>\n",
       "    <tr>\n",
       "      <th>979</th>\n",
       "      <td>749981277374128128</td>\n",
       "      <td>This is Atticus. He's quite simply America af. 1776/10 https://t.co/GRXwMxLBkh</td>\n",
       "      <td>NaN</td>\n",
       "      <td>NaN</td>\n",
       "      <td>NaN</td>\n",
       "    </tr>\n",
       "    <tr>\n",
       "      <th>1068</th>\n",
       "      <td>740373189193256964</td>\n",
       "      <td>After so many requests, this is Bretagne. She was the last surviving 9/11 search dog, and our second ever 14/10. RIP https://t.co/XAVDNDaVgQ</td>\n",
       "      <td>9.0</td>\n",
       "      <td>11.0</td>\n",
       "      <td>0.818182</td>\n",
       "    </tr>\n",
       "    <tr>\n",
       "      <th>1120</th>\n",
       "      <td>731156023742988288</td>\n",
       "      <td>Say hello to this unbelievably well behaved squad of doggos. 204/170 would try to pet all at once https://t.co/yGQI3He3xv</td>\n",
       "      <td>204.0</td>\n",
       "      <td>170.0</td>\n",
       "      <td>1.200000</td>\n",
       "    </tr>\n",
       "    <tr>\n",
       "      <th>1165</th>\n",
       "      <td>722974582966214656</td>\n",
       "      <td>Happy 4/20 from the squad! 13/10 for all https://t.co/eV1diwds8a</td>\n",
       "      <td>4.0</td>\n",
       "      <td>20.0</td>\n",
       "      <td>0.200000</td>\n",
       "    </tr>\n",
       "    <tr>\n",
       "      <th>1202</th>\n",
       "      <td>716439118184652801</td>\n",
       "      <td>This is Bluebert. He just saw that both #FinalFur match ups are split 50/50. Amazed af. 11/10 https://t.co/Kky1DPG4iq</td>\n",
       "      <td>50.0</td>\n",
       "      <td>50.0</td>\n",
       "      <td>1.000000</td>\n",
       "    </tr>\n",
       "    <tr>\n",
       "      <th>1228</th>\n",
       "      <td>713900603437621249</td>\n",
       "      <td>Happy Saturday here's 9 puppers on a bench. 99/90 good work everybody https://t.co/mpvaVxKmc1</td>\n",
       "      <td>99.0</td>\n",
       "      <td>90.0</td>\n",
       "      <td>1.100000</td>\n",
       "    </tr>\n",
       "    <tr>\n",
       "      <th>1254</th>\n",
       "      <td>710658690886586372</td>\n",
       "      <td>Here's a brigade of puppers. All look very prepared for whatever happens next. 80/80 https://t.co/0eb7R1Om12</td>\n",
       "      <td>80.0</td>\n",
       "      <td>80.0</td>\n",
       "      <td>1.000000</td>\n",
       "    </tr>\n",
       "    <tr>\n",
       "      <th>1274</th>\n",
       "      <td>709198395643068416</td>\n",
       "      <td>From left to right:\\nCletus, Jerome, Alejandro, Burp, &amp;amp; Titson\\nNone know where camera is. 45/50 would hug all at once https://t.co/sedre1ivTK</td>\n",
       "      <td>45.0</td>\n",
       "      <td>50.0</td>\n",
       "      <td>0.900000</td>\n",
       "    </tr>\n",
       "    <tr>\n",
       "      <th>1351</th>\n",
       "      <td>704054845121142784</td>\n",
       "      <td>Here is a whole flock of puppers.  60/50 I'll take the lot https://t.co/9dpcw6MdWa</td>\n",
       "      <td>60.0</td>\n",
       "      <td>50.0</td>\n",
       "      <td>1.200000</td>\n",
       "    </tr>\n",
       "    <tr>\n",
       "      <th>1433</th>\n",
       "      <td>697463031882764288</td>\n",
       "      <td>Happy Wednesday here's a bucket of pups. 44/40 would pet all at once https://t.co/HppvrYuamZ</td>\n",
       "      <td>44.0</td>\n",
       "      <td>40.0</td>\n",
       "      <td>1.100000</td>\n",
       "    </tr>\n",
       "    <tr>\n",
       "      <th>1635</th>\n",
       "      <td>684222868335505415</td>\n",
       "      <td>Someone help the girl is being mugged. Several are distracting her while two steal her shoes. Clever puppers 121/110 https://t.co/1zfnTJLt55</td>\n",
       "      <td>121.0</td>\n",
       "      <td>110.0</td>\n",
       "      <td>1.100000</td>\n",
       "    </tr>\n",
       "    <tr>\n",
       "      <th>1662</th>\n",
       "      <td>682962037429899265</td>\n",
       "      <td>This is Darrel. He just robbed a 7/11 and is in a high speed police chase. Was just spotted by the helicopter 10/10 https://t.co/7EsP8LmSp5</td>\n",
       "      <td>7.0</td>\n",
       "      <td>11.0</td>\n",
       "      <td>0.636364</td>\n",
       "    </tr>\n",
       "    <tr>\n",
       "      <th>1779</th>\n",
       "      <td>677716515794329600</td>\n",
       "      <td>IT'S PUPPERGEDDON. Total of 144/120 ...I think https://t.co/ZanVtAtvIq</td>\n",
       "      <td>144.0</td>\n",
       "      <td>120.0</td>\n",
       "      <td>1.200000</td>\n",
       "    </tr>\n",
       "    <tr>\n",
       "      <th>1843</th>\n",
       "      <td>675853064436391936</td>\n",
       "      <td>Here we have an entire platoon of puppers. Total score: 88/80 would pet all at once https://t.co/y93p6FLvVw</td>\n",
       "      <td>88.0</td>\n",
       "      <td>80.0</td>\n",
       "      <td>1.100000</td>\n",
       "    </tr>\n",
       "    <tr>\n",
       "      <th>2074</th>\n",
       "      <td>670842764863651840</td>\n",
       "      <td>After so many requests... here you go.\\n\\nGood dogg. 420/10 https://t.co/yfAAo1gdeY</td>\n",
       "      <td>NaN</td>\n",
       "      <td>NaN</td>\n",
       "      <td>NaN</td>\n",
       "    </tr>\n",
       "    <tr>\n",
       "      <th>2335</th>\n",
       "      <td>666287406224695296</td>\n",
       "      <td>This is an Albanian 3 1/2 legged  Episcopalian. Loves well-polished hardwood flooring. Penis on the collar. 9/10 https://t.co/d9NcXFKwLv</td>\n",
       "      <td>1.0</td>\n",
       "      <td>2.0</td>\n",
       "      <td>0.500000</td>\n",
       "    </tr>\n",
       "  </tbody>\n",
       "</table>\n",
       "</div>"
      ],
      "text/plain": [
       "                tweet_id  \\\n",
       "433   820690176645140481   \n",
       "516   810984652412424192   \n",
       "902   758467244762497024   \n",
       "979   749981277374128128   \n",
       "1068  740373189193256964   \n",
       "1120  731156023742988288   \n",
       "1165  722974582966214656   \n",
       "1202  716439118184652801   \n",
       "1228  713900603437621249   \n",
       "1254  710658690886586372   \n",
       "1274  709198395643068416   \n",
       "1351  704054845121142784   \n",
       "1433  697463031882764288   \n",
       "1635  684222868335505415   \n",
       "1662  682962037429899265   \n",
       "1779  677716515794329600   \n",
       "1843  675853064436391936   \n",
       "2074  670842764863651840   \n",
       "2335  666287406224695296   \n",
       "\n",
       "                                                                                                                                                                           text  \\\n",
       "433                                                                         The floofs have been released I repeat the floofs have been released. 84/70 https://t.co/NIYC820tmd   \n",
       "516   Meet Sam. She smiles 24/7 &amp; secretly aspires to be a reindeer. \\nKeep Sam smiling by clicking and sharing this link:\\nhttps://t.co/98tB8y7y7t https://t.co/LouL5vdvxx   \n",
       "902                                                                                              Why does this never happen at my front door... 165/150 https://t.co/HmwrdfEfUE   \n",
       "979                                                                                              This is Atticus. He's quite simply America af. 1776/10 https://t.co/GRXwMxLBkh   \n",
       "1068                               After so many requests, this is Bretagne. She was the last surviving 9/11 search dog, and our second ever 14/10. RIP https://t.co/XAVDNDaVgQ   \n",
       "1120                                                  Say hello to this unbelievably well behaved squad of doggos. 204/170 would try to pet all at once https://t.co/yGQI3He3xv   \n",
       "1165                                                                                                           Happy 4/20 from the squad! 13/10 for all https://t.co/eV1diwds8a   \n",
       "1202                                                      This is Bluebert. He just saw that both #FinalFur match ups are split 50/50. Amazed af. 11/10 https://t.co/Kky1DPG4iq   \n",
       "1228                                                                              Happy Saturday here's 9 puppers on a bench. 99/90 good work everybody https://t.co/mpvaVxKmc1   \n",
       "1254                                                               Here's a brigade of puppers. All look very prepared for whatever happens next. 80/80 https://t.co/0eb7R1Om12   \n",
       "1274                         From left to right:\\nCletus, Jerome, Alejandro, Burp, &amp; Titson\\nNone know where camera is. 45/50 would hug all at once https://t.co/sedre1ivTK   \n",
       "1351                                                                                         Here is a whole flock of puppers.  60/50 I'll take the lot https://t.co/9dpcw6MdWa   \n",
       "1433                                                                               Happy Wednesday here's a bucket of pups. 44/40 would pet all at once https://t.co/HppvrYuamZ   \n",
       "1635                               Someone help the girl is being mugged. Several are distracting her while two steal her shoes. Clever puppers 121/110 https://t.co/1zfnTJLt55   \n",
       "1662                                This is Darrel. He just robbed a 7/11 and is in a high speed police chase. Was just spotted by the helicopter 10/10 https://t.co/7EsP8LmSp5   \n",
       "1779                                                                                                     IT'S PUPPERGEDDON. Total of 144/120 ...I think https://t.co/ZanVtAtvIq   \n",
       "1843                                                                Here we have an entire platoon of puppers. Total score: 88/80 would pet all at once https://t.co/y93p6FLvVw   \n",
       "2074                                                                                        After so many requests... here you go.\\n\\nGood dogg. 420/10 https://t.co/yfAAo1gdeY   \n",
       "2335                                   This is an Albanian 3 1/2 legged  Episcopalian. Loves well-polished hardwood flooring. Penis on the collar. 9/10 https://t.co/d9NcXFKwLv   \n",
       "\n",
       "      new_numerator  new_denominator    rating  \n",
       "433            84.0             70.0  1.200000  \n",
       "516             NaN              NaN       NaN  \n",
       "902           165.0            150.0  1.100000  \n",
       "979             NaN              NaN       NaN  \n",
       "1068            9.0             11.0  0.818182  \n",
       "1120          204.0            170.0  1.200000  \n",
       "1165            4.0             20.0  0.200000  \n",
       "1202           50.0             50.0  1.000000  \n",
       "1228           99.0             90.0  1.100000  \n",
       "1254           80.0             80.0  1.000000  \n",
       "1274           45.0             50.0  0.900000  \n",
       "1351           60.0             50.0  1.200000  \n",
       "1433           44.0             40.0  1.100000  \n",
       "1635          121.0            110.0  1.100000  \n",
       "1662            7.0             11.0  0.636364  \n",
       "1779          144.0            120.0  1.200000  \n",
       "1843           88.0             80.0  1.100000  \n",
       "2074            NaN              NaN       NaN  \n",
       "2335            1.0              2.0  0.500000  "
      ]
     },
     "execution_count": 90,
     "metadata": {},
     "output_type": "execute_result"
    }
   ],
   "source": [
    "check"
   ]
  },
  {
   "cell_type": "markdown",
   "metadata": {},
   "source": [
    "These cases appear to mostly involve group ratings. Group ratings will be left as is, because the \"rating\" column is a standardised calculation removing any immediate concern at this point. \n",
    "\n",
    "However, `tweet_id` **740373189193256964 , 722974582966214656, 682962037429899265 & 666287406224695296** can clearly be seen to have the wrong fraction picked up from their tweet text. These will be manually corrected."
   ]
  },
  {
   "cell_type": "code",
   "execution_count": 91,
   "metadata": {},
   "outputs": [],
   "source": [
    "# clean the tweets listed above manually \n",
    "ratings_clean.at[1068, 'new_numerator'] = 14\n",
    "ratings_clean.at[1068, 'new_denominator'] = 10\n",
    "ratings_clean.at[1068, 'rating'] = 1.4\n",
    "\n",
    "ratings_clean.at[1165, 'new_numerator'] = 13\n",
    "ratings_clean.at[1165, 'new_denominator'] = 10\n",
    "ratings_clean.at[1165, 'rating'] = 1.3\n",
    "\n",
    "ratings_clean.at[1662, 'new_numerator'] = 10\n",
    "ratings_clean.at[1662, 'new_denominator'] = 10\n",
    "ratings_clean.at[1662, 'rating'] = 1.0\n",
    "\n",
    "ratings_clean.at[2335, 'new_numerator'] = 9\n",
    "ratings_clean.at[2335, 'new_denominator'] = 10\n",
    "ratings_clean.at[2335, 'rating'] = 0.9"
   ]
  },
  {
   "cell_type": "markdown",
   "metadata": {},
   "source": [
    "##### Test 3"
   ]
  },
  {
   "cell_type": "code",
   "execution_count": 92,
   "metadata": {},
   "outputs": [
    {
     "data": {
      "text/html": [
       "<div>\n",
       "<style scoped>\n",
       "    .dataframe tbody tr th:only-of-type {\n",
       "        vertical-align: middle;\n",
       "    }\n",
       "\n",
       "    .dataframe tbody tr th {\n",
       "        vertical-align: top;\n",
       "    }\n",
       "\n",
       "    .dataframe thead th {\n",
       "        text-align: right;\n",
       "    }\n",
       "</style>\n",
       "<table border=\"1\" class=\"dataframe\">\n",
       "  <thead>\n",
       "    <tr style=\"text-align: right;\">\n",
       "      <th></th>\n",
       "      <th>tweet_id</th>\n",
       "      <th>text</th>\n",
       "      <th>new_numerator</th>\n",
       "      <th>new_denominator</th>\n",
       "      <th>rating</th>\n",
       "    </tr>\n",
       "  </thead>\n",
       "  <tbody>\n",
       "    <tr>\n",
       "      <th>1068</th>\n",
       "      <td>740373189193256964</td>\n",
       "      <td>After so many requests, this is Bretagne. She was the last surviving 9/11 search dog, and our second ever 14/10. RIP https://t.co/XAVDNDaVgQ</td>\n",
       "      <td>14.0</td>\n",
       "      <td>10.0</td>\n",
       "      <td>1.4</td>\n",
       "    </tr>\n",
       "  </tbody>\n",
       "</table>\n",
       "</div>"
      ],
      "text/plain": [
       "                tweet_id  \\\n",
       "1068  740373189193256964   \n",
       "\n",
       "                                                                                                                                              text  \\\n",
       "1068  After so many requests, this is Bretagne. She was the last surviving 9/11 search dog, and our second ever 14/10. RIP https://t.co/XAVDNDaVgQ   \n",
       "\n",
       "      new_numerator  new_denominator  rating  \n",
       "1068           14.0             10.0     1.4  "
      ]
     },
     "execution_count": 92,
     "metadata": {},
     "output_type": "execute_result"
    }
   ],
   "source": [
    "# pull back one of the tweets & check it was updated correctly \n",
    "ratings_clean.loc[ratings_clean['tweet_id'] == \"740373189193256964\"]"
   ]
  },
  {
   "cell_type": "markdown",
   "metadata": {},
   "source": [
    " "
   ]
  },
  {
   "cell_type": "markdown",
   "metadata": {},
   "source": [
    "##### Code 4\n",
    "\n",
    "Finally, we need to join these cleaned ratings variables back to our original tweet data, then drop the old ones"
   ]
  },
  {
   "cell_type": "code",
   "execution_count": 96,
   "metadata": {},
   "outputs": [],
   "source": [
    "Twitter_Archive_Clean = pd.merge(Twitter_Archive_Clean, \n",
    "                                 ratings_clean[['tweet_id','new_numerator','new_denominator','rating']],\n",
    "                                 on=['tweet_id'], \n",
    "                                 how='left')"
   ]
  },
  {
   "cell_type": "code",
   "execution_count": 97,
   "metadata": {},
   "outputs": [
    {
     "data": {
      "text/html": [
       "<div>\n",
       "<style scoped>\n",
       "    .dataframe tbody tr th:only-of-type {\n",
       "        vertical-align: middle;\n",
       "    }\n",
       "\n",
       "    .dataframe tbody tr th {\n",
       "        vertical-align: top;\n",
       "    }\n",
       "\n",
       "    .dataframe thead th {\n",
       "        text-align: right;\n",
       "    }\n",
       "</style>\n",
       "<table border=\"1\" class=\"dataframe\">\n",
       "  <thead>\n",
       "    <tr style=\"text-align: right;\">\n",
       "      <th></th>\n",
       "      <th>tweet_id</th>\n",
       "      <th>in_reply_to_status_id</th>\n",
       "      <th>in_reply_to_user_id</th>\n",
       "      <th>timestamp</th>\n",
       "      <th>source</th>\n",
       "      <th>text</th>\n",
       "      <th>retweeted_status_id</th>\n",
       "      <th>retweeted_status_user_id</th>\n",
       "      <th>retweeted_status_timestamp</th>\n",
       "      <th>expanded_urls</th>\n",
       "      <th>rating_numerator</th>\n",
       "      <th>rating_denominator</th>\n",
       "      <th>name</th>\n",
       "      <th>doggo</th>\n",
       "      <th>floofer</th>\n",
       "      <th>pupper</th>\n",
       "      <th>puppo</th>\n",
       "      <th>new_numerator</th>\n",
       "      <th>new_denominator</th>\n",
       "      <th>rating</th>\n",
       "    </tr>\n",
       "  </thead>\n",
       "  <tbody>\n",
       "    <tr>\n",
       "      <th>0</th>\n",
       "      <td>892420643555336193</td>\n",
       "      <td>nan</td>\n",
       "      <td>nan</td>\n",
       "      <td>2017-08-01 16:23:56+00:00</td>\n",
       "      <td>&lt;a href=\"http://twitter.com/download/iphone\" rel=\"nofollow\"&gt;Twitter for iPhone&lt;/a&gt;</td>\n",
       "      <td>This is Phineas. He's a mystical boy. Only ever appears in the hole of a donut. 13/10 https://t.co/MgUWQ76dJU</td>\n",
       "      <td>nan</td>\n",
       "      <td>nan</td>\n",
       "      <td>NaN</td>\n",
       "      <td>https://twitter.com/dog_rates/status/892420643555336193/photo/1</td>\n",
       "      <td>13</td>\n",
       "      <td>10</td>\n",
       "      <td>Phineas</td>\n",
       "      <td>None</td>\n",
       "      <td>None</td>\n",
       "      <td>None</td>\n",
       "      <td>None</td>\n",
       "      <td>13.0</td>\n",
       "      <td>10.0</td>\n",
       "      <td>1.3</td>\n",
       "    </tr>\n",
       "  </tbody>\n",
       "</table>\n",
       "</div>"
      ],
      "text/plain": [
       "             tweet_id in_reply_to_status_id in_reply_to_user_id  \\\n",
       "0  892420643555336193                   nan                 nan   \n",
       "\n",
       "                  timestamp  \\\n",
       "0 2017-08-01 16:23:56+00:00   \n",
       "\n",
       "                                                                               source  \\\n",
       "0  <a href=\"http://twitter.com/download/iphone\" rel=\"nofollow\">Twitter for iPhone</a>   \n",
       "\n",
       "                                                                                                            text  \\\n",
       "0  This is Phineas. He's a mystical boy. Only ever appears in the hole of a donut. 13/10 https://t.co/MgUWQ76dJU   \n",
       "\n",
       "  retweeted_status_id retweeted_status_user_id retweeted_status_timestamp  \\\n",
       "0                 nan                      nan                        NaN   \n",
       "\n",
       "                                                     expanded_urls  \\\n",
       "0  https://twitter.com/dog_rates/status/892420643555336193/photo/1   \n",
       "\n",
       "   rating_numerator  rating_denominator     name doggo floofer pupper puppo  \\\n",
       "0                13                  10  Phineas  None    None   None  None   \n",
       "\n",
       "   new_numerator  new_denominator  rating  \n",
       "0           13.0             10.0     1.3  "
      ]
     },
     "execution_count": 97,
     "metadata": {},
     "output_type": "execute_result"
    }
   ],
   "source": [
    "# print top line of data frame & view \n",
    "Twitter_Archive_Clean.head(1)"
   ]
  },
  {
   "cell_type": "code",
   "execution_count": 99,
   "metadata": {},
   "outputs": [],
   "source": [
    "# drop columns rating_numerator & rating_denominator - they are no longer needed \n",
    "del Twitter_Archive_Clean['rating_numerator']\n",
    "del Twitter_Archive_Clean['rating_denominator']"
   ]
  },
  {
   "cell_type": "code",
   "execution_count": 100,
   "metadata": {},
   "outputs": [],
   "source": [
    "# rename new_numerator & new_denominator to rating_numerator & rating_denominator respectively \n",
    "Twitter_Archive_Clean.rename(columns={'new_numerator': 'rating_numerator', 'new_denominator': 'rating_denominator'}, inplace=True)"
   ]
  },
  {
   "cell_type": "markdown",
   "metadata": {},
   "source": [
    " "
   ]
  },
  {
   "cell_type": "markdown",
   "metadata": {},
   "source": [
    "##### Test 4\n",
    "\n",
    "print info() on data frame - ensure correct columns now exist"
   ]
  },
  {
   "cell_type": "code",
   "execution_count": 101,
   "metadata": {},
   "outputs": [
    {
     "name": "stdout",
     "output_type": "stream",
     "text": [
      "<class 'pandas.core.frame.DataFrame'>\n",
      "Int64Index: 2094 entries, 0 to 2093\n",
      "Data columns (total 18 columns):\n",
      " #   Column                      Non-Null Count  Dtype              \n",
      "---  ------                      --------------  -----              \n",
      " 0   tweet_id                    2094 non-null   object             \n",
      " 1   in_reply_to_status_id       2094 non-null   object             \n",
      " 2   in_reply_to_user_id         2094 non-null   object             \n",
      " 3   timestamp                   2094 non-null   datetime64[ns, UTC]\n",
      " 4   source                      2094 non-null   object             \n",
      " 5   text                        2094 non-null   object             \n",
      " 6   retweeted_status_id         2094 non-null   object             \n",
      " 7   retweeted_status_user_id    2094 non-null   object             \n",
      " 8   retweeted_status_timestamp  0 non-null      object             \n",
      " 9   expanded_urls               2094 non-null   object             \n",
      " 10  name                        2094 non-null   object             \n",
      " 11  doggo                       2094 non-null   object             \n",
      " 12  floofer                     2094 non-null   object             \n",
      " 13  pupper                      2094 non-null   object             \n",
      " 14  puppo                       2094 non-null   object             \n",
      " 15  rating_numerator            2091 non-null   float64            \n",
      " 16  rating_denominator          2091 non-null   float64            \n",
      " 17  rating                      2091 non-null   float64            \n",
      "dtypes: datetime64[ns, UTC](1), float64(3), object(14)\n",
      "memory usage: 196.3+ KB\n"
     ]
    }
   ],
   "source": [
    "Twitter_Archive_Clean.info()"
   ]
  },
  {
   "cell_type": "markdown",
   "metadata": {},
   "source": [
    " "
   ]
  },
  {
   "cell_type": "markdown",
   "metadata": {},
   "source": [
    " "
   ]
  },
  {
   "cell_type": "markdown",
   "metadata": {},
   "source": [
    "### Cleaning 6 - Clean dog names within Twitter Archive data\n",
    "\n",
    "- We had previously been told Dog Names were a concern\n",
    "- Having investigated Dog Names, we could see multiple cases that had values 'None' or 'a'\n",
    "- We need to try and clean this variable"
   ]
  },
  {
   "cell_type": "code",
   "execution_count": 78,
   "metadata": {},
   "outputs": [
    {
     "data": {
      "text/plain": [
       "None          611\n",
       "a              54\n",
       "Charlie        11\n",
       "Lucy           11\n",
       "Cooper         10\n",
       "             ... \n",
       "Pupcasso        1\n",
       "Pherb           1\n",
       "Beckham         1\n",
       "Quinn           1\n",
       "incredibly      1\n",
       "Name: name, Length: 955, dtype: int64"
      ]
     },
     "execution_count": 78,
     "metadata": {},
     "output_type": "execute_result"
    }
   ],
   "source": [
    "# Lets start by re-assessing the value counts for Dog Names\n",
    "Twitter_Archive_Clean['name'].value_counts()"
   ]
  },
  {
   "cell_type": "markdown",
   "metadata": {},
   "source": [
    "- 611 cases of *'None'*. These may well be accurate & that no Dog name exists within the tweet text\n",
    "- 54 cases of *'a'*. These are more likely to do with a text extraction pattern. This may provide a better opportunity to identify Dog Names.\n",
    "- Can see a case where dog name is \"incredibly\". Let's pull all lower case dog names & remove from data, as these will not be correct names."
   ]
  },
  {
   "cell_type": "markdown",
   "metadata": {},
   "source": [
    "Actions:\n",
    "\n",
    "- Build a text search to try and clear up dog names better. Otherwise, set the value to Null. \n",
    "- After this, remove any cases where the dog name is lower case, as not a real dog name.\n",
    "\n",
    "Notes:\n",
    "\n",
    "- Having run a few different samples, we can see that some different naming patterns do exist\n",
    "- These patterns typically consist of:\n",
    "\n",
    "**is named** /  **this is** / **name is** / **is called**\n",
    "\n",
    "Plan:\n",
    "\n",
    "- Build a function which can parse text for the patterns called out above, and is possible, replace the *'None'* or *'a'* with a correct name\n",
    "- If not *'None'* or *'a'*, standing name will be left"
   ]
  },
  {
   "cell_type": "markdown",
   "metadata": {},
   "source": [
    "##### Code 1"
   ]
  },
  {
   "cell_type": "code",
   "execution_count": 102,
   "metadata": {},
   "outputs": [],
   "source": [
    "# Import the 're' library for text searching \n",
    "import re"
   ]
  },
  {
   "cell_type": "code",
   "execution_count": 103,
   "metadata": {},
   "outputs": [],
   "source": [
    "def find_name(name, text):\n",
    "    \n",
    "    # search if the current name variable is an DQ issue \n",
    "    if name == 'None' or name == 'a' or name == 'A':\n",
    "        # Process checks within text field to search for key words that indicate patterns before a name is mentioned\n",
    "        if \"Is named\" in text or \"is named\" in text :\n",
    "            potential_name = re.search(r\"[Ii]s named\\s(.+)\", text).group(1).split(' ', 1)[0]\n",
    "            potential_name = potential_name.replace(\",\",\"\").replace(\".\",\"\").replace(\";\",\"\")\n",
    "            return potential_name.title()\n",
    "\n",
    "        elif \"This is\" in text or \"this is\" in text:\n",
    "            potential_name = re.search(r\"[Tt]his is\\s(.+)\", text).group(1).split(' ', 1)[0]\n",
    "            potential_name = potential_name.replace(\",\",\"\").replace(\".\",\"\").replace(\";\",\"\")\n",
    "            return potential_name.title()\n",
    "\n",
    "        elif \"Name is\" in text or \"name is\" in text:\n",
    "            potential_name = re.search(r\"[Nn]ame is\\s(.+)\", text).group(1).split(' ', 1)[0]\n",
    "            potential_name = potential_name.replace(\",\",\"\").replace(\".\",\"\").replace(\";\",\"\")\n",
    "            return potential_name.title()\n",
    "\n",
    "        elif \"Is called\" in text or \"is called\" in text:\n",
    "            potential_name = re.search(r\"[Ii]s called\\s(.+)\\s(.+)\", text).group(1).split(' ', 1)[0]\n",
    "            potential_name = potential_name.replace(\",\",\"\").replace(\".\",\"\").replace(\";\",\"\")\n",
    "            return potential_name.title()\n",
    "        # otherwise, simply return a null value \n",
    "        else:\n",
    "            potential_name = None \n",
    "            return potential_name\n",
    "        \n",
    "    # when the current name is not a DQ concern - simply return the existing name  \n",
    "    else:\n",
    "        return name "
   ]
  },
  {
   "cell_type": "markdown",
   "metadata": {},
   "source": [
    "We can apply this function to the twitter data, to create a new column within our DF called `clean_name`"
   ]
  },
  {
   "cell_type": "code",
   "execution_count": 104,
   "metadata": {},
   "outputs": [],
   "source": [
    "# apply the newly built function to the NAME & TEXT variables with our dataframe. This will create a CLEAN_NAME variable\n",
    "Twitter_Archive_Clean['clean_name'] = Twitter_Archive_Clean.apply(lambda x: find_name(x['name'], x['text']), axis=1)"
   ]
  },
  {
   "cell_type": "markdown",
   "metadata": {},
   "source": [
    "##### Test 1\n",
    "\n",
    "Check the value counts on the output from the find_name function into the `clean_name` variable"
   ]
  },
  {
   "cell_type": "code",
   "execution_count": 105,
   "metadata": {},
   "outputs": [
    {
     "data": {
      "text/plain": [
       "A          48\n",
       "Charlie    11\n",
       "Lucy       11\n",
       "Cooper     10\n",
       "Oliver     10\n",
       "           ..\n",
       "Clarq       1\n",
       "Nugget      1\n",
       "Trigger     1\n",
       "Barry       1\n",
       "Grady       1\n",
       "Name: clean_name, Length: 964, dtype: int64"
      ]
     },
     "execution_count": 105,
     "metadata": {},
     "output_type": "execute_result"
    }
   ],
   "source": [
    "# Test the clean_name variable to check results\n",
    "Twitter_Archive_Clean['clean_name'].value_counts()"
   ]
  },
  {
   "cell_type": "markdown",
   "metadata": {},
   "source": [
    "We can see that we have cases with a value of **A** have now been created.\n",
    "\n",
    "Let's replace these with a proper null value of None, to have a clean column."
   ]
  },
  {
   "cell_type": "markdown",
   "metadata": {},
   "source": [
    "##### Code 2\n",
    "\n",
    "use a replace function to swap capital A values to None, within the `clean_name` column"
   ]
  },
  {
   "cell_type": "code",
   "execution_count": 106,
   "metadata": {},
   "outputs": [],
   "source": [
    "Twitter_Archive_Clean.clean_name = Twitter_Archive_Clean.clean_name.replace('A', None)"
   ]
  },
  {
   "cell_type": "markdown",
   "metadata": {},
   "source": [
    "##### Test 2\n",
    "\n",
    "Now check the clean name column again"
   ]
  },
  {
   "cell_type": "code",
   "execution_count": 107,
   "metadata": {},
   "outputs": [
    {
     "data": {
      "text/plain": [
       "Oliver     12\n",
       "Charlie    11\n",
       "Lucy       11\n",
       "Cooper     10\n",
       "Tucker      9\n",
       "           ..\n",
       "Reptar      1\n",
       "Jim         1\n",
       "Spencer     1\n",
       "Zooey       1\n",
       "Grady       1\n",
       "Name: clean_name, Length: 963, dtype: int64"
      ]
     },
     "execution_count": 107,
     "metadata": {},
     "output_type": "execute_result"
    }
   ],
   "source": [
    "Twitter_Archive_Clean['clean_name'].value_counts()"
   ]
  },
  {
   "cell_type": "markdown",
   "metadata": {},
   "source": [
    " "
   ]
  },
  {
   "cell_type": "markdown",
   "metadata": {},
   "source": [
    "##### Code 3\n",
    "\n",
    "Identify any cases where dog name is lower case, remove those cases."
   ]
  },
  {
   "cell_type": "code",
   "execution_count": 120,
   "metadata": {},
   "outputs": [],
   "source": [
    "# all cases where a dog name exists \n",
    "dog_names = Twitter_Archive_Clean.loc[Twitter_Archive_Clean['clean_name'].notnull()]"
   ]
  },
  {
   "cell_type": "code",
   "execution_count": 123,
   "metadata": {},
   "outputs": [
    {
     "name": "stdout",
     "output_type": "stream",
     "text": [
      "54\n"
     ]
    }
   ],
   "source": [
    "# create index of rows with lowercase names, remove from Twitter_Archive_Clean\n",
    "lowcase_name = dog_names[dog_names.clean_name.str.islower()].index\n",
    "print(len(lowcase_name))"
   ]
  },
  {
   "cell_type": "code",
   "execution_count": 124,
   "metadata": {},
   "outputs": [],
   "source": [
    "# drop lowcase names \n",
    "Twitter_Archive_Clean.drop(lowcase_name, inplace=True)"
   ]
  },
  {
   "cell_type": "markdown",
   "metadata": {},
   "source": [
    " "
   ]
  },
  {
   "cell_type": "markdown",
   "metadata": {},
   "source": [
    "##### Test 3\n",
    "\n",
    "run a check to see if any lowcase names still exist within `clean_name` - should be 0"
   ]
  },
  {
   "cell_type": "code",
   "execution_count": 126,
   "metadata": {},
   "outputs": [
    {
     "data": {
      "text/plain": [
       "0"
      ]
     },
     "execution_count": 126,
     "metadata": {},
     "output_type": "execute_result"
    }
   ],
   "source": [
    "new_lowcase_check = Twitter_Archive_Clean.loc[Twitter_Archive_Clean['clean_name'].notnull()]\n",
    "len(new_lowcase_check[new_lowcase_check.clean_name.str.islower()].index)"
   ]
  },
  {
   "cell_type": "markdown",
   "metadata": {},
   "source": [
    "Let's now drop the `name` column, then rename the `clean_name` column to `name`\n",
    "\n",
    "##### Code 4"
   ]
  },
  {
   "cell_type": "code",
   "execution_count": 127,
   "metadata": {},
   "outputs": [],
   "source": [
    " # drop column\n",
    "del Twitter_Archive_Clean['name']"
   ]
  },
  {
   "cell_type": "code",
   "execution_count": 128,
   "metadata": {},
   "outputs": [],
   "source": [
    "# rename clean name to name \n",
    "Twitter_Archive_Clean.rename(columns={'clean_name': 'name'}, inplace=True)"
   ]
  },
  {
   "cell_type": "markdown",
   "metadata": {},
   "source": [
    "##### Test 4\n",
    "\n",
    "Check the info() details again to ensure the correct variables now exist as expected"
   ]
  },
  {
   "cell_type": "code",
   "execution_count": 129,
   "metadata": {},
   "outputs": [
    {
     "name": "stdout",
     "output_type": "stream",
     "text": [
      "<class 'pandas.core.frame.DataFrame'>\n",
      "Int64Index: 2040 entries, 0 to 2093\n",
      "Data columns (total 18 columns):\n",
      " #   Column                      Non-Null Count  Dtype              \n",
      "---  ------                      --------------  -----              \n",
      " 0   tweet_id                    2040 non-null   object             \n",
      " 1   in_reply_to_status_id       2040 non-null   object             \n",
      " 2   in_reply_to_user_id         2040 non-null   object             \n",
      " 3   timestamp                   2040 non-null   datetime64[ns, UTC]\n",
      " 4   source                      2040 non-null   object             \n",
      " 5   text                        2040 non-null   object             \n",
      " 6   retweeted_status_id         2040 non-null   object             \n",
      " 7   retweeted_status_user_id    2040 non-null   object             \n",
      " 8   retweeted_status_timestamp  0 non-null      object             \n",
      " 9   expanded_urls               2040 non-null   object             \n",
      " 10  doggo                       2040 non-null   object             \n",
      " 11  floofer                     2040 non-null   object             \n",
      " 12  pupper                      2040 non-null   object             \n",
      " 13  puppo                       2040 non-null   object             \n",
      " 14  rating_numerator            2037 non-null   float64            \n",
      " 15  rating_denominator          2037 non-null   float64            \n",
      " 16  rating                      2037 non-null   float64            \n",
      " 17  name                        1430 non-null   object             \n",
      "dtypes: datetime64[ns, UTC](1), float64(3), object(14)\n",
      "memory usage: 191.2+ KB\n"
     ]
    }
   ],
   "source": [
    "Twitter_Archive_Clean.info()"
   ]
  },
  {
   "cell_type": "markdown",
   "metadata": {},
   "source": [
    "So we can see from the output above that we have now corrected the name column"
   ]
  },
  {
   "cell_type": "markdown",
   "metadata": {},
   "source": [
    " "
   ]
  },
  {
   "cell_type": "markdown",
   "metadata": {},
   "source": [
    "### Tidiness 1 - convert 4 dog stage columns to one variable from Twitter Archive\n",
    "\n",
    "- We had previously seen Dog Stages were stored across 4 separate columns\n",
    "- We will convert these to one observational column, rather than 4 separate ones"
   ]
  },
  {
   "cell_type": "markdown",
   "metadata": {},
   "source": [
    "Create a dataset of Tweet ID, Text & the 4 dog stage variables. Convert the 4 into one column with pandas melt"
   ]
  },
  {
   "cell_type": "code",
   "execution_count": 130,
   "metadata": {},
   "outputs": [
    {
     "data": {
      "text/html": [
       "<div>\n",
       "<style scoped>\n",
       "    .dataframe tbody tr th:only-of-type {\n",
       "        vertical-align: middle;\n",
       "    }\n",
       "\n",
       "    .dataframe tbody tr th {\n",
       "        vertical-align: top;\n",
       "    }\n",
       "\n",
       "    .dataframe thead th {\n",
       "        text-align: right;\n",
       "    }\n",
       "</style>\n",
       "<table border=\"1\" class=\"dataframe\">\n",
       "  <thead>\n",
       "    <tr style=\"text-align: right;\">\n",
       "      <th></th>\n",
       "      <th>tweet_id</th>\n",
       "      <th>text</th>\n",
       "      <th>doggo</th>\n",
       "      <th>floofer</th>\n",
       "      <th>puppo</th>\n",
       "      <th>pupper</th>\n",
       "    </tr>\n",
       "  </thead>\n",
       "  <tbody>\n",
       "    <tr>\n",
       "      <th>0</th>\n",
       "      <td>892420643555336193</td>\n",
       "      <td>This is Phineas. He's a mystical boy. Only ever appears in the hole of a donut. 13/10 https://t.co/MgUWQ76dJU</td>\n",
       "      <td>None</td>\n",
       "      <td>None</td>\n",
       "      <td>None</td>\n",
       "      <td>None</td>\n",
       "    </tr>\n",
       "  </tbody>\n",
       "</table>\n",
       "</div>"
      ],
      "text/plain": [
       "             tweet_id  \\\n",
       "0  892420643555336193   \n",
       "\n",
       "                                                                                                            text  \\\n",
       "0  This is Phineas. He's a mystical boy. Only ever appears in the hole of a donut. 13/10 https://t.co/MgUWQ76dJU   \n",
       "\n",
       "  doggo floofer puppo pupper  \n",
       "0  None    None  None   None  "
      ]
     },
     "execution_count": 130,
     "metadata": {},
     "output_type": "execute_result"
    }
   ],
   "source": [
    "keep_vars = ['tweet_id', 'text', 'doggo', 'floofer', 'puppo', 'pupper']\n",
    "dog_stage_tmp = Twitter_Archive_Clean[keep_vars].copy()\n",
    "dog_stage_tmp.head(1)"
   ]
  },
  {
   "cell_type": "code",
   "execution_count": 131,
   "metadata": {},
   "outputs": [
    {
     "data": {
      "text/plain": [
       "2040"
      ]
     },
     "execution_count": 131,
     "metadata": {},
     "output_type": "execute_result"
    }
   ],
   "source": [
    "# check row count \n",
    "len(dog_stage_tmp)"
   ]
  },
  {
   "cell_type": "markdown",
   "metadata": {},
   "source": [
    "We saw earlier that we have cases of mutiple dog stages within one tweet."
   ]
  },
  {
   "cell_type": "code",
   "execution_count": 132,
   "metadata": {},
   "outputs": [
    {
     "data": {
      "text/html": [
       "<div>\n",
       "<style scoped>\n",
       "    .dataframe tbody tr th:only-of-type {\n",
       "        vertical-align: middle;\n",
       "    }\n",
       "\n",
       "    .dataframe tbody tr th {\n",
       "        vertical-align: top;\n",
       "    }\n",
       "\n",
       "    .dataframe thead th {\n",
       "        text-align: right;\n",
       "    }\n",
       "</style>\n",
       "<table border=\"1\" class=\"dataframe\">\n",
       "  <thead>\n",
       "    <tr style=\"text-align: right;\">\n",
       "      <th></th>\n",
       "      <th>doggo</th>\n",
       "      <th>floofer</th>\n",
       "      <th>pupper</th>\n",
       "      <th>puppo</th>\n",
       "      <th>count</th>\n",
       "    </tr>\n",
       "  </thead>\n",
       "  <tbody>\n",
       "    <tr>\n",
       "      <th>0</th>\n",
       "      <td>None</td>\n",
       "      <td>None</td>\n",
       "      <td>None</td>\n",
       "      <td>None</td>\n",
       "      <td>1715</td>\n",
       "    </tr>\n",
       "    <tr>\n",
       "      <th>1</th>\n",
       "      <td>None</td>\n",
       "      <td>None</td>\n",
       "      <td>None</td>\n",
       "      <td>puppo</td>\n",
       "      <td>23</td>\n",
       "    </tr>\n",
       "    <tr>\n",
       "      <th>2</th>\n",
       "      <td>None</td>\n",
       "      <td>None</td>\n",
       "      <td>pupper</td>\n",
       "      <td>None</td>\n",
       "      <td>213</td>\n",
       "    </tr>\n",
       "    <tr>\n",
       "      <th>3</th>\n",
       "      <td>None</td>\n",
       "      <td>floofer</td>\n",
       "      <td>None</td>\n",
       "      <td>None</td>\n",
       "      <td>9</td>\n",
       "    </tr>\n",
       "    <tr>\n",
       "      <th>4</th>\n",
       "      <td>doggo</td>\n",
       "      <td>None</td>\n",
       "      <td>None</td>\n",
       "      <td>None</td>\n",
       "      <td>70</td>\n",
       "    </tr>\n",
       "    <tr>\n",
       "      <th>5</th>\n",
       "      <td>doggo</td>\n",
       "      <td>None</td>\n",
       "      <td>None</td>\n",
       "      <td>puppo</td>\n",
       "      <td>1</td>\n",
       "    </tr>\n",
       "    <tr>\n",
       "      <th>6</th>\n",
       "      <td>doggo</td>\n",
       "      <td>None</td>\n",
       "      <td>pupper</td>\n",
       "      <td>None</td>\n",
       "      <td>8</td>\n",
       "    </tr>\n",
       "    <tr>\n",
       "      <th>7</th>\n",
       "      <td>doggo</td>\n",
       "      <td>floofer</td>\n",
       "      <td>None</td>\n",
       "      <td>None</td>\n",
       "      <td>1</td>\n",
       "    </tr>\n",
       "  </tbody>\n",
       "</table>\n",
       "</div>"
      ],
      "text/plain": [
       "   doggo  floofer  pupper  puppo  count\n",
       "0   None     None    None   None   1715\n",
       "1   None     None    None  puppo     23\n",
       "2   None     None  pupper   None    213\n",
       "3   None  floofer    None   None      9\n",
       "4  doggo     None    None   None     70\n",
       "5  doggo     None    None  puppo      1\n",
       "6  doggo     None  pupper   None      8\n",
       "7  doggo  floofer    None   None      1"
      ]
     },
     "execution_count": 132,
     "metadata": {},
     "output_type": "execute_result"
    }
   ],
   "source": [
    "dog_stage_tmp.groupby([\"doggo\", \"floofer\", \"pupper\", \"puppo\"]).size().reset_index().rename(columns={0: \"count\"})"
   ]
  },
  {
   "cell_type": "markdown",
   "metadata": {},
   "source": [
    "##### Code 1\n",
    "\n",
    "- Clear all 'None' string values and replace with empty strings  "
   ]
  },
  {
   "cell_type": "code",
   "execution_count": 133,
   "metadata": {},
   "outputs": [],
   "source": [
    "dog_stage_tmp.doggo.replace('None', '', inplace=True)\n",
    "dog_stage_tmp.floofer.replace('None', '', inplace=True)\n",
    "dog_stage_tmp.pupper.replace('None', '', inplace=True)\n",
    "dog_stage_tmp.puppo.replace('None', '', inplace=True)"
   ]
  },
  {
   "cell_type": "markdown",
   "metadata": {},
   "source": [
    "##### Test 1\n",
    "\n",
    "- rerun count above, should see all 'None's removed"
   ]
  },
  {
   "cell_type": "code",
   "execution_count": 134,
   "metadata": {},
   "outputs": [
    {
     "data": {
      "text/html": [
       "<div>\n",
       "<style scoped>\n",
       "    .dataframe tbody tr th:only-of-type {\n",
       "        vertical-align: middle;\n",
       "    }\n",
       "\n",
       "    .dataframe tbody tr th {\n",
       "        vertical-align: top;\n",
       "    }\n",
       "\n",
       "    .dataframe thead th {\n",
       "        text-align: right;\n",
       "    }\n",
       "</style>\n",
       "<table border=\"1\" class=\"dataframe\">\n",
       "  <thead>\n",
       "    <tr style=\"text-align: right;\">\n",
       "      <th></th>\n",
       "      <th>doggo</th>\n",
       "      <th>floofer</th>\n",
       "      <th>pupper</th>\n",
       "      <th>puppo</th>\n",
       "      <th>count</th>\n",
       "    </tr>\n",
       "  </thead>\n",
       "  <tbody>\n",
       "    <tr>\n",
       "      <th>0</th>\n",
       "      <td></td>\n",
       "      <td></td>\n",
       "      <td></td>\n",
       "      <td></td>\n",
       "      <td>1715</td>\n",
       "    </tr>\n",
       "    <tr>\n",
       "      <th>1</th>\n",
       "      <td></td>\n",
       "      <td></td>\n",
       "      <td></td>\n",
       "      <td>puppo</td>\n",
       "      <td>23</td>\n",
       "    </tr>\n",
       "    <tr>\n",
       "      <th>2</th>\n",
       "      <td></td>\n",
       "      <td></td>\n",
       "      <td>pupper</td>\n",
       "      <td></td>\n",
       "      <td>213</td>\n",
       "    </tr>\n",
       "    <tr>\n",
       "      <th>3</th>\n",
       "      <td></td>\n",
       "      <td>floofer</td>\n",
       "      <td></td>\n",
       "      <td></td>\n",
       "      <td>9</td>\n",
       "    </tr>\n",
       "    <tr>\n",
       "      <th>4</th>\n",
       "      <td>doggo</td>\n",
       "      <td></td>\n",
       "      <td></td>\n",
       "      <td></td>\n",
       "      <td>70</td>\n",
       "    </tr>\n",
       "    <tr>\n",
       "      <th>5</th>\n",
       "      <td>doggo</td>\n",
       "      <td></td>\n",
       "      <td></td>\n",
       "      <td>puppo</td>\n",
       "      <td>1</td>\n",
       "    </tr>\n",
       "    <tr>\n",
       "      <th>6</th>\n",
       "      <td>doggo</td>\n",
       "      <td></td>\n",
       "      <td>pupper</td>\n",
       "      <td></td>\n",
       "      <td>8</td>\n",
       "    </tr>\n",
       "    <tr>\n",
       "      <th>7</th>\n",
       "      <td>doggo</td>\n",
       "      <td>floofer</td>\n",
       "      <td></td>\n",
       "      <td></td>\n",
       "      <td>1</td>\n",
       "    </tr>\n",
       "  </tbody>\n",
       "</table>\n",
       "</div>"
      ],
      "text/plain": [
       "   doggo  floofer  pupper  puppo  count\n",
       "0                                  1715\n",
       "1                          puppo     23\n",
       "2                  pupper           213\n",
       "3         floofer                     9\n",
       "4  doggo                             70\n",
       "5  doggo                   puppo      1\n",
       "6  doggo           pupper             8\n",
       "7  doggo  floofer                     1"
      ]
     },
     "execution_count": 134,
     "metadata": {},
     "output_type": "execute_result"
    }
   ],
   "source": [
    "dog_stage_tmp.groupby([\"doggo\", \"floofer\", \"pupper\", \"puppo\"]).size().reset_index().rename(columns={0: \"count\"})"
   ]
  },
  {
   "cell_type": "markdown",
   "metadata": {},
   "source": [
    " \n",
    " ##### Code 2\n",
    " \n",
    " - merge the 4 dog stage columns, into one column."
   ]
  },
  {
   "cell_type": "code",
   "execution_count": 135,
   "metadata": {},
   "outputs": [],
   "source": [
    "dog_stage_tmp['dog_stage'] = dog_stage_tmp.doggo + dog_stage_tmp.floofer + dog_stage_tmp.pupper + dog_stage_tmp.puppo"
   ]
  },
  {
   "cell_type": "markdown",
   "metadata": {},
   "source": [
    "##### Test 2\n",
    "\n",
    "- run a value count check on the new `dog_stage` column "
   ]
  },
  {
   "cell_type": "code",
   "execution_count": 136,
   "metadata": {},
   "outputs": [
    {
     "data": {
      "text/plain": [
       "                1715\n",
       "pupper           213\n",
       "doggo             70\n",
       "puppo             23\n",
       "floofer            9\n",
       "doggopupper        8\n",
       "doggofloofer       1\n",
       "doggopuppo         1\n",
       "Name: dog_stage, dtype: int64"
      ]
     },
     "execution_count": 136,
     "metadata": {},
     "output_type": "execute_result"
    }
   ],
   "source": [
    "dog_stage_tmp['dog_stage'].value_counts()"
   ]
  },
  {
   "cell_type": "markdown",
   "metadata": {},
   "source": [
    "\n",
    "###### Code 3\n",
    "\n",
    "- For cases where multiple dog stages exist, change the dog stage to the value multiple\n",
    "- For missing value, correctly change the empty spaces to actual nulls"
   ]
  },
  {
   "cell_type": "code",
   "execution_count": 139,
   "metadata": {},
   "outputs": [],
   "source": [
    "import numpy as np"
   ]
  },
  {
   "cell_type": "code",
   "execution_count": 140,
   "metadata": {},
   "outputs": [],
   "source": [
    "dog_stage_tmp.loc[dog_stage_tmp.dog_stage == 'doggopupper', 'dog_stage'] = 'multiple'\n",
    "dog_stage_tmp.loc[dog_stage_tmp.dog_stage == 'doggofloofer', 'dog_stage'] = 'multiple'\n",
    "dog_stage_tmp.loc[dog_stage_tmp.dog_stage == 'doggopuppo', 'dog_stage'] = 'multiple'"
   ]
  },
  {
   "cell_type": "code",
   "execution_count": 141,
   "metadata": {},
   "outputs": [],
   "source": [
    "dog_stage_tmp.loc[dog_stage_tmp.dog_stage == '', 'dog_stage'] = np.nan"
   ]
  },
  {
   "cell_type": "markdown",
   "metadata": {},
   "source": [
    "\n",
    "###### Test 3\n",
    "\n",
    "- run a value counts check again, 'multiple' should now be in place instead & nulls should not show in the count"
   ]
  },
  {
   "cell_type": "code",
   "execution_count": 142,
   "metadata": {},
   "outputs": [
    {
     "data": {
      "text/plain": [
       "pupper      213\n",
       "doggo        70\n",
       "puppo        23\n",
       "multiple     10\n",
       "floofer       9\n",
       "Name: dog_stage, dtype: int64"
      ]
     },
     "execution_count": 142,
     "metadata": {},
     "output_type": "execute_result"
    }
   ],
   "source": [
    "dog_stage_tmp['dog_stage'].value_counts()"
   ]
  },
  {
   "cell_type": "markdown",
   "metadata": {},
   "source": [
    " "
   ]
  },
  {
   "cell_type": "markdown",
   "metadata": {},
   "source": [
    "Now, join the clean `dog_stage` column back to our original dataset, and drop the 4 separate columns\n",
    "\n",
    "##### Code 4"
   ]
  },
  {
   "cell_type": "code",
   "execution_count": 143,
   "metadata": {},
   "outputs": [],
   "source": [
    "Twitter_Archive_Clean = pd.merge(Twitter_Archive_Clean, \n",
    "                                 dog_stage_tmp[['tweet_id', 'dog_stage']],\n",
    "                                 on=['tweet_id'], \n",
    "                                 how='left')"
   ]
  },
  {
   "cell_type": "code",
   "execution_count": 144,
   "metadata": {},
   "outputs": [],
   "source": [
    "# drop 4 dog stage columns \n",
    "del Twitter_Archive_Clean['doggo']\n",
    "del Twitter_Archive_Clean['floofer']\n",
    "del Twitter_Archive_Clean['pupper']\n",
    "del Twitter_Archive_Clean['puppo']"
   ]
  },
  {
   "cell_type": "markdown",
   "metadata": {},
   "source": [
    "##### Test 4\n",
    "\n",
    "use info() to collect column details of our data frame and ensure the dog_stage column exists, and 4 separate ones are dropped"
   ]
  },
  {
   "cell_type": "code",
   "execution_count": 147,
   "metadata": {
    "scrolled": true
   },
   "outputs": [
    {
     "name": "stdout",
     "output_type": "stream",
     "text": [
      "<class 'pandas.core.frame.DataFrame'>\n",
      "Int64Index: 2040 entries, 0 to 2039\n",
      "Data columns (total 15 columns):\n",
      " #   Column                      Non-Null Count  Dtype              \n",
      "---  ------                      --------------  -----              \n",
      " 0   tweet_id                    2040 non-null   object             \n",
      " 1   in_reply_to_status_id       2040 non-null   object             \n",
      " 2   in_reply_to_user_id         2040 non-null   object             \n",
      " 3   timestamp                   2040 non-null   datetime64[ns, UTC]\n",
      " 4   source                      2040 non-null   object             \n",
      " 5   text                        2040 non-null   object             \n",
      " 6   retweeted_status_id         2040 non-null   object             \n",
      " 7   retweeted_status_user_id    2040 non-null   object             \n",
      " 8   retweeted_status_timestamp  0 non-null      object             \n",
      " 9   expanded_urls               2040 non-null   object             \n",
      " 10  rating_numerator            2037 non-null   float64            \n",
      " 11  rating_denominator          2037 non-null   float64            \n",
      " 12  rating                      2037 non-null   float64            \n",
      " 13  name                        1430 non-null   object             \n",
      " 14  dog_stage                   325 non-null    object             \n",
      "dtypes: datetime64[ns, UTC](1), float64(3), object(11)\n",
      "memory usage: 167.3+ KB\n"
     ]
    }
   ],
   "source": [
    "# sample dataframe \n",
    "Twitter_Archive_Clean.info()"
   ]
  },
  {
   "cell_type": "markdown",
   "metadata": {},
   "source": [
    " "
   ]
  },
  {
   "cell_type": "markdown",
   "metadata": {},
   "source": [
    "### Tidiness 2 - convert prediction variables from columns to rows in Image Prediction data\n",
    "\n",
    "At the moment, three predictions, their confidence score, and a True/False for Dog Breed are held across a variety of variables. These will be cleaned into the following:\n",
    "\n",
    "> - 1 column (category) holding the prediction (1, 2 or 3) - called **\"prediction\"**\n",
    "> - 1 column (Object) holding the predicted Dog Breed - called **\"predicted_breed\"**\n",
    "> - 1 column (float64) holding the confidence score of each prediction - called **\"prediction_score\"**\n",
    "> - 1 column (bool) holding True or False for whether the prediction is indeed a Dog Breed - called **\"Is_Dog_Breed\"**"
   ]
  },
  {
   "cell_type": "markdown",
   "metadata": {},
   "source": [
    "##### Code"
   ]
  },
  {
   "cell_type": "code",
   "execution_count": 148,
   "metadata": {},
   "outputs": [
    {
     "data": {
      "text/plain": [
       "0"
      ]
     },
     "execution_count": 148,
     "metadata": {},
     "output_type": "execute_result"
    }
   ],
   "source": [
    "# double check no duplicates exist per tweet_id - result should be 0 \n",
    "len(Image_Pred_Clean[Image_Pred_Clean.tweet_id.duplicated()])"
   ]
  },
  {
   "cell_type": "code",
   "execution_count": 149,
   "metadata": {},
   "outputs": [],
   "source": [
    "# utilise pandasql to build this new dataframe \n",
    "import pandasql as ps "
   ]
  },
  {
   "cell_type": "code",
   "execution_count": 150,
   "metadata": {},
   "outputs": [],
   "source": [
    "# write the SQL query into a text string before execution \n",
    "Img_Query = \"\"\"\n",
    "select \n",
    "    t1.tweet_id, t1.img_num, \"1\" as prediction, t1.p1 as predicted_breed, \n",
    "    t1.p1_conf as prediction_score, \n",
    "    case when t1.p1_dog = 1 then 'Yes' else 'No' end as is_dog_breed\n",
    "from Image_Pred_Clean as t1\n",
    "\n",
    "UNION ALL\n",
    "\n",
    "select \n",
    "    t2.tweet_id, t2.img_num, \"2\" as prediction, t2.p2 as predicted_breed, \n",
    "    t2.p2_conf as prediction_score, \n",
    "    case when t2.p2_dog = 1 then 'Yes' else 'No' end as is_dog_breed\n",
    "from Image_Pred_Clean as t2\n",
    "\n",
    "UNION ALL\n",
    "\n",
    "select \n",
    "    t3.tweet_id, t3.img_num, \"3\" as prediction, t3.p3 as predicted_breed, \n",
    "    t3.p3_conf as prediction_score,\n",
    "    case when t3.p3_dog = 1 then 'Yes' else 'No' end as is_dog_breed\n",
    "from Image_Pred_Clean as t3\n",
    "\"\"\""
   ]
  },
  {
   "cell_type": "code",
   "execution_count": 151,
   "metadata": {},
   "outputs": [],
   "source": [
    "# execute query\n",
    "Image_Pred_Clean_New = ps.sqldf(Img_Query)"
   ]
  },
  {
   "cell_type": "code",
   "execution_count": 152,
   "metadata": {},
   "outputs": [],
   "source": [
    "# sort data frame by tweet_id & prediction \n",
    "Image_Pred_Clean_New.sort_values(['tweet_id', 'prediction'], ascending=[True, True], inplace=True)"
   ]
  },
  {
   "cell_type": "markdown",
   "metadata": {},
   "source": [
    "##### Test"
   ]
  },
  {
   "cell_type": "code",
   "execution_count": 153,
   "metadata": {},
   "outputs": [
    {
     "data": {
      "text/html": [
       "<div>\n",
       "<style scoped>\n",
       "    .dataframe tbody tr th:only-of-type {\n",
       "        vertical-align: middle;\n",
       "    }\n",
       "\n",
       "    .dataframe tbody tr th {\n",
       "        vertical-align: top;\n",
       "    }\n",
       "\n",
       "    .dataframe thead th {\n",
       "        text-align: right;\n",
       "    }\n",
       "</style>\n",
       "<table border=\"1\" class=\"dataframe\">\n",
       "  <thead>\n",
       "    <tr style=\"text-align: right;\">\n",
       "      <th></th>\n",
       "      <th>tweet_id</th>\n",
       "      <th>img_num</th>\n",
       "      <th>prediction</th>\n",
       "      <th>predicted_breed</th>\n",
       "      <th>prediction_score</th>\n",
       "      <th>is_dog_breed</th>\n",
       "    </tr>\n",
       "  </thead>\n",
       "  <tbody>\n",
       "    <tr>\n",
       "      <th>0</th>\n",
       "      <td>666020888022790149</td>\n",
       "      <td>1</td>\n",
       "      <td>1</td>\n",
       "      <td>Welsh_springer_spaniel</td>\n",
       "      <td>0.465074</td>\n",
       "      <td>Yes</td>\n",
       "    </tr>\n",
       "    <tr>\n",
       "      <th>2075</th>\n",
       "      <td>666020888022790149</td>\n",
       "      <td>1</td>\n",
       "      <td>2</td>\n",
       "      <td>collie</td>\n",
       "      <td>0.156665</td>\n",
       "      <td>Yes</td>\n",
       "    </tr>\n",
       "    <tr>\n",
       "      <th>4150</th>\n",
       "      <td>666020888022790149</td>\n",
       "      <td>1</td>\n",
       "      <td>3</td>\n",
       "      <td>Shetland_sheepdog</td>\n",
       "      <td>0.061428</td>\n",
       "      <td>Yes</td>\n",
       "    </tr>\n",
       "    <tr>\n",
       "      <th>1</th>\n",
       "      <td>666029285002620928</td>\n",
       "      <td>1</td>\n",
       "      <td>1</td>\n",
       "      <td>redbone</td>\n",
       "      <td>0.506826</td>\n",
       "      <td>Yes</td>\n",
       "    </tr>\n",
       "    <tr>\n",
       "      <th>2076</th>\n",
       "      <td>666029285002620928</td>\n",
       "      <td>1</td>\n",
       "      <td>2</td>\n",
       "      <td>miniature_pinscher</td>\n",
       "      <td>0.074192</td>\n",
       "      <td>Yes</td>\n",
       "    </tr>\n",
       "    <tr>\n",
       "      <th>4151</th>\n",
       "      <td>666029285002620928</td>\n",
       "      <td>1</td>\n",
       "      <td>3</td>\n",
       "      <td>Rhodesian_ridgeback</td>\n",
       "      <td>0.072010</td>\n",
       "      <td>Yes</td>\n",
       "    </tr>\n",
       "  </tbody>\n",
       "</table>\n",
       "</div>"
      ],
      "text/plain": [
       "                tweet_id  img_num prediction         predicted_breed  \\\n",
       "0     666020888022790149        1          1  Welsh_springer_spaniel   \n",
       "2075  666020888022790149        1          2                  collie   \n",
       "4150  666020888022790149        1          3       Shetland_sheepdog   \n",
       "1     666029285002620928        1          1                 redbone   \n",
       "2076  666029285002620928        1          2      miniature_pinscher   \n",
       "4151  666029285002620928        1          3     Rhodesian_ridgeback   \n",
       "\n",
       "      prediction_score is_dog_breed  \n",
       "0             0.465074          Yes  \n",
       "2075          0.156665          Yes  \n",
       "4150          0.061428          Yes  \n",
       "1             0.506826          Yes  \n",
       "2076          0.074192          Yes  \n",
       "4151          0.072010          Yes  "
      ]
     },
     "execution_count": 153,
     "metadata": {},
     "output_type": "execute_result"
    }
   ],
   "source": [
    "# sample top 6 rows - we shoukd see only 2 unique tweet_id's, with 3 predictions each\n",
    "Image_Pred_Clean_New.head(6)"
   ]
  },
  {
   "cell_type": "code",
   "execution_count": 154,
   "metadata": {},
   "outputs": [
    {
     "name": "stdout",
     "output_type": "stream",
     "text": [
      "<class 'pandas.core.frame.DataFrame'>\n",
      "Int64Index: 6225 entries, 0 to 6224\n",
      "Data columns (total 6 columns):\n",
      " #   Column            Non-Null Count  Dtype  \n",
      "---  ------            --------------  -----  \n",
      " 0   tweet_id          6225 non-null   int64  \n",
      " 1   img_num           6225 non-null   int64  \n",
      " 2   prediction        6225 non-null   object \n",
      " 3   predicted_breed   6225 non-null   object \n",
      " 4   prediction_score  6225 non-null   float64\n",
      " 5   is_dog_breed      6225 non-null   object \n",
      "dtypes: float64(1), int64(2), object(3)\n",
      "memory usage: 267.5+ KB\n"
     ]
    }
   ],
   "source": [
    "# check dtypes through info\n",
    "Image_Pred_Clean_New.info()"
   ]
  },
  {
   "cell_type": "markdown",
   "metadata": {},
   "source": [
    " "
   ]
  },
  {
   "cell_type": "markdown",
   "metadata": {},
   "source": [
    "### Cleaning 7 - change data types in Image Prediction data to correct format\n",
    "\n",
    "- `tweet_id` needs to change to a string data type, as it is not used for calculations\n",
    "- `img_num` can only be between 1 & 4 and is meant to be used as a cateogry for which picture the prediction were made from, with this in mind, we will reformat this variable to the required type.\n",
    "- `prediction` can only be between 1 & 3 and is meant to be a category variable, not a number\n",
    "- `is_dog_breed` will be a category of Yes or No"
   ]
  },
  {
   "cell_type": "markdown",
   "metadata": {},
   "source": [
    "##### Code"
   ]
  },
  {
   "cell_type": "code",
   "execution_count": 155,
   "metadata": {},
   "outputs": [],
   "source": [
    "Image_Pred_Clean_New.tweet_id = Image_Pred_Clean_New.tweet_id.astype('str')\n",
    "Image_Pred_Clean_New.img_num = Image_Pred_Clean_New.img_num.astype('category')\n",
    "Image_Pred_Clean_New.prediction = Image_Pred_Clean_New.prediction.astype('category')\n",
    "Image_Pred_Clean_New.is_dog_breed = Image_Pred_Clean_New.is_dog_breed.astype('category')"
   ]
  },
  {
   "cell_type": "markdown",
   "metadata": {},
   "source": [
    "##### Test"
   ]
  },
  {
   "cell_type": "code",
   "execution_count": 156,
   "metadata": {},
   "outputs": [
    {
     "name": "stdout",
     "output_type": "stream",
     "text": [
      "<class 'pandas.core.frame.DataFrame'>\n",
      "Int64Index: 6225 entries, 0 to 6224\n",
      "Data columns (total 6 columns):\n",
      " #   Column            Non-Null Count  Dtype   \n",
      "---  ------            --------------  -----   \n",
      " 0   tweet_id          6225 non-null   object  \n",
      " 1   img_num           6225 non-null   category\n",
      " 2   prediction        6225 non-null   category\n",
      " 3   predicted_breed   6225 non-null   object  \n",
      " 4   prediction_score  6225 non-null   float64 \n",
      " 5   is_dog_breed      6225 non-null   category\n",
      "dtypes: category(3), float64(1), object(2)\n",
      "memory usage: 164.4+ KB\n"
     ]
    }
   ],
   "source": [
    "# run info again to get the Dtypes - check that they have changed as expected \n",
    "Image_Pred_Clean_New.info()"
   ]
  },
  {
   "cell_type": "markdown",
   "metadata": {},
   "source": [
    " "
   ]
  },
  {
   "cell_type": "markdown",
   "metadata": {},
   "source": [
    "### Tidiness 3 -  Merge Twitter Archive & Image Pedictions datasets\n",
    "\n",
    "- take the clean twiiter archive & image predictions dataset, merge them together into a dataframe called Master_Data_1\n",
    "- ensure no duplicates exist at the tweet_id & prediction level"
   ]
  },
  {
   "cell_type": "markdown",
   "metadata": {},
   "source": [
    "##### Code"
   ]
  },
  {
   "cell_type": "code",
   "execution_count": 157,
   "metadata": {},
   "outputs": [],
   "source": [
    "Master_Data_1 = pd.merge(\n",
    "    Twitter_Archive_Clean, Image_Pred_Clean_New, \n",
    "    on=['tweet_id'], how='left'\n",
    ")"
   ]
  },
  {
   "cell_type": "markdown",
   "metadata": {},
   "source": [
    " "
   ]
  },
  {
   "cell_type": "markdown",
   "metadata": {},
   "source": [
    "##### Test"
   ]
  },
  {
   "cell_type": "code",
   "execution_count": 158,
   "metadata": {},
   "outputs": [
    {
     "data": {
      "text/html": [
       "<div>\n",
       "<style scoped>\n",
       "    .dataframe tbody tr th:only-of-type {\n",
       "        vertical-align: middle;\n",
       "    }\n",
       "\n",
       "    .dataframe tbody tr th {\n",
       "        vertical-align: top;\n",
       "    }\n",
       "\n",
       "    .dataframe thead th {\n",
       "        text-align: right;\n",
       "    }\n",
       "</style>\n",
       "<table border=\"1\" class=\"dataframe\">\n",
       "  <thead>\n",
       "    <tr style=\"text-align: right;\">\n",
       "      <th></th>\n",
       "      <th>tweet_id</th>\n",
       "      <th>in_reply_to_status_id</th>\n",
       "      <th>in_reply_to_user_id</th>\n",
       "      <th>timestamp</th>\n",
       "      <th>source</th>\n",
       "      <th>text</th>\n",
       "      <th>retweeted_status_id</th>\n",
       "      <th>retweeted_status_user_id</th>\n",
       "      <th>retweeted_status_timestamp</th>\n",
       "      <th>expanded_urls</th>\n",
       "      <th>rating_numerator</th>\n",
       "      <th>rating_denominator</th>\n",
       "      <th>rating</th>\n",
       "      <th>name</th>\n",
       "      <th>dog_stage</th>\n",
       "      <th>img_num</th>\n",
       "      <th>prediction</th>\n",
       "      <th>predicted_breed</th>\n",
       "      <th>prediction_score</th>\n",
       "      <th>is_dog_breed</th>\n",
       "    </tr>\n",
       "  </thead>\n",
       "  <tbody>\n",
       "    <tr>\n",
       "      <th>0</th>\n",
       "      <td>892420643555336193</td>\n",
       "      <td>nan</td>\n",
       "      <td>nan</td>\n",
       "      <td>2017-08-01 16:23:56+00:00</td>\n",
       "      <td>&lt;a href=\"http://twitter.com/download/iphone\" rel=\"nofollow\"&gt;Twitter for iPhone&lt;/a&gt;</td>\n",
       "      <td>This is Phineas. He's a mystical boy. Only ever appears in the hole of a donut. 13/10 https://t.co/MgUWQ76dJU</td>\n",
       "      <td>nan</td>\n",
       "      <td>nan</td>\n",
       "      <td>NaN</td>\n",
       "      <td>https://twitter.com/dog_rates/status/892420643555336193/photo/1</td>\n",
       "      <td>13.0</td>\n",
       "      <td>10.0</td>\n",
       "      <td>1.3</td>\n",
       "      <td>Phineas</td>\n",
       "      <td>NaN</td>\n",
       "      <td>1</td>\n",
       "      <td>1</td>\n",
       "      <td>orange</td>\n",
       "      <td>0.097049</td>\n",
       "      <td>No</td>\n",
       "    </tr>\n",
       "    <tr>\n",
       "      <th>1</th>\n",
       "      <td>892420643555336193</td>\n",
       "      <td>nan</td>\n",
       "      <td>nan</td>\n",
       "      <td>2017-08-01 16:23:56+00:00</td>\n",
       "      <td>&lt;a href=\"http://twitter.com/download/iphone\" rel=\"nofollow\"&gt;Twitter for iPhone&lt;/a&gt;</td>\n",
       "      <td>This is Phineas. He's a mystical boy. Only ever appears in the hole of a donut. 13/10 https://t.co/MgUWQ76dJU</td>\n",
       "      <td>nan</td>\n",
       "      <td>nan</td>\n",
       "      <td>NaN</td>\n",
       "      <td>https://twitter.com/dog_rates/status/892420643555336193/photo/1</td>\n",
       "      <td>13.0</td>\n",
       "      <td>10.0</td>\n",
       "      <td>1.3</td>\n",
       "      <td>Phineas</td>\n",
       "      <td>NaN</td>\n",
       "      <td>1</td>\n",
       "      <td>2</td>\n",
       "      <td>bagel</td>\n",
       "      <td>0.085851</td>\n",
       "      <td>No</td>\n",
       "    </tr>\n",
       "  </tbody>\n",
       "</table>\n",
       "</div>"
      ],
      "text/plain": [
       "             tweet_id in_reply_to_status_id in_reply_to_user_id  \\\n",
       "0  892420643555336193                   nan                 nan   \n",
       "1  892420643555336193                   nan                 nan   \n",
       "\n",
       "                  timestamp  \\\n",
       "0 2017-08-01 16:23:56+00:00   \n",
       "1 2017-08-01 16:23:56+00:00   \n",
       "\n",
       "                                                                               source  \\\n",
       "0  <a href=\"http://twitter.com/download/iphone\" rel=\"nofollow\">Twitter for iPhone</a>   \n",
       "1  <a href=\"http://twitter.com/download/iphone\" rel=\"nofollow\">Twitter for iPhone</a>   \n",
       "\n",
       "                                                                                                            text  \\\n",
       "0  This is Phineas. He's a mystical boy. Only ever appears in the hole of a donut. 13/10 https://t.co/MgUWQ76dJU   \n",
       "1  This is Phineas. He's a mystical boy. Only ever appears in the hole of a donut. 13/10 https://t.co/MgUWQ76dJU   \n",
       "\n",
       "  retweeted_status_id retweeted_status_user_id retweeted_status_timestamp  \\\n",
       "0                 nan                      nan                        NaN   \n",
       "1                 nan                      nan                        NaN   \n",
       "\n",
       "                                                     expanded_urls  \\\n",
       "0  https://twitter.com/dog_rates/status/892420643555336193/photo/1   \n",
       "1  https://twitter.com/dog_rates/status/892420643555336193/photo/1   \n",
       "\n",
       "   rating_numerator  rating_denominator  rating     name dog_stage img_num  \\\n",
       "0              13.0                10.0     1.3  Phineas       NaN       1   \n",
       "1              13.0                10.0     1.3  Phineas       NaN       1   \n",
       "\n",
       "  prediction predicted_breed  prediction_score is_dog_breed  \n",
       "0          1          orange          0.097049           No  \n",
       "1          2           bagel          0.085851           No  "
      ]
     },
     "execution_count": 158,
     "metadata": {},
     "output_type": "execute_result"
    }
   ],
   "source": [
    "# View some data - check looks fine \n",
    "Master_Data_1.head(2)"
   ]
  },
  {
   "cell_type": "code",
   "execution_count": 159,
   "metadata": {},
   "outputs": [
    {
     "data": {
      "text/plain": [
       "0"
      ]
     },
     "execution_count": 159,
     "metadata": {},
     "output_type": "execute_result"
    }
   ],
   "source": [
    "# check for duplicates at the tweet_id & prediction level - should be 0\n",
    "len(Master_Data_1[Master_Data_1.duplicated(['tweet_id', 'prediction'])])"
   ]
  },
  {
   "cell_type": "markdown",
   "metadata": {},
   "source": [
    "### Cleaning 8 - change data types in JSON Tweet data to correct format\n",
    "\n",
    "- clean the `created_at` so that it is a datetime, not string\n",
    "- ensure `tweet_id` is a string data type to be used in joining \n",
    "- ensure that `retweets` and `likes` are both integers (as these must be whole numbers)"
   ]
  },
  {
   "cell_type": "markdown",
   "metadata": {},
   "source": [
    "##### Code"
   ]
  },
  {
   "cell_type": "code",
   "execution_count": 160,
   "metadata": {},
   "outputs": [],
   "source": [
    "Tweet_JSON_Clean['created_at'] = pd.to_datetime(Tweet_JSON_Clean['created_at'])\n",
    "Tweet_JSON_Clean.tweet_id = Tweet_JSON_Clean.tweet_id.astype('str')\n",
    "Tweet_JSON_Clean.retweets = Tweet_JSON_Clean.retweets.astype('int')\n",
    "Tweet_JSON_Clean.likes = Tweet_JSON_Clean.likes.astype('int')"
   ]
  },
  {
   "cell_type": "markdown",
   "metadata": {},
   "source": [
    "##### Test"
   ]
  },
  {
   "cell_type": "code",
   "execution_count": 161,
   "metadata": {},
   "outputs": [
    {
     "name": "stdout",
     "output_type": "stream",
     "text": [
      "<class 'pandas.core.frame.DataFrame'>\n",
      "RangeIndex: 2331 entries, 0 to 2330\n",
      "Data columns (total 5 columns):\n",
      " #   Column          Non-Null Count  Dtype              \n",
      "---  ------          --------------  -----              \n",
      " 0   tweet_id        2331 non-null   object             \n",
      " 1   created_at      2331 non-null   datetime64[ns, UTC]\n",
      " 2   retweets        2331 non-null   int32              \n",
      " 3   likes           2331 non-null   int32              \n",
      " 4   retweet_status  163 non-null    object             \n",
      "dtypes: datetime64[ns, UTC](1), int32(2), object(2)\n",
      "memory usage: 54.7+ KB\n"
     ]
    }
   ],
   "source": [
    "# collect info & check data type\n",
    "Tweet_JSON_Clean.info()"
   ]
  },
  {
   "cell_type": "markdown",
   "metadata": {},
   "source": [
    " "
   ]
  },
  {
   "cell_type": "markdown",
   "metadata": {},
   "source": [
    "### Tidiness 4 -  merge JSON tweet data to our base data\n",
    "\n",
    "- join the `retweets` & `likes` data points to the Master_Data_1 data frame "
   ]
  },
  {
   "cell_type": "markdown",
   "metadata": {},
   "source": [
    "##### Code"
   ]
  },
  {
   "cell_type": "code",
   "execution_count": 162,
   "metadata": {},
   "outputs": [],
   "source": [
    "Master_Data_1 = pd.merge(Master_Data_1, \n",
    "                         Tweet_JSON_Clean[['tweet_id','retweets','likes']], \n",
    "                         on=['tweet_id'], \n",
    "                         how='left'\n",
    ")"
   ]
  },
  {
   "cell_type": "markdown",
   "metadata": {},
   "source": [
    "##### Test"
   ]
  },
  {
   "cell_type": "code",
   "execution_count": 163,
   "metadata": {
    "scrolled": true
   },
   "outputs": [
    {
     "data": {
      "text/html": [
       "<div>\n",
       "<style scoped>\n",
       "    .dataframe tbody tr th:only-of-type {\n",
       "        vertical-align: middle;\n",
       "    }\n",
       "\n",
       "    .dataframe tbody tr th {\n",
       "        vertical-align: top;\n",
       "    }\n",
       "\n",
       "    .dataframe thead th {\n",
       "        text-align: right;\n",
       "    }\n",
       "</style>\n",
       "<table border=\"1\" class=\"dataframe\">\n",
       "  <thead>\n",
       "    <tr style=\"text-align: right;\">\n",
       "      <th></th>\n",
       "      <th>tweet_id</th>\n",
       "      <th>in_reply_to_status_id</th>\n",
       "      <th>in_reply_to_user_id</th>\n",
       "      <th>timestamp</th>\n",
       "      <th>source</th>\n",
       "      <th>text</th>\n",
       "      <th>retweeted_status_id</th>\n",
       "      <th>retweeted_status_user_id</th>\n",
       "      <th>retweeted_status_timestamp</th>\n",
       "      <th>expanded_urls</th>\n",
       "      <th>...</th>\n",
       "      <th>rating</th>\n",
       "      <th>name</th>\n",
       "      <th>dog_stage</th>\n",
       "      <th>img_num</th>\n",
       "      <th>prediction</th>\n",
       "      <th>predicted_breed</th>\n",
       "      <th>prediction_score</th>\n",
       "      <th>is_dog_breed</th>\n",
       "      <th>retweets</th>\n",
       "      <th>likes</th>\n",
       "    </tr>\n",
       "  </thead>\n",
       "  <tbody>\n",
       "    <tr>\n",
       "      <th>0</th>\n",
       "      <td>892420643555336193</td>\n",
       "      <td>nan</td>\n",
       "      <td>nan</td>\n",
       "      <td>2017-08-01 16:23:56+00:00</td>\n",
       "      <td>&lt;a href=\"http://twitter.com/download/iphone\" rel=\"nofollow\"&gt;Twitter for iPhone&lt;/a&gt;</td>\n",
       "      <td>This is Phineas. He's a mystical boy. Only ever appears in the hole of a donut. 13/10 https://t.co/MgUWQ76dJU</td>\n",
       "      <td>nan</td>\n",
       "      <td>nan</td>\n",
       "      <td>NaN</td>\n",
       "      <td>https://twitter.com/dog_rates/status/892420643555336193/photo/1</td>\n",
       "      <td>...</td>\n",
       "      <td>1.3</td>\n",
       "      <td>Phineas</td>\n",
       "      <td>NaN</td>\n",
       "      <td>1</td>\n",
       "      <td>1</td>\n",
       "      <td>orange</td>\n",
       "      <td>0.097049</td>\n",
       "      <td>No</td>\n",
       "      <td>7362.0</td>\n",
       "      <td>35018.0</td>\n",
       "    </tr>\n",
       "  </tbody>\n",
       "</table>\n",
       "<p>1 rows × 22 columns</p>\n",
       "</div>"
      ],
      "text/plain": [
       "             tweet_id in_reply_to_status_id in_reply_to_user_id  \\\n",
       "0  892420643555336193                   nan                 nan   \n",
       "\n",
       "                  timestamp  \\\n",
       "0 2017-08-01 16:23:56+00:00   \n",
       "\n",
       "                                                                               source  \\\n",
       "0  <a href=\"http://twitter.com/download/iphone\" rel=\"nofollow\">Twitter for iPhone</a>   \n",
       "\n",
       "                                                                                                            text  \\\n",
       "0  This is Phineas. He's a mystical boy. Only ever appears in the hole of a donut. 13/10 https://t.co/MgUWQ76dJU   \n",
       "\n",
       "  retweeted_status_id retweeted_status_user_id retweeted_status_timestamp  \\\n",
       "0                 nan                      nan                        NaN   \n",
       "\n",
       "                                                     expanded_urls  ...  \\\n",
       "0  https://twitter.com/dog_rates/status/892420643555336193/photo/1  ...   \n",
       "\n",
       "   rating     name  dog_stage img_num prediction predicted_breed  \\\n",
       "0     1.3  Phineas        NaN       1          1          orange   \n",
       "\n",
       "  prediction_score is_dog_breed  retweets    likes  \n",
       "0         0.097049           No    7362.0  35018.0  \n",
       "\n",
       "[1 rows x 22 columns]"
      ]
     },
     "execution_count": 163,
     "metadata": {},
     "output_type": "execute_result"
    }
   ],
   "source": [
    "# collect the top row to view the dataset\n",
    "Master_Data_1.head(1)"
   ]
  },
  {
   "cell_type": "markdown",
   "metadata": {},
   "source": [
    " "
   ]
  },
  {
   "cell_type": "markdown",
   "metadata": {},
   "source": [
    "### Cleaning 9 - remove tweets where no like & retweet count exists\n",
    "\n",
    "- If no retweet & like count exists, means tweet was deleted. Remove these cases from data set\n",
    "\n",
    "###### Code"
   ]
  },
  {
   "cell_type": "code",
   "execution_count": 167,
   "metadata": {},
   "outputs": [],
   "source": [
    "Master_Data_1 = Master_Data_1.loc[Master_Data_1['retweets'].notnull()]"
   ]
  },
  {
   "cell_type": "markdown",
   "metadata": {},
   "source": [
    "##### Test\n",
    "- check length of an equal to null dataframe is 0 "
   ]
  },
  {
   "cell_type": "code",
   "execution_count": 168,
   "metadata": {},
   "outputs": [
    {
     "data": {
      "text/plain": [
       "0"
      ]
     },
     "execution_count": 168,
     "metadata": {},
     "output_type": "execute_result"
    }
   ],
   "source": [
    "len(Master_Data_1.loc[Master_Data_1['retweets'].isnull()])"
   ]
  },
  {
   "cell_type": "markdown",
   "metadata": {},
   "source": [
    " "
   ]
  },
  {
   "cell_type": "markdown",
   "metadata": {},
   "source": [
    "### Cleaning 9 - final tidying to master data set\n",
    "\n",
    "- check info on the data types\n",
    "- remove unwanted variables\n",
    "- change any data types that are erroneous"
   ]
  },
  {
   "cell_type": "markdown",
   "metadata": {},
   "source": [
    "##### Code"
   ]
  },
  {
   "cell_type": "code",
   "execution_count": 169,
   "metadata": {},
   "outputs": [
    {
     "name": "stdout",
     "output_type": "stream",
     "text": [
      "<class 'pandas.core.frame.DataFrame'>\n",
      "Int64Index: 5865 entries, 0 to 5885\n",
      "Data columns (total 22 columns):\n",
      " #   Column                      Non-Null Count  Dtype              \n",
      "---  ------                      --------------  -----              \n",
      " 0   tweet_id                    5865 non-null   object             \n",
      " 1   in_reply_to_status_id       5865 non-null   object             \n",
      " 2   in_reply_to_user_id         5865 non-null   object             \n",
      " 3   timestamp                   5865 non-null   datetime64[ns, UTC]\n",
      " 4   source                      5865 non-null   object             \n",
      " 5   text                        5865 non-null   object             \n",
      " 6   retweeted_status_id         5865 non-null   object             \n",
      " 7   retweeted_status_user_id    5865 non-null   object             \n",
      " 8   retweeted_status_timestamp  0 non-null      object             \n",
      " 9   expanded_urls               5865 non-null   object             \n",
      " 10  rating_numerator            5856 non-null   float64            \n",
      " 11  rating_denominator          5856 non-null   float64            \n",
      " 12  rating                      5856 non-null   float64            \n",
      " 13  name                        4181 non-null   object             \n",
      " 14  dog_stage                   912 non-null    object             \n",
      " 15  img_num                     5748 non-null   category           \n",
      " 16  prediction                  5748 non-null   category           \n",
      " 17  predicted_breed             5748 non-null   object             \n",
      " 18  prediction_score            5748 non-null   float64            \n",
      " 19  is_dog_breed                5748 non-null   category           \n",
      " 20  retweets                    5865 non-null   float64            \n",
      " 21  likes                       5865 non-null   float64            \n",
      "dtypes: category(3), datetime64[ns, UTC](1), float64(6), object(12)\n",
      "memory usage: 658.9+ KB\n"
     ]
    }
   ],
   "source": [
    "Master_Data_1.info()"
   ]
  },
  {
   "cell_type": "markdown",
   "metadata": {},
   "source": [
    "Notes:\n",
    "\n",
    "- change `retweets` & `likes` to integers \n",
    "- drop unrequired columns from analysis "
   ]
  },
  {
   "cell_type": "code",
   "execution_count": 170,
   "metadata": {},
   "outputs": [],
   "source": [
    "Master_Data_1.retweets = Master_Data_1.retweets.astype('int')\n",
    "Master_Data_1.likes = Master_Data_1.likes.astype('int')"
   ]
  },
  {
   "cell_type": "code",
   "execution_count": 172,
   "metadata": {},
   "outputs": [],
   "source": [
    "# drop columns that are not going to be required for any analysis or have another column with the same information \n",
    "# drop in_reply_to_status_id, in_reply_to_user_id, retweeted_status_id, retweeted_status_user_id,\n",
    "# retweeted_status_timestamp, expanded_urls\n",
    "drop_list = ['in_reply_to_status_id', 'in_reply_to_user_id', 'retweeted_status_id', 'retweeted_status_user_id', 'retweeted_status_timestamp', 'expanded_urls']\n",
    "Master_Data_1.drop(drop_list, axis=1, inplace=True)"
   ]
  },
  {
   "cell_type": "markdown",
   "metadata": {},
   "source": [
    "##### Test"
   ]
  },
  {
   "cell_type": "code",
   "execution_count": 173,
   "metadata": {},
   "outputs": [
    {
     "name": "stdout",
     "output_type": "stream",
     "text": [
      "<class 'pandas.core.frame.DataFrame'>\n",
      "Int64Index: 5865 entries, 0 to 5885\n",
      "Data columns (total 16 columns):\n",
      " #   Column              Non-Null Count  Dtype              \n",
      "---  ------              --------------  -----              \n",
      " 0   tweet_id            5865 non-null   object             \n",
      " 1   timestamp           5865 non-null   datetime64[ns, UTC]\n",
      " 2   source              5865 non-null   object             \n",
      " 3   text                5865 non-null   object             \n",
      " 4   rating_numerator    5856 non-null   float64            \n",
      " 5   rating_denominator  5856 non-null   float64            \n",
      " 6   rating              5856 non-null   float64            \n",
      " 7   name                4181 non-null   object             \n",
      " 8   dog_stage           912 non-null    object             \n",
      " 9   img_num             5748 non-null   category           \n",
      " 10  prediction          5748 non-null   category           \n",
      " 11  predicted_breed     5748 non-null   object             \n",
      " 12  prediction_score    5748 non-null   float64            \n",
      " 13  is_dog_breed        5748 non-null   category           \n",
      " 14  retweets            5865 non-null   int32              \n",
      " 15  likes               5865 non-null   int32              \n",
      "dtypes: category(3), datetime64[ns, UTC](1), float64(4), int32(2), object(6)\n",
      "memory usage: 475.7+ KB\n"
     ]
    }
   ],
   "source": [
    "# re-check info() on the data frame - ensure columns are dropped\n",
    "Master_Data_1.info()"
   ]
  },
  {
   "cell_type": "markdown",
   "metadata": {},
   "source": [
    " "
   ]
  },
  {
   "cell_type": "markdown",
   "metadata": {},
   "source": [
    "### <font color='red'>*End of cleaning process*</font>"
   ]
  },
  {
   "cell_type": "markdown",
   "metadata": {},
   "source": [
    " "
   ]
  },
  {
   "cell_type": "markdown",
   "metadata": {},
   "source": [
    "### Store master data file as CSV\n",
    "\n",
    "Store final, clean dataset as CSV file named:  *twitter_archive_master.csv*"
   ]
  },
  {
   "cell_type": "code",
   "execution_count": 174,
   "metadata": {},
   "outputs": [],
   "source": [
    "Master_Data_1.to_csv(\"twitter_archive_master.csv\", sep=',', encoding='utf-8', index=False)"
   ]
  },
  {
   "cell_type": "markdown",
   "metadata": {},
   "source": [
    " "
   ]
  },
  {
   "cell_type": "markdown",
   "metadata": {},
   "source": [
    "## Insights & Visuals\n",
    "\n",
    "There is a requirement to provide 3 pieces of insight & at least 1 visualisation from the clean dataset just built"
   ]
  },
  {
   "cell_type": "markdown",
   "metadata": {},
   "source": [
    "##### First, read stored data back in"
   ]
  },
  {
   "cell_type": "code",
   "execution_count": 175,
   "metadata": {},
   "outputs": [],
   "source": [
    "import pandas as pd \n",
    "WRD_Data = pd.read_csv(\"twitter_archive_master.csv\", sep=',')"
   ]
  },
  {
   "cell_type": "code",
   "execution_count": 177,
   "metadata": {},
   "outputs": [
    {
     "name": "stdout",
     "output_type": "stream",
     "text": [
      "<class 'pandas.core.frame.DataFrame'>\n",
      "RangeIndex: 5865 entries, 0 to 5864\n",
      "Data columns (total 16 columns):\n",
      " #   Column              Non-Null Count  Dtype  \n",
      "---  ------              --------------  -----  \n",
      " 0   tweet_id            5865 non-null   int64  \n",
      " 1   timestamp           5865 non-null   object \n",
      " 2   source              5865 non-null   object \n",
      " 3   text                5865 non-null   object \n",
      " 4   rating_numerator    5856 non-null   float64\n",
      " 5   rating_denominator  5856 non-null   float64\n",
      " 6   rating              5856 non-null   float64\n",
      " 7   name                4181 non-null   object \n",
      " 8   dog_stage           912 non-null    object \n",
      " 9   img_num             5748 non-null   float64\n",
      " 10  prediction          5748 non-null   float64\n",
      " 11  predicted_breed     5748 non-null   object \n",
      " 12  prediction_score    5748 non-null   float64\n",
      " 13  is_dog_breed        5748 non-null   object \n",
      " 14  retweets            5865 non-null   int64  \n",
      " 15  likes               5865 non-null   int64  \n",
      "dtypes: float64(6), int64(3), object(7)\n",
      "memory usage: 572.8+ KB\n"
     ]
    }
   ],
   "source": [
    "WRD_Data.info()"
   ]
  },
  {
   "cell_type": "code",
   "execution_count": 181,
   "metadata": {},
   "outputs": [],
   "source": [
    "# ensure datestamp for created at - as read in will assume text \n",
    "WRD_Data['timestamp'] = pd.to_datetime(WRD_Data['timestamp'])\n",
    "\n",
    "# ensure tweet_id is string\n",
    "WRD_Data.tweet_id = WRD_Data.tweet_id.astype('str')\n",
    "\n",
    "# ensure dog_stage, img_num, prediction, is_dog_breed are category \n",
    "WRD_Data.dog_stage = WRD_Data.dog_stage.astype('category')\n",
    "WRD_Data.img_num = WRD_Data.img_num.astype('category')\n",
    "WRD_Data.prediction = WRD_Data.prediction.astype('category')\n",
    "WRD_Data.is_dog_breed = WRD_Data.is_dog_breed.astype('category')"
   ]
  },
  {
   "cell_type": "code",
   "execution_count": 182,
   "metadata": {},
   "outputs": [
    {
     "name": "stdout",
     "output_type": "stream",
     "text": [
      "<class 'pandas.core.frame.DataFrame'>\n",
      "RangeIndex: 5865 entries, 0 to 5864\n",
      "Data columns (total 16 columns):\n",
      " #   Column              Non-Null Count  Dtype              \n",
      "---  ------              --------------  -----              \n",
      " 0   tweet_id            5865 non-null   object             \n",
      " 1   timestamp           5865 non-null   datetime64[ns, UTC]\n",
      " 2   source              5865 non-null   object             \n",
      " 3   text                5865 non-null   object             \n",
      " 4   rating_numerator    5856 non-null   float64            \n",
      " 5   rating_denominator  5856 non-null   float64            \n",
      " 6   rating              5856 non-null   float64            \n",
      " 7   name                4181 non-null   object             \n",
      " 8   dog_stage           912 non-null    category           \n",
      " 9   img_num             5748 non-null   category           \n",
      " 10  prediction          5748 non-null   category           \n",
      " 11  predicted_breed     5748 non-null   object             \n",
      " 12  prediction_score    5748 non-null   float64            \n",
      " 13  is_dog_breed        5748 non-null   category           \n",
      " 14  retweets            5865 non-null   int64              \n",
      " 15  likes               5865 non-null   int64              \n",
      "dtypes: category(4), datetime64[ns, UTC](1), float64(4), int64(2), object(5)\n",
      "memory usage: 458.7+ KB\n"
     ]
    }
   ],
   "source": [
    "# check data\n",
    "WRD_Data.info()"
   ]
  },
  {
   "cell_type": "markdown",
   "metadata": {},
   "source": [
    "##### Analysis 1 - Rating vs Retweets\n",
    "\n",
    "- plot the rating the dog received vs the number of retweets the actual tweet got, to see if there is a correlation"
   ]
  },
  {
   "cell_type": "code",
   "execution_count": 183,
   "metadata": {},
   "outputs": [],
   "source": [
    "# select distinct Tweet ID, rating value & retweet value from our dataset into a dataframe (A1) \n",
    "import pandasql as ps \n",
    "\n",
    "query1 = \"\"\"\n",
    "select distinct \n",
    "    tweet_id, name, rating, retweets, likes\n",
    "        from WRD_Data\n",
    "\"\"\"\n",
    "A1 = ps.sqldf(query1)"
   ]
  },
  {
   "cell_type": "code",
   "execution_count": 184,
   "metadata": {},
   "outputs": [
    {
     "data": {
      "text/plain": [
       "<matplotlib.axes._subplots.AxesSubplot at 0xc63fa70>"
      ]
     },
     "execution_count": 184,
     "metadata": {},
     "output_type": "execute_result"
    },
    {
     "data": {
      "image/png": "[encoded data removed]",
      "text/plain": [
       "<Figure size 432x288 with 1 Axes>"
      ]
     },
     "metadata": {
      "needs_background": "light"
     },
     "output_type": "display_data"
    }
   ],
   "source": [
    "# create scatter plot of rating vs retweets\n",
    "A1.plot(kind='scatter', x='rating', y='retweets', color='Green', label='Ratings vs Retweets')"
   ]
  },
  {
   "cell_type": "markdown",
   "metadata": {},
   "source": [
    "*Notes:*\n",
    "\n",
    "we can see from the scatterplot above that as the rating column increases (so higher ratings) the number of retweets generally seems to be higher"
   ]
  },
  {
   "cell_type": "markdown",
   "metadata": {},
   "source": [
    "##### Analysis 2 - Rating vs Likes\n",
    "\n",
    "- plot the rating the dog received vs the number of likes the actual tweet got, to see if there is a correlation"
   ]
  },
  {
   "cell_type": "code",
   "execution_count": 185,
   "metadata": {},
   "outputs": [
    {
     "data": {
      "text/plain": [
       "<matplotlib.axes._subplots.AxesSubplot at 0xcd39cf0>"
      ]
     },
     "execution_count": 185,
     "metadata": {},
     "output_type": "execute_result"
    },
    {
     "data": {
      "image/png": "[encoded data removed]",
      "text/plain": [
       "<Figure size 432x288 with 1 Axes>"
      ]
     },
     "metadata": {
      "needs_background": "light"
     },
     "output_type": "display_data"
    }
   ],
   "source": [
    "# create scatter plot of rating vs likes\n",
    "A1.plot(kind='scatter', x='rating', y='likes', color='Green', label='Ratings vs Likes')"
   ]
  },
  {
   "cell_type": "markdown",
   "metadata": {},
   "source": [
    "*Notes:*\n",
    "\n",
    "Similar to that of rating vs retweets, there seems to be a pattern that indicates dog's with higher ratings favoured better in terms of the number of likes on their ratings tweet"
   ]
  },
  {
   "cell_type": "markdown",
   "metadata": {},
   "source": [
    "##### Analysis 3 - Retweets vs Likes\n",
    "\n",
    "Suspicion that there will be a strong positive correlation between the number of retweets & likes\n",
    "- plot the number of retweets vs the number of likes the actual tweet got, to see if there is a correlation"
   ]
  },
  {
   "cell_type": "code",
   "execution_count": 186,
   "metadata": {
    "scrolled": false
   },
   "outputs": [
    {
     "data": {
      "text/plain": [
       "<matplotlib.axes._subplots.AxesSubplot at 0xcda0a90>"
      ]
     },
     "execution_count": 186,
     "metadata": {},
     "output_type": "execute_result"
    },
    {
     "data": {
      "image/png": "[encoded data removed]",
      "text/plain": [
       "<Figure size 432x288 with 1 Axes>"
      ]
     },
     "metadata": {
      "needs_background": "light"
     },
     "output_type": "display_data"
    }
   ],
   "source": [
    "# create scatter plot of retweets vs likes\n",
    "A1.plot(kind='scatter', x='retweets', y='likes', color='Blue', label='Retweets vs Likes')"
   ]
  },
  {
   "cell_type": "markdown",
   "metadata": {},
   "source": [
    "*Notes:*\n",
    "\n",
    "The graph above confirms that there appears to be strong positive correlation between the number of likes on a tweet and the number of retweets that tweet had"
   ]
  },
  {
   "cell_type": "markdown",
   "metadata": {},
   "source": [
    "##### Analysis 4 - Most Common Dog Names\n",
    "\n",
    "identify the 3 most common dog name from the WeRateDogs tweet archive"
   ]
  },
  {
   "cell_type": "code",
   "execution_count": 187,
   "metadata": {},
   "outputs": [
    {
     "data": {
      "text/plain": [
       "Oliver    12\n",
       "Lucy      10\n",
       "Cooper    10\n",
       "Name: name, dtype: int64"
      ]
     },
     "execution_count": 187,
     "metadata": {},
     "output_type": "execute_result"
    }
   ],
   "source": [
    "A1['name'].value_counts().head(3)"
   ]
  },
  {
   "cell_type": "markdown",
   "metadata": {},
   "source": [
    "We can see that Oliver, Charlie & Lucy are the most common names, all occurring at least 10 times across our tweet archive."
   ]
  },
  {
   "cell_type": "markdown",
   "metadata": {},
   "source": [
    "  "
   ]
  },
  {
   "cell_type": "markdown",
   "metadata": {},
   "source": [
    "##### Analysis 5 - Most common dog stages identified within tweets\n",
    "\n",
    "Provide a pie chat showing the breakdown of Doggo, Pupper, Puppo & Floofer from the tweet archive."
   ]
  },
  {
   "cell_type": "code",
   "execution_count": 188,
   "metadata": {},
   "outputs": [],
   "source": [
    "# select each tweet_id & it's corresponding dog stage value for summary (result stored in DF A2)\n",
    "query2 = \"\"\"\n",
    "select distinct \n",
    "    tweet_id, dog_stage\n",
    "        from WRD_Data\n",
    "\"\"\"\n",
    "A2 = ps.sqldf(query2)"
   ]
  },
  {
   "cell_type": "code",
   "execution_count": 189,
   "metadata": {},
   "outputs": [
    {
     "name": "stdout",
     "output_type": "stream",
     "text": [
      "pupper      212\n",
      "doggo        69\n",
      "puppo        23\n",
      "multiple     10\n",
      "floofer       9\n",
      "Name: dog_stage, dtype: int64\n"
     ]
    }
   ],
   "source": [
    "dog_stages = A2['dog_stage'].value_counts()\n",
    "print(dog_stages)"
   ]
  },
  {
   "cell_type": "code",
   "execution_count": 190,
   "metadata": {},
   "outputs": [
    {
     "data": {
      "text/plain": [
       "<matplotlib.axes._subplots.AxesSubplot at 0xd3ab2d0>"
      ]
     },
     "execution_count": 190,
     "metadata": {},
     "output_type": "execute_result"
    },
    {
     "data": {
      "image/png": "[encoded data removed]",
      "text/plain": [
       "<Figure size 432x288 with 1 Axes>"
      ]
     },
     "metadata": {},
     "output_type": "display_data"
    }
   ],
   "source": [
    "dog_stages.plot.pie()"
   ]
  },
  {
   "cell_type": "markdown",
   "metadata": {},
   "source": [
    "We can see that where a dog stage was identified from the tweet text, \"pupper\" is the most prevalent. \"Doggo\" is also common, but \"floofer\" & \"puppo\" are not seen as much. There is also a small segment where \"multiple\" dog stages are present in a tweet."
   ]
  },
  {
   "cell_type": "markdown",
   "metadata": {},
   "source": [
    " "
   ]
  },
  {
   "cell_type": "markdown",
   "metadata": {},
   "source": [
    "##### End"
   ]
  }
 ],
 "metadata": {
  "kernelspec": {
   "display_name": "Python 3",
   "language": "python",
   "name": "python3"
  },
  "language_info": {
   "codemirror_mode": {
    "name": "ipython",
    "version": 3
   },
   "file_extension": ".py",
   "mimetype": "text/x-python",
   "name": "python",
   "nbconvert_exporter": "python",
   "pygments_lexer": "ipython3",
   "version": "3.7.6"
  }
 },
 "nbformat": 4,
 "nbformat_minor": 4
}
