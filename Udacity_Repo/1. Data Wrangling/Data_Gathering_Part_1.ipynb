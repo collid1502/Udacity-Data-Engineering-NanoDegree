{
 "cells": [
  {
   "cell_type": "markdown",
   "metadata": {},
   "source": [
    "## Data Gathering"
   ]
  },
  {
   "cell_type": "markdown",
   "metadata": {},
   "source": [
    "### Importing a Flat File with Pandas"
   ]
  },
  {
   "cell_type": "code",
   "execution_count": 5,
   "metadata": {},
   "outputs": [
    {
     "data": {
      "text/html": [
       "<div>\n",
       "<style scoped>\n",
       "    .dataframe tbody tr th:only-of-type {\n",
       "        vertical-align: middle;\n",
       "    }\n",
       "\n",
       "    .dataframe tbody tr th {\n",
       "        vertical-align: top;\n",
       "    }\n",
       "\n",
       "    .dataframe thead th {\n",
       "        text-align: right;\n",
       "    }\n",
       "</style>\n",
       "<table border=\"1\" class=\"dataframe\">\n",
       "  <thead>\n",
       "    <tr style=\"text-align: right;\">\n",
       "      <th></th>\n",
       "      <th>ranking</th>\n",
       "      <th>critic_score</th>\n",
       "      <th>title</th>\n",
       "      <th>number_of_critic_ratings</th>\n",
       "    </tr>\n",
       "  </thead>\n",
       "  <tbody>\n",
       "    <tr>\n",
       "      <th>0</th>\n",
       "      <td>1</td>\n",
       "      <td>99</td>\n",
       "      <td>The Wizard of Oz (1939)</td>\n",
       "      <td>110</td>\n",
       "    </tr>\n",
       "    <tr>\n",
       "      <th>1</th>\n",
       "      <td>2</td>\n",
       "      <td>100</td>\n",
       "      <td>Citizen Kane (1941)</td>\n",
       "      <td>75</td>\n",
       "    </tr>\n",
       "    <tr>\n",
       "      <th>2</th>\n",
       "      <td>3</td>\n",
       "      <td>100</td>\n",
       "      <td>The Third Man (1949)</td>\n",
       "      <td>77</td>\n",
       "    </tr>\n",
       "    <tr>\n",
       "      <th>3</th>\n",
       "      <td>4</td>\n",
       "      <td>99</td>\n",
       "      <td>Get Out (2017)</td>\n",
       "      <td>282</td>\n",
       "    </tr>\n",
       "    <tr>\n",
       "      <th>4</th>\n",
       "      <td>5</td>\n",
       "      <td>97</td>\n",
       "      <td>Mad Max: Fury Road (2015)</td>\n",
       "      <td>370</td>\n",
       "    </tr>\n",
       "  </tbody>\n",
       "</table>\n",
       "</div>"
      ],
      "text/plain": [
       "   ranking  critic_score                      title  number_of_critic_ratings\n",
       "0        1            99    The Wizard of Oz (1939)                       110\n",
       "1        2           100        Citizen Kane (1941)                        75\n",
       "2        3           100       The Third Man (1949)                        77\n",
       "3        4            99             Get Out (2017)                       282\n",
       "4        5            97  Mad Max: Fury Road (2015)                       370"
      ]
     },
     "execution_count": 5,
     "metadata": {},
     "output_type": "execute_result"
    }
   ],
   "source": [
    "import pandas as pd \n",
    "\n",
    "# read in file to DataFrame. We're reading in a TSV (Tab separated value)\n",
    "# but you can still use the read_csv function to do so\n",
    "filepath = r\"C:\\Users\\Dan\\Documents\\Work\\Python\\Learning Material\\4. Udacity - NanoDegree\\1. Data Wrangling\\DataSets\\bestofrt.tsv\"\n",
    "df = pd.read_csv(filepath, sep='\\t')\n",
    "\n",
    "# view first 5 lines \n",
    "df.head() "
   ]
  },
  {
   "cell_type": "markdown",
   "metadata": {},
   "source": [
    " "
   ]
  },
  {
   "cell_type": "markdown",
   "metadata": {},
   "source": [
    "### Web Scraping\n",
    "Do not need to run original section, data actually provided via zip file from Udacity"
   ]
  },
  {
   "cell_type": "code",
   "execution_count": null,
   "metadata": {},
   "outputs": [],
   "source": [
    "# Accessing web page HTML data \n",
    "import requests \n",
    "url = r\"https://www.rottentomatoes.com/m/et_the_extraterrestrial\" \n",
    "response = requests.get(url) "
   ]
  },
  {
   "cell_type": "code",
   "execution_count": null,
   "metadata": {},
   "outputs": [],
   "source": [
    "# Method 1 - Save HTML to file \n",
    "with open(\"et_the_extraterrestrial.html\", mode='wb') as file:\n",
    "    file.write(response.content) "
   ]
  },
  {
   "cell_type": "code",
   "execution_count": null,
   "metadata": {},
   "outputs": [],
   "source": [
    "# Method 2 - Don't save a file, instead work with contents directly within computer memory \n",
    "from bs4 import BeautifulSoup   # Library for collecting HTML data online \n",
    "soup = BeautifulSoup(response.content)"
   ]
  },
  {
   "cell_type": "markdown",
   "metadata": {},
   "source": [
    "- NB for the above, do not actually run. We have been given the source data by Udacity in a downloaded zip file"
   ]
  },
  {
   "cell_type": "markdown",
   "metadata": {},
   "source": [
    "#### Lets run an example"
   ]
  },
  {
   "cell_type": "code",
   "execution_count": 1,
   "metadata": {},
   "outputs": [],
   "source": [
    "from bs4 import BeautifulSoup \n",
    "import os \n",
    "import pandas as pd"
   ]
  },
  {
   "cell_type": "markdown",
   "metadata": {},
   "source": [
    "#### Step by Step with break checks\n",
    "- example of how to do a step by step with break checks to test code & output, building towards final code"
   ]
  },
  {
   "cell_type": "code",
   "execution_count": 3,
   "metadata": {},
   "outputs": [
    {
     "name": "stdout",
     "output_type": "stream",
     "text": [
      "<title>12 Angry Men (Twelve Angry Men) (1957) - Rotten Tomatoes</title>\n"
     ]
    }
   ],
   "source": [
    "df_list = []\n",
    "folder = r\"C:\\Users\\Dan\\Documents\\Work\\Python\\Learning Material\\4. Udacity - NanoDegree\\1. Data Wrangling\\DataSets\\rt-html\\rt_html\"\n",
    "\n",
    "for movie_html in os.listdir(folder):\n",
    "    with open(os.path.join(folder, movie_html)) as file:\n",
    "        soup = BeautifulSoup(file, 'lxml')\n",
    "        title = soup.find('title')\n",
    "        print(title)\n",
    "        break \n",
    "        \n",
    "# running the above foe loop gives:\n",
    "# <title>12 Angry Men (Twelve Angry Men) (1957) - Rotten Tomatoes</title>"
   ]
  },
  {
   "cell_type": "code",
   "execution_count": 5,
   "metadata": {},
   "outputs": [
    {
     "name": "stdout",
     "output_type": "stream",
     "text": [
      "12 Angry Men (Twelve Angry Men) (1957) - Rotten Tomatoes\n"
     ]
    }
   ],
   "source": [
    "# so, we access the contents of this data using .contents\n",
    "for movie_html in os.listdir(folder):\n",
    "    with open(os.path.join(folder, movie_html)) as file:\n",
    "        soup = BeautifulSoup(file, 'lxml')\n",
    "        title = soup.find('title').contents[0]\n",
    "        print(title)\n",
    "        break\n",
    "\n",
    "# which creates the output: \n",
    "# '12 Angry Men (Twelve Angry Men) (1957) - Rotten Tomatoes'"
   ]
  },
  {
   "cell_type": "code",
   "execution_count": 6,
   "metadata": {},
   "outputs": [
    {
     "name": "stdout",
     "output_type": "stream",
     "text": [
      "12 Angry Men (Twelve Angry Men) (1957)\n"
     ]
    }
   ],
   "source": [
    "# so now, we need to add code that gets rid of the '- Rotten Tomatoes' at the end of the line\n",
    "# we can do a reverse substring by using minus the length of the text we wish to get rid of so we have\n",
    "# [0 : <calculated string length>] as our index finder so we know what string chars to access\n",
    "for movie_html in os.listdir(folder):\n",
    "    with open(os.path.join(folder, movie_html)) as file:\n",
    "        soup = BeautifulSoup(file, 'lxml')\n",
    "        title = soup.find('title').contents[0][0:-len(' - Rotten Tomatoes')] \n",
    "        print(title)\n",
    "        break\n",
    "        \n",
    "# and we get our answer as follows:\n",
    "# 12 Angry Men (Twelve Angry Men) (1957)"
   ]
  },
  {
   "cell_type": "markdown",
   "metadata": {},
   "source": [
    "#### Step by Step to finding the number of audience ratings"
   ]
  },
  {
   "cell_type": "code",
   "execution_count": 7,
   "metadata": {},
   "outputs": [
    {
     "name": "stdout",
     "output_type": "stream",
     "text": [
      "<div class=\"audience-info hidden-xs superPageFontColor\">\n",
      "<div>\n",
      "<span class=\"subtle superPageFontColor\">Average Rating:</span>\n",
      "            4.2/5\n",
      "                </div>\n",
      "<div>\n",
      "<span class=\"subtle superPageFontColor\">User Ratings:</span>\n",
      "        103,672</div>\n",
      "</div>\n"
     ]
    }
   ],
   "source": [
    "# Finding the number of audience ratings\n",
    "for movie_html in os.listdir(folder):\n",
    "    with open(os.path.join(folder, movie_html)) as file:\n",
    "        soup = BeautifulSoup(file, 'lxml')\n",
    "        num_audience_ratings = soup.find('div', class_='audience-info hidden-xs superPageFontColor')\n",
    "        print(num_audience_ratings)\n",
    "        break"
   ]
  },
  {
   "cell_type": "markdown",
   "metadata": {},
   "source": [
    "we can see from the output above, that within our <div> class_='audience-info hidden-xs superPageFontColor' there are TWO <span> groups. Thus, we would use the .find_all() method to access both, then use index=1 to access the second of the two"
   ]
  },
  {
   "cell_type": "code",
   "execution_count": 8,
   "metadata": {},
   "outputs": [
    {
     "name": "stdout",
     "output_type": "stream",
     "text": [
      "['\\n', <span class=\"subtle superPageFontColor\">User Ratings:</span>, '\\n        103,672']\n"
     ]
    }
   ],
   "source": [
    "# Finding the number of audience ratings\n",
    "for movie_html in os.listdir(folder):\n",
    "    with open(os.path.join(folder, movie_html)) as file:\n",
    "        soup = BeautifulSoup(file, 'lxml')\n",
    "        num_audience_ratings = soup.find('div', class_='audience-info hidden-xs superPageFontColor')\n",
    "        num_audience_ratings = num_audience_ratings.find_all('div')[1].contents\n",
    "        print(num_audience_ratings)\n",
    "        break"
   ]
  },
  {
   "cell_type": "markdown",
   "metadata": {},
   "source": [
    "Now, from the print out above, you see we accessed the second <span> from original output, which contains the number of reviews"
   ]
  },
  {
   "cell_type": "code",
   "execution_count": 10,
   "metadata": {},
   "outputs": [
    {
     "name": "stdout",
     "output_type": "stream",
     "text": [
      "\n",
      "        103,672\n"
     ]
    }
   ],
   "source": [
    "# so now, we want to take the number, 103,672, which is the third item (index=2) in the list shown above\n",
    "# so use the [2] after the .contents to grab the 3rd item as index=2\n",
    "for movie_html in os.listdir(folder):\n",
    "    with open(os.path.join(folder, movie_html)) as file:\n",
    "        soup = BeautifulSoup(file, 'lxml')\n",
    "        num_audience_ratings = soup.find('div', class_='audience-info hidden-xs superPageFontColor')\n",
    "        num_audience_ratings = num_audience_ratings.find_all('div')[1].contents[2]\n",
    "        print(num_audience_ratings)\n",
    "        break"
   ]
  },
  {
   "cell_type": "code",
   "execution_count": 12,
   "metadata": {},
   "outputs": [
    {
     "name": "stdout",
     "output_type": "stream",
     "text": [
      "103672\n"
     ]
    }
   ],
   "source": [
    "# you'll notice leading white space in front of number, and that the number is actually text atm.\n",
    "# we can use the strip function to remove the white space\n",
    "# we can then use the replace function, so swap out any commas with an empty string\n",
    "for movie_html in os.listdir(folder):\n",
    "    with open(os.path.join(folder, movie_html)) as file:\n",
    "        soup = BeautifulSoup(file, 'lxml')\n",
    "        num_audience_ratings = soup.find('div', class_='audience-info hidden-xs superPageFontColor')\n",
    "        num_audience_ratings = num_audience_ratings.find_all('div')[1].contents[2].strip().replace(',','')\n",
    "        print(num_audience_ratings)\n",
    "        break"
   ]
  },
  {
   "cell_type": "markdown",
   "metadata": {},
   "source": [
    "#### Full solution with notes"
   ]
  },
  {
   "cell_type": "code",
   "execution_count": 13,
   "metadata": {},
   "outputs": [],
   "source": [
    "# The goal is to create a list of dictionaries to build file by file and later convert to DataFrame\n",
    "\n",
    "# step 1 - create an empty list \n",
    "df_list = []\n",
    "\n",
    "# step 2 - set the folder path where the HTML files are all saved \n",
    "folder = r\"C:\\Users\\Dan\\Documents\\Work\\Python\\Learning Material\\4. Udacity - NanoDegree\\1. Data Wrangling\\DataSets\\rt-html\\rt_html\"\n",
    "\n",
    "# step 3 - build a loop that passes over each HTML file, within the folder specified \n",
    "for movie_html in os.listdir(folder):\n",
    "    \n",
    "    # step 4 - take the folder path, and the current file name from this iteration of the loop \n",
    "    # and set together into variable 'file'\n",
    "    with open(os.path.join(folder, movie_html)) as file:\n",
    "        \n",
    "        # step 5 - use the BeautifulSoup function to read the HTML file we are iterating over in the folder  \n",
    "        # use function: BeautifulSoup(<file_name>, <parser_type>) \n",
    "        soup = BeautifulSoup(file, 'lxml') \n",
    "\n",
    "        # step 6 - use soup.find function to search for the movie 'title' data first \n",
    "        # then use .contents to grab the contents of that section \n",
    "        # then grabbing first item [index=0] & slicing off that last \" - Rotten Tomatoes\" text\n",
    "        title = soup.find('title').contents[0][:-len(' - Rotten Tomatoes')]\n",
    "        \n",
    "        # step 7 - now we want to find audience score. If we look at the HTML file, the %value exists between the \n",
    "        # first <span> element on the file. We can thus use the .find method to gather this data\n",
    "        audience_score = soup.find('div', class_='audience-score meter').find('span').contents[0][:-1]\n",
    "        # so what is the above line doing?\n",
    "        # we start by searching 'finding' a <div> element, with 'class'='audience-score meter'  \n",
    "        # NB. because class is a Python keyword, we underscore after it to stop keyword action \n",
    "        # we then use .find again, inside the data we just found, to search for the <span> element, as we saw this is \n",
    "        # where audince score data sat, & there was only one <span> within this <div>\n",
    "        # then use .contents to access that data, take at index 0 because its the only data there\n",
    "        # this would give 90% for example, as a string. Well we don't want the % sign, so the final step grabs everything\n",
    "        # but the last char in the string\n",
    "        \n",
    "        # step 8 - identify the number of audience ratings\n",
    "        # see notes in step by step guide above for explanation on how to build out\n",
    "        num_audience_ratings = soup.find('div', class_='audience-info hidden-xs superPageFontColor')\n",
    "        num_audience_ratings = num_audience_ratings.find_all('div')[1].contents[2].strip().replace(',','')\n",
    "        \n",
    "        \n",
    "        # step 9 - Append to list of dictionaries \n",
    "        # for each of the variables we have just built above, append them into the empty list we created at the start\n",
    "        # and turn to integers where required\n",
    "        # This is the final step of the loop, before it starts back over on the next file \n",
    "        df_list.append({'title': title,\n",
    "                        'audience_score': int(audience_score),\n",
    "                        'number_of_audience_ratings': int(num_audience_ratings)\n",
    "                       })\n",
    "\n",
    "# Step 10 \n",
    "# Now that we have successfully looped through all HTML files in our folder, we want to our list of dictionaires to a dataframe\n",
    "# This can be done using pandas like so:\n",
    "df = pd.DataFrame(df_list, columns = ['title', 'audience_score', 'number_of_audience_ratings']) \n",
    "        "
   ]
  },
  {
   "cell_type": "markdown",
   "metadata": {},
   "source": [
    "The above code may take a little time to run (c. 10 seconds)\n",
    "Once complete, lets take a look at the DataFrame we've just built, below"
   ]
  },
  {
   "cell_type": "code",
   "execution_count": 14,
   "metadata": {},
   "outputs": [
    {
     "data": {
      "text/html": [
       "<div>\n",
       "<style scoped>\n",
       "    .dataframe tbody tr th:only-of-type {\n",
       "        vertical-align: middle;\n",
       "    }\n",
       "\n",
       "    .dataframe tbody tr th {\n",
       "        vertical-align: top;\n",
       "    }\n",
       "\n",
       "    .dataframe thead th {\n",
       "        text-align: right;\n",
       "    }\n",
       "</style>\n",
       "<table border=\"1\" class=\"dataframe\">\n",
       "  <thead>\n",
       "    <tr style=\"text-align: right;\">\n",
       "      <th></th>\n",
       "      <th>title</th>\n",
       "      <th>audience_score</th>\n",
       "      <th>number_of_audience_ratings</th>\n",
       "    </tr>\n",
       "  </thead>\n",
       "  <tbody>\n",
       "    <tr>\n",
       "      <th>0</th>\n",
       "      <td>12 Angry Men (Twelve Angry Men) (1957)</td>\n",
       "      <td>97</td>\n",
       "      <td>103672</td>\n",
       "    </tr>\n",
       "    <tr>\n",
       "      <th>1</th>\n",
       "      <td>The 39 Steps (1935)</td>\n",
       "      <td>86</td>\n",
       "      <td>23647</td>\n",
       "    </tr>\n",
       "    <tr>\n",
       "      <th>2</th>\n",
       "      <td>The Adventures of Robin Hood (1938)</td>\n",
       "      <td>89</td>\n",
       "      <td>33584</td>\n",
       "    </tr>\n",
       "    <tr>\n",
       "      <th>3</th>\n",
       "      <td>All About Eve (1950)</td>\n",
       "      <td>94</td>\n",
       "      <td>44564</td>\n",
       "    </tr>\n",
       "    <tr>\n",
       "      <th>4</th>\n",
       "      <td>All Quiet on the Western Front (1930)</td>\n",
       "      <td>89</td>\n",
       "      <td>17768</td>\n",
       "    </tr>\n",
       "  </tbody>\n",
       "</table>\n",
       "</div>"
      ],
      "text/plain": [
       "                                    title  audience_score  \\\n",
       "0  12 Angry Men (Twelve Angry Men) (1957)              97   \n",
       "1                     The 39 Steps (1935)              86   \n",
       "2     The Adventures of Robin Hood (1938)              89   \n",
       "3                    All About Eve (1950)              94   \n",
       "4   All Quiet on the Western Front (1930)              89   \n",
       "\n",
       "   number_of_audience_ratings  \n",
       "0                      103672  \n",
       "1                       23647  \n",
       "2                       33584  \n",
       "3                       44564  \n",
       "4                       17768  "
      ]
     },
     "execution_count": 14,
     "metadata": {},
     "output_type": "execute_result"
    }
   ],
   "source": [
    "df.head()"
   ]
  },
  {
   "cell_type": "markdown",
   "metadata": {},
   "source": [
    "And as you can see above, a dataframe with the required info has now been built"
   ]
  },
  {
   "cell_type": "markdown",
   "metadata": {},
   "source": [
    " "
   ]
  },
  {
   "cell_type": "markdown",
   "metadata": {},
   "source": [
    "### Downloading Files from the Internet"
   ]
  },
  {
   "cell_type": "markdown",
   "metadata": {},
   "source": [
    "#### HTTP (Hypertext Transfer Protocol)\n",
    "HTTP, the Hypertext Transfer Protocol, is the language that web browsers (like Chrome or Safari) and web servers (basically computers where the contents of a website are stored) speak to each other. Every time you open a web page, or download a file, or watch a video, it's HTTP that makes it possible.\n",
    "\n",
    "HTTP is a request/response protocol:\n",
    "\n",
    "- Your computer, a.k.a. the client, sends a request to a server for some file. For this lesson: \"Get me the file 1-the-wizard-of-oz-1939-film.txt\", for example. GET is the name of the HTTP request method (of which there are multiple) used for retrieving data\n",
    "\n",
    "- The web server sends back a response. If the request is valid: \"Here is the file you asked for:\", then followed by the contents of the 1-the-wizard-of-oz-1939-film.txt file itself"
   ]
  },
  {
   "cell_type": "code",
   "execution_count": 1,
   "metadata": {},
   "outputs": [],
   "source": [
    "# we can use the requests library in Python to collect files from the internet \n",
    "import requests\n",
    "import os "
   ]
  },
  {
   "cell_type": "code",
   "execution_count": 6,
   "metadata": {},
   "outputs": [],
   "source": [
    "# run a check for an existing directory to load files into, if it doesnt exist, build it \n",
    "folder_name = 'ebert_reviews'\n",
    "if not os.path.exists(folder_name):\n",
    "    os.makedirs(folder_name)\n",
    "\n",
    "# now check the file path this program point at\n",
    "# \"C:\\Users\\Dan\\Documents\\Work\\Python\\Learning Material\\4. Udacity - NanoDegree\\1. Data Wrangling\\\" \n",
    "# Inside of this file path, you will now see a sub-folder called \"ebert_reviews\""
   ]
  },
  {
   "cell_type": "code",
   "execution_count": 9,
   "metadata": {},
   "outputs": [
    {
     "name": "stdout",
     "output_type": "stream",
     "text": [
      "<Response [200]>\n"
     ]
    }
   ],
   "source": [
    "# As an example, lets look at the E.T Film text file; contains info about the film\n",
    "url = 'https://d17h27t6h515a5.cloudfront.net/topher/2017/September/59ad9904_11-e.t.-the-extra-terrestrial/11-e.t.-the-extra-terrestrial.txt'\n",
    "response = requests.get(url) \n",
    "print(response)  # we should see <Response [200]> printed below for this example"
   ]
  },
  {
   "cell_type": "code",
   "execution_count": 10,
   "metadata": {},
   "outputs": [
    {
     "name": "stdout",
     "output_type": "stream",
     "text": [
      "b'E.T. The Extra-Terrestrial (1982)\\nhttp://www.rogerebert.com/reviews/great-movie-et-the-extra-terrestrial-1982\\nDear Raven and Emil:\\n\\nSunday we sat on the big green couch and watched \"E.T. The Extra-Terrestrial\" together with your mommy and daddy. It was the first time either of you had seen it, although you knew a little of what to expect because we took the \"E.T.\" ride together at the Universal tour. I had seen the movie lots of times since it came out in 1982, so I kept one eye on the screen and the other on the two of you. I wanted to see how a boy on his fourth birthday, and a girl who had just turned 7 a week ago, would respond to the movie.\\n\\nWell, it \"worked\" for both of you, as we say in Grandpa Roger\\'s business.\\n\\nRaven, you never took your eyes off the screen--not even when it looked like E.T. was dying and you had to scoot over next to me because you were afraid.\\n\\nEmil, you had to go sit on your dad\\'s knee a couple of times, but you never stopped watching, either. No trips to the bathroom or looking for lost toys: You were watching that movie with all of your attention.\\n\\nThe early scenes show a spaceship landing, and they suggest that a little creature has been left behind. The ship escapes quickly after men in pickup trucks come looking for it. Their headlights and flashlights make visible beams through the foggy night, and you remembered the same effect during the ride at Universal. And the keys hanging from their belts jangle on the soundtrack. It\\'s how a lost little extraterrestrial would experience it.\\n\\nThen there are shots of a suburban house, sort of like the one you live in, with a wide driveway and a big backyard. A little boy named Elliott (Henry Thomas) is in the yard when he thinks he sees or hears something. We already know that it\\'s E.T.\\n\\nThe camera watches Elliott moving around. And Raven, that\\'s when you asked me, \"Is this E.T.\\'s vision?\" And I said, yes, we were seeing everything now from E.T.\\'s point of view. And I thought you\\'d asked a very good question, because most kids your age wouldn\\'t have noticed that the camera had a point of view--that we were seeing everything from low to the ground, as a short little creature would view it, and experiencing what he (or she) would see after wandering out of the woods on a strange planet.\\n\\nWhile we were watching, I realized how right you were to ask that question. The whole movie is based on what moviemakers call \"point of view.\" Almost every single important shot is seen either as E.T. would see it, or as Elliott would see it. And things are understood as they would understand them. There aren\\'t any crucial moments where the camera pulls back and seems to be a grownup. We\\'re usually looking at things through a child\\'s eye--or an alien\\'s.\\n\\nWhen Elliott and E.T. see each other for the first time, they both jump back in fright and surprise, and let out yelps. We see each of them from the other\\'s point of view. When the camera stands back to show a whole scene, it avoids showing it through adult eyes. There\\'s a moment, for example, when Elliott\\'s mom (Dee Wallace Stone) is moving around doing some housework, and never realizes that E.T. is scurrying around the room just out of her line of sight. The camera stays back away from her. We don\\'t see her looking this way and that, because it\\'s not about which way she\\'s looking.\\n\\nLater, we do get one great shot that shows what she sees: She\\'s looking in Elliott\\'s closet at all of his stuffed toys lined up, and doesn\\'t realize one of the \"toys\" is actually E.T. We all laughed at that shot, but it was an exception; basically we looked out through little eyes, not big ones. (For example, in the scene where they take E.T. trick-or-treating with a sheet over his head, and we can see out like he can through the holes in the sheet.)\\n\\nLater, in the scenes that really worried you, Raven, the men in the trucks come back. They know E.T. is in Elliott\\'s house, and they\\'re scientists who want to examine the alien creature. But there isn\\'t a single moment when they use grownup talk and explain what they\\'re doing. We only hear small pieces of their dialogue, as Elliott might overhear it.\\n\\nBy then we know Elliott and E.T. are linked mentally, so Elliott can sense that E.T. is dying. Elliott cries out to the adults to leave E.T. alone, but the adults don\\'t take him seriously. A kid knows what that feels like. And then, when Elliott gets his big brother to drive the getaway car, and the brother says, \"I\\'ve never driven in forward before!\\'\\' you could identify with that. Kids are always watching their parents drive, and never getting to do it themselves.\\n\\nWe loved the scene where the bicycles fly. We suspected it was coming, because E.T. had taken Elliott on a private bike flight earlier, so we knew he could do it. I was thinking that the chase scene before the bikes fly was a little too long, as if Steven Spielberg (who made the film) was trying to build up too much unnecessary suspense. But when those bikes took off, what a terrific moment! I remember when I saw the movie at Cannes; even the audience there, people who had seen thousands of movies, let out a whoop at that moment.\\n\\nThen there\\'s the scene at the end. E.T. has phoned home, and the spaceship has come to get him. He\\'s in the woods with Elliott. The gangplank on the ship comes down, and in the doorway we can see another creature like E.T. standing with the light behind.\\n\\nEmil, you said, \"That\\'s E.T.\\'s mommy!\\'\\' And then you paused a second, and said, \"Now how did I know that?\\'\\'\\n\\nWe all laughed, because you made it sound funny, as you often do--you\\'re a natural comedian. But remembering it now, I asked myself--how did Emil know that? It could have been E.T.\\'s daddy, or sister, or the pilot of the ship. But I agree with you it probably was his mommy, because she sounded just like a mommy as she made the noise of calling E.T.\\n\\nAnd then I thought, the fact that you knew that was a sign of how well Steven Spielberg made his movie. At 4, you are a little young to understand \"point of view,\\'\\' but you are old enough to react to one. For the whole movie, you\\'d been seeing almost everything through the eyes of E.T. or Elliott. By the last moments, you were identifying with E.T. And who did he miss the most? Who did he want to see standing in the spaceship door for him? His mommy.\\n\\nOf course, maybe Steven Spielberg didn\\'t see it the same way, and thought E.T. only seemed like a kid and was really 500 years old. That doesn\\'t matter, because Spielberg left it open for all of us. That\\'s the sign of a great filmmaker: He only explains what he has to explain, and with a great movie the longer it runs, the less has to be explained. Some other filmmaker who wasn\\'t so good might have had subtitles saying, \"E.T.? Are you out there? It\\'s Mommy!\\'\\' But that would have been dumb.\\n\\nAnd it would have deprived you, Emil, of the joy of knowing it was E.T.\\'s mommy, and the delight of being able to tell the rest of us.\\n\\nWell, that\\'s it for this letter. We had a great weekend, kids. I was proud of how brave you both were during your first pony rides. And proud of what good movie critics you are, too.\\n\\nLove, Grandpa Roger'\n"
     ]
    }
   ],
   "source": [
    "# if we print the contents of response, we should see a body of text that exists within the file \n",
    "print(response.content)"
   ]
  },
  {
   "cell_type": "markdown",
   "metadata": {},
   "source": [
    "So, now we want to open the ET text file >> \"11-e.t.-the-extra-terrestrial.txt\"\n",
    "This is basically everything after the last backslash in the URL posted above\n",
    "In order to get this programatically, we can use Python's split function"
   ]
  },
  {
   "cell_type": "code",
   "execution_count": 11,
   "metadata": {},
   "outputs": [],
   "source": [
    "# Use the python split function to get text file name from end of URL string, and join it to the folder path we created earlier\n",
    "# we need to open it in WB mode (Write Binary) and that's because the response.contents is in bytes, not text\n",
    "with open(os.path.join(folder_name,\n",
    "                       url.split('/')[-1]), mode='wb') as file:\n",
    "    file.write(response.content)\n",
    "    \n",
    "# And there you have it, we have now created a text file, in our 'ebert_reviews' folder path, that has gathered the information\n",
    "# from the URL on the Udacity webserver, and written it to a file in our drive location\n",
    "# You can now open this file in the ebert_reviews folder and it will show as a regular txt document"
   ]
  },
  {
   "cell_type": "markdown",
   "metadata": {},
   "source": [
    " "
   ]
  },
  {
   "cell_type": "markdown",
   "metadata": {},
   "source": [
    "#### Now let's look at downloading mutiple files in one go\n",
    "We can build a loop that runs over all the URLs (assuming we had them in a list) and repeat the above actions for each"
   ]
  },
  {
   "cell_type": "code",
   "execution_count": 12,
   "metadata": {},
   "outputs": [],
   "source": [
    "# Using a URLs list for text files saved on Udacity servers\n",
    "ebert_review_urls = ['https://d17h27t6h515a5.cloudfront.net/topher/2017/September/59ad9900_1-the-wizard-of-oz-1939-film/1-the-wizard-of-oz-1939-film.txt',\n",
    "                     'https://d17h27t6h515a5.cloudfront.net/topher/2017/September/59ad9901_2-citizen-kane/2-citizen-kane.txt',\n",
    "                     'https://d17h27t6h515a5.cloudfront.net/topher/2017/September/59ad9901_3-the-third-man/3-the-third-man.txt',\n",
    "                     'https://d17h27t6h515a5.cloudfront.net/topher/2017/September/59ad9902_4-get-out-film/4-get-out-film.txt',\n",
    "                     'https://d17h27t6h515a5.cloudfront.net/topher/2017/September/59ad9902_5-mad-max-fury-road/5-mad-max-fury-road.txt',\n",
    "                     'https://d17h27t6h515a5.cloudfront.net/topher/2017/September/59ad9902_6-the-cabinet-of-dr.-caligari/6-the-cabinet-of-dr.-caligari.txt',\n",
    "                     'https://d17h27t6h515a5.cloudfront.net/topher/2017/September/59ad9903_7-all-about-eve/7-all-about-eve.txt',\n",
    "                     'https://d17h27t6h515a5.cloudfront.net/topher/2017/September/59ad9903_8-inside-out-2015-film/8-inside-out-2015-film.txt',\n",
    "                     'https://d17h27t6h515a5.cloudfront.net/topher/2017/September/59ad9903_9-the-godfather/9-the-godfather.txt',\n",
    "                     'https://d17h27t6h515a5.cloudfront.net/topher/2017/September/59ad9904_10-metropolis-1927-film/10-metropolis-1927-film.txt',\n",
    "                     'https://d17h27t6h515a5.cloudfront.net/topher/2017/September/59ad9904_11-e.t.-the-extra-terrestrial/11-e.t.-the-extra-terrestrial.txt',\n",
    "                     'https://d17h27t6h515a5.cloudfront.net/topher/2017/September/59ad9904_12-modern-times-film/12-modern-times-film.txt',\n",
    "                     'https://d17h27t6h515a5.cloudfront.net/topher/2017/September/59ad9904_14-singin-in-the-rain/14-singin-in-the-rain.txt',\n",
    "                     'https://d17h27t6h515a5.cloudfront.net/topher/2017/September/59ad9905_15-boyhood-film/15-boyhood-film.txt',\n",
    "                     'https://d17h27t6h515a5.cloudfront.net/topher/2017/September/59ad9905_16-casablanca-film/16-casablanca-film.txt',\n",
    "                     'https://d17h27t6h515a5.cloudfront.net/topher/2017/September/59ad9905_17-moonlight-2016-film/17-moonlight-2016-film.txt',\n",
    "                     'https://d17h27t6h515a5.cloudfront.net/topher/2017/September/59ad9906_18-psycho-1960-film/18-psycho-1960-film.txt',\n",
    "                     'https://d17h27t6h515a5.cloudfront.net/topher/2017/September/59ad9906_19-laura-1944-film/19-laura-1944-film.txt',\n",
    "                     'https://d17h27t6h515a5.cloudfront.net/topher/2017/September/59ad9906_20-nosferatu/20-nosferatu.txt',\n",
    "                     'https://d17h27t6h515a5.cloudfront.net/topher/2017/September/59ad9907_21-snow-white-and-the-seven-dwarfs-1937-film/21-snow-white-and-the-seven-dwarfs-1937-film.txt',\n",
    "                     'https://d17h27t6h515a5.cloudfront.net/topher/2017/September/59ad9907_22-a-hard-day27s-night-film/22-a-hard-day27s-night-film.txt',\n",
    "                     'https://d17h27t6h515a5.cloudfront.net/topher/2017/September/59ad9907_23-la-grande-illusion/23-la-grande-illusion.txt',\n",
    "                     'https://d17h27t6h515a5.cloudfront.net/topher/2017/September/59ad9908_25-the-battle-of-algiers/25-the-battle-of-algiers.txt',\n",
    "                     'https://d17h27t6h515a5.cloudfront.net/topher/2017/September/59ad9908_26-dunkirk-2017-film/26-dunkirk-2017-film.txt',\n",
    "                     'https://d17h27t6h515a5.cloudfront.net/topher/2017/September/59ad9908_27-the-maltese-falcon-1941-film/27-the-maltese-falcon-1941-film.txt',\n",
    "                     'https://d17h27t6h515a5.cloudfront.net/topher/2017/September/59ad9909_29-12-years-a-slave-film/29-12-years-a-slave-film.txt',\n",
    "                     'https://d17h27t6h515a5.cloudfront.net/topher/2017/September/59ad9909_30-gravity-2013-film/30-gravity-2013-film.txt',\n",
    "                     'https://d17h27t6h515a5.cloudfront.net/topher/2017/September/59ad9909_31-sunset-boulevard-film/31-sunset-boulevard-film.txt',\n",
    "                     'https://d17h27t6h515a5.cloudfront.net/topher/2017/September/59ad990a_32-king-kong-1933-film/32-king-kong-1933-film.txt',\n",
    "                     'https://d17h27t6h515a5.cloudfront.net/topher/2017/September/59ad990a_33-spotlight-film/33-spotlight-film.txt',\n",
    "                     'https://d17h27t6h515a5.cloudfront.net/topher/2017/September/59ad990a_34-the-adventures-of-robin-hood/34-the-adventures-of-robin-hood.txt',\n",
    "                     'https://d17h27t6h515a5.cloudfront.net/topher/2017/September/59ad990b_35-rashomon/35-rashomon.txt',\n",
    "                     'https://d17h27t6h515a5.cloudfront.net/topher/2017/September/59ad990b_36-rear-window/36-rear-window.txt',\n",
    "                     'https://d17h27t6h515a5.cloudfront.net/topher/2017/September/59ad990b_37-selma-film/37-selma-film.txt',\n",
    "                     'https://d17h27t6h515a5.cloudfront.net/topher/2017/September/59ad990c_38-taxi-driver/38-taxi-driver.txt',\n",
    "                     'https://d17h27t6h515a5.cloudfront.net/topher/2017/September/59ad990c_39-toy-story-3/39-toy-story-3.txt',\n",
    "                     'https://d17h27t6h515a5.cloudfront.net/topher/2017/September/59ad990c_40-argo-2012-film/40-argo-2012-film.txt',\n",
    "                     'https://d17h27t6h515a5.cloudfront.net/topher/2017/September/59ad990d_41-toy-story-2/41-toy-story-2.txt',\n",
    "                     'https://d17h27t6h515a5.cloudfront.net/topher/2017/September/59ad990d_42-the-big-sick/42-the-big-sick.txt',\n",
    "                     'https://d17h27t6h515a5.cloudfront.net/topher/2017/September/59ad990d_43-bride-of-frankenstein/43-bride-of-frankenstein.txt',\n",
    "                     'https://d17h27t6h515a5.cloudfront.net/topher/2017/September/59ad990d_44-zootopia/44-zootopia.txt',\n",
    "                     'https://d17h27t6h515a5.cloudfront.net/topher/2017/September/59ad990e_45-m-1931-film/45-m-1931-film.txt',\n",
    "                     'https://d17h27t6h515a5.cloudfront.net/topher/2017/September/59ad990e_46-wonder-woman-2017-film/46-wonder-woman-2017-film.txt',\n",
    "                     'https://d17h27t6h515a5.cloudfront.net/topher/2017/September/59ad990e_48-alien-film/48-alien-film.txt',\n",
    "                     'https://d17h27t6h515a5.cloudfront.net/topher/2017/September/59ad990f_49-bicycle-thieves/49-bicycle-thieves.txt',\n",
    "                     'https://d17h27t6h515a5.cloudfront.net/topher/2017/September/59ad990f_50-seven-samurai/50-seven-samurai.txt',\n",
    "                     'https://d17h27t6h515a5.cloudfront.net/topher/2017/September/59ad990f_51-the-treasure-of-the-sierra-madre-film/51-the-treasure-of-the-sierra-madre-film.txt',\n",
    "                     'https://d17h27t6h515a5.cloudfront.net/topher/2017/September/59ad9910_52-up-2009-film/52-up-2009-film.txt',\n",
    "                     'https://d17h27t6h515a5.cloudfront.net/topher/2017/September/59ad9910_53-12-angry-men-1957-film/53-12-angry-men-1957-film.txt',\n",
    "                     'https://d17h27t6h515a5.cloudfront.net/topher/2017/September/59ad9910_54-the-400-blows/54-the-400-blows.txt',\n",
    "                     'https://d17h27t6h515a5.cloudfront.net/topher/2017/September/59ad9911_55-logan-film/55-logan-film.txt',\n",
    "                     'https://d17h27t6h515a5.cloudfront.net/topher/2017/September/59ad9911_57-army-of-shadows/57-army-of-shadows.txt',\n",
    "                     'https://d17h27t6h515a5.cloudfront.net/topher/2017/September/59ad9912_58-arrival-film/58-arrival-film.txt',\n",
    "                     'https://d17h27t6h515a5.cloudfront.net/topher/2017/September/59ad9912_59-baby-driver/59-baby-driver.txt',\n",
    "                     'https://d17h27t6h515a5.cloudfront.net/topher/2017/September/59ad9913_60-a-streetcar-named-desire-1951-film/60-a-streetcar-named-desire-1951-film.txt',\n",
    "                     'https://d17h27t6h515a5.cloudfront.net/topher/2017/September/59ad9913_61-the-night-of-the-hunter-film/61-the-night-of-the-hunter-film.txt',\n",
    "                     'https://d17h27t6h515a5.cloudfront.net/topher/2017/September/59ad9913_62-star-wars-the-force-awakens/62-star-wars-the-force-awakens.txt',\n",
    "                     'https://d17h27t6h515a5.cloudfront.net/topher/2017/September/59ad9913_63-manchester-by-the-sea-film/63-manchester-by-the-sea-film.txt',\n",
    "                     'https://d17h27t6h515a5.cloudfront.net/topher/2017/September/59ad9914_64-dr.-strangelove/64-dr.-strangelove.txt',\n",
    "                     'https://d17h27t6h515a5.cloudfront.net/topher/2017/September/59ad9914_66-vertigo-film/66-vertigo-film.txt',\n",
    "                     'https://d17h27t6h515a5.cloudfront.net/topher/2017/September/59ad9914_67-the-dark-knight-film/67-the-dark-knight-film.txt',\n",
    "                     'https://d17h27t6h515a5.cloudfront.net/topher/2017/September/59ad9915_68-touch-of-evil/68-touch-of-evil.txt',\n",
    "                     'https://d17h27t6h515a5.cloudfront.net/topher/2017/September/59ad9915_69-the-babadook/69-the-babadook.txt',\n",
    "                     'https://d17h27t6h515a5.cloudfront.net/topher/2017/September/59ad9915_72-rosemary27s-baby-film/72-rosemary27s-baby-film.txt',\n",
    "                     'https://d17h27t6h515a5.cloudfront.net/topher/2017/September/59ad9916_73-finding-nemo/73-finding-nemo.txt',\n",
    "                     'https://d17h27t6h515a5.cloudfront.net/topher/2017/September/59ad9916_74-brooklyn-film/74-brooklyn-film.txt',\n",
    "                     'https://d17h27t6h515a5.cloudfront.net/topher/2017/September/59ad9917_75-the-wrestler-2008-film/75-the-wrestler-2008-film.txt',\n",
    "                     'https://d17h27t6h515a5.cloudfront.net/topher/2017/September/59ad9917_77-l.a.-confidential-film/77-l.a.-confidential-film.txt',\n",
    "                     'https://d17h27t6h515a5.cloudfront.net/topher/2017/September/59ad9918_78-gone-with-the-wind-film/78-gone-with-the-wind-film.txt',\n",
    "                     'https://d17h27t6h515a5.cloudfront.net/topher/2017/September/59ad9918_79-the-good-the-bad-and-the-ugly/79-the-good-the-bad-and-the-ugly.txt',\n",
    "                     'https://d17h27t6h515a5.cloudfront.net/topher/2017/September/59ad9918_80-skyfall/80-skyfall.txt',\n",
    "                     'https://d17h27t6h515a5.cloudfront.net/topher/2017/September/59ad9919_82-tokyo-story/82-tokyo-story.txt',\n",
    "                     'https://d17h27t6h515a5.cloudfront.net/topher/2017/September/59ad9919_83-hell-or-high-water-film/83-hell-or-high-water-film.txt',\n",
    "                     'https://d17h27t6h515a5.cloudfront.net/topher/2017/September/59ad9919_84-pinocchio-1940-film/84-pinocchio-1940-film.txt',\n",
    "                     'https://d17h27t6h515a5.cloudfront.net/topher/2017/September/59ad9919_85-the-jungle-book-2016-film/85-the-jungle-book-2016-film.txt',\n",
    "                     'https://d17h27t6h515a5.cloudfront.net/topher/2017/September/59ad991a_86-la-la-land-film/86-la-la-land-film.txt',\n",
    "                     'https://d17h27t6h515a5.cloudfront.net/topher/2017/September/59ad991b_87-star-trek-film/87-star-trek-film.txt',\n",
    "                     'https://d17h27t6h515a5.cloudfront.net/topher/2017/September/59ad991b_89-apocalypse-now/89-apocalypse-now.txt',\n",
    "                     'https://d17h27t6h515a5.cloudfront.net/topher/2017/September/59ad991c_90-on-the-waterfront/90-on-the-waterfront.txt',\n",
    "                     'https://d17h27t6h515a5.cloudfront.net/topher/2017/September/59ad991c_91-the-wages-of-fear/91-the-wages-of-fear.txt',\n",
    "                     'https://d17h27t6h515a5.cloudfront.net/topher/2017/September/59ad991c_92-the-last-picture-show/92-the-last-picture-show.txt',\n",
    "                     'https://d17h27t6h515a5.cloudfront.net/topher/2017/September/59ad991d_93-harry-potter-and-the-deathly-hallows-part-2/93-harry-potter-and-the-deathly-hallows-part-2.txt',\n",
    "                     'https://d17h27t6h515a5.cloudfront.net/topher/2017/September/59ad991d_94-the-grapes-of-wrath-film/94-the-grapes-of-wrath-film.txt',\n",
    "                     'https://d17h27t6h515a5.cloudfront.net/topher/2017/September/59ad991d_96-man-on-wire/96-man-on-wire.txt',\n",
    "                     'https://d17h27t6h515a5.cloudfront.net/topher/2017/September/59ad991e_97-jaws-film/97-jaws-film.txt',\n",
    "                     'https://d17h27t6h515a5.cloudfront.net/topher/2017/September/59ad991e_98-toy-story/98-toy-story.txt',\n",
    "                     'https://d17h27t6h515a5.cloudfront.net/topher/2017/September/59ad991e_99-the-godfather-part-ii/99-the-godfather-part-ii.txt',\n",
    "                     'https://d17h27t6h515a5.cloudfront.net/topher/2017/September/59ad991e_100-battleship-potemkin/100-battleship-potemkin.txt']"
   ]
  },
  {
   "cell_type": "code",
   "execution_count": 14,
   "metadata": {},
   "outputs": [],
   "source": [
    "# run a check for an existing directory to load files into, if it doesnt exist, build it \n",
    "folder_name = 'ebert_reviews'\n",
    "if not os.path.exists(folder_name):\n",
    "    os.makedirs(folder_name)\n",
    "\n",
    "# So, using a For Loop, we iterate over each of the URLs listed above, reading the contents, and writing to a file within \n",
    "# our 'ebert_reviews' folder\n",
    "for review_url in ebert_review_urls:\n",
    "    response = requests.get(review_url)\n",
    "    with open(os.path.join(folder_name, review_url.split('/')[-1]), mode='wb') as file:\n",
    "        file.write(response.content)\n",
    "\n",
    "# if we check the 'ebert_reviews' folder, we should now see all the 100 film text files stored there"
   ]
  },
  {
   "cell_type": "markdown",
   "metadata": {},
   "source": [
    " "
   ]
  },
  {
   "cell_type": "markdown",
   "metadata": {},
   "source": [
    "## Text Files in Python"
   ]
  },
  {
   "cell_type": "markdown",
   "metadata": {},
   "source": [
    "#### Text file structure\n",
    "- for a useful lesson on encoding ... unicoding ... ASCII etc. go to this link:\n",
    "        http://kunststube.net/encoding/\n",
    "        \n",
    "- this spells out what encoding is & why its important for a programmer!"
   ]
  },
  {
   "cell_type": "markdown",
   "metadata": {},
   "source": [
    "#### Unicode & Python\n",
    "In Python 3, there is:\n",
    "- one text type: ***str*** which holds Unicode data\n",
    "- two byte types: ***bytes*** & ***bytearray***"
   ]
  },
  {
   "cell_type": "code",
   "execution_count": 1,
   "metadata": {},
   "outputs": [],
   "source": [
    "# we can use the glob library as a really handy way to specify text file importing \n",
    "# it allows functionality to use wildcards/patterns that can grab certain files \n",
    "import glob"
   ]
  },
  {
   "cell_type": "code",
   "execution_count": 2,
   "metadata": {},
   "outputs": [
    {
     "name": "stdout",
     "output_type": "stream",
     "text": [
      "ebert_reviews\\1-the-wizard-of-oz-1939-film.txt\n",
      "ebert_reviews\\10-metropolis-1927-film.txt\n",
      "ebert_reviews\\100-battleship-potemkin.txt\n",
      "ebert_reviews\\11-e.t.-the-extra-terrestrial.txt\n",
      "ebert_reviews\\12-modern-times-film.txt\n",
      "ebert_reviews\\14-singin-in-the-rain.txt\n",
      "ebert_reviews\\15-boyhood-film.txt\n",
      "ebert_reviews\\16-casablanca-film.txt\n",
      "ebert_reviews\\17-moonlight-2016-film.txt\n",
      "ebert_reviews\\18-psycho-1960-film.txt\n",
      "ebert_reviews\\19-laura-1944-film.txt\n",
      "ebert_reviews\\2-citizen-kane.txt\n",
      "ebert_reviews\\20-nosferatu.txt\n",
      "ebert_reviews\\21-snow-white-and-the-seven-dwarfs-1937-film.txt\n",
      "ebert_reviews\\22-a-hard-day27s-night-film.txt\n",
      "ebert_reviews\\23-la-grande-illusion.txt\n",
      "ebert_reviews\\25-the-battle-of-algiers.txt\n",
      "ebert_reviews\\26-dunkirk-2017-film.txt\n",
      "ebert_reviews\\27-the-maltese-falcon-1941-film.txt\n",
      "ebert_reviews\\29-12-years-a-slave-film.txt\n",
      "ebert_reviews\\3-the-third-man.txt\n",
      "ebert_reviews\\30-gravity-2013-film.txt\n",
      "ebert_reviews\\31-sunset-boulevard-film.txt\n",
      "ebert_reviews\\32-king-kong-1933-film.txt\n",
      "ebert_reviews\\33-spotlight-film.txt\n",
      "ebert_reviews\\34-the-adventures-of-robin-hood.txt\n",
      "ebert_reviews\\35-rashomon.txt\n",
      "ebert_reviews\\36-rear-window.txt\n",
      "ebert_reviews\\37-selma-film.txt\n",
      "ebert_reviews\\38-taxi-driver.txt\n",
      "ebert_reviews\\39-toy-story-3.txt\n",
      "ebert_reviews\\4-get-out-film.txt\n",
      "ebert_reviews\\40-argo-2012-film.txt\n",
      "ebert_reviews\\41-toy-story-2.txt\n",
      "ebert_reviews\\42-the-big-sick.txt\n",
      "ebert_reviews\\43-bride-of-frankenstein.txt\n",
      "ebert_reviews\\44-zootopia.txt\n",
      "ebert_reviews\\45-m-1931-film.txt\n",
      "ebert_reviews\\46-wonder-woman-2017-film.txt\n",
      "ebert_reviews\\48-alien-film.txt\n",
      "ebert_reviews\\49-bicycle-thieves.txt\n",
      "ebert_reviews\\5-mad-max-fury-road.txt\n",
      "ebert_reviews\\50-seven-samurai.txt\n",
      "ebert_reviews\\51-the-treasure-of-the-sierra-madre-film.txt\n",
      "ebert_reviews\\52-up-2009-film.txt\n",
      "ebert_reviews\\53-12-angry-men-1957-film.txt\n",
      "ebert_reviews\\54-the-400-blows.txt\n",
      "ebert_reviews\\55-logan-film.txt\n",
      "ebert_reviews\\57-army-of-shadows.txt\n",
      "ebert_reviews\\58-arrival-film.txt\n",
      "ebert_reviews\\59-baby-driver.txt\n",
      "ebert_reviews\\6-the-cabinet-of-dr.-caligari.txt\n",
      "ebert_reviews\\60-a-streetcar-named-desire-1951-film.txt\n",
      "ebert_reviews\\61-the-night-of-the-hunter-film.txt\n",
      "ebert_reviews\\62-star-wars-the-force-awakens.txt\n",
      "ebert_reviews\\63-manchester-by-the-sea-film.txt\n",
      "ebert_reviews\\64-dr.-strangelove.txt\n",
      "ebert_reviews\\66-vertigo-film.txt\n",
      "ebert_reviews\\67-the-dark-knight-film.txt\n",
      "ebert_reviews\\68-touch-of-evil.txt\n",
      "ebert_reviews\\69-the-babadook.txt\n",
      "ebert_reviews\\7-all-about-eve.txt\n",
      "ebert_reviews\\72-rosemary27s-baby-film.txt\n",
      "ebert_reviews\\73-finding-nemo.txt\n",
      "ebert_reviews\\74-brooklyn-film.txt\n",
      "ebert_reviews\\75-the-wrestler-2008-film.txt\n",
      "ebert_reviews\\77-l.a.-confidential-film.txt\n",
      "ebert_reviews\\78-gone-with-the-wind-film.txt\n",
      "ebert_reviews\\79-the-good-the-bad-and-the-ugly.txt\n",
      "ebert_reviews\\8-inside-out-2015-film.txt\n",
      "ebert_reviews\\80-skyfall.txt\n",
      "ebert_reviews\\82-tokyo-story.txt\n",
      "ebert_reviews\\83-hell-or-high-water-film.txt\n",
      "ebert_reviews\\84-pinocchio-1940-film.txt\n",
      "ebert_reviews\\85-the-jungle-book-2016-film.txt\n",
      "ebert_reviews\\86-la-la-land-film.txt\n",
      "ebert_reviews\\87-star-trek-film.txt\n",
      "ebert_reviews\\89-apocalypse-now.txt\n",
      "ebert_reviews\\9-the-godfather.txt\n",
      "ebert_reviews\\90-on-the-waterfront.txt\n",
      "ebert_reviews\\91-the-wages-of-fear.txt\n",
      "ebert_reviews\\92-the-last-picture-show.txt\n",
      "ebert_reviews\\93-harry-potter-and-the-deathly-hallows-part-2.txt\n",
      "ebert_reviews\\94-the-grapes-of-wrath-film.txt\n",
      "ebert_reviews\\96-man-on-wire.txt\n",
      "ebert_reviews\\97-jaws-film.txt\n",
      "ebert_reviews\\98-toy-story.txt\n",
      "ebert_reviews\\99-the-godfather-part-ii.txt\n"
     ]
    }
   ],
   "source": [
    "# run a test and print every file name \n",
    "for review in glob.glob('ebert_reviews/*.txt'):\n",
    "    print(review)"
   ]
  },
  {
   "cell_type": "code",
   "execution_count": 5,
   "metadata": {
    "scrolled": true
   },
   "outputs": [
    {
     "name": "stdout",
     "output_type": "stream",
     "text": [
      "The Wizard of Oz (1939)\n"
     ]
    }
   ],
   "source": [
    "# so when we want to open a file & read the contents, we should alwasy spceify the encoding. Helps throw errors & debug quiker\n",
    "# lets look at reading the first line only, of one text file. we'll use the print & break to stop after 1 file\n",
    "for review in glob.glob('ebert_reviews/*.txt'):\n",
    "    with open(review, encoding='utf-8') as file:\n",
    "        print(file.readline()[:-1])\n",
    "        break      \n",
    "# we'll see the first line, of the wizard of oz film review printed, which is the movie title \n",
    "# we use the :-1 slice to get rid of the /n that exists within the file to denote the end of line (causes a blank line if not removed)"
   ]
  },
  {
   "cell_type": "code",
   "execution_count": 9,
   "metadata": {},
   "outputs": [
    {
     "data": {
      "text/html": [
       "<div>\n",
       "<style scoped>\n",
       "    .dataframe tbody tr th:only-of-type {\n",
       "        vertical-align: middle;\n",
       "    }\n",
       "\n",
       "    .dataframe tbody tr th {\n",
       "        vertical-align: top;\n",
       "    }\n",
       "\n",
       "    .dataframe thead th {\n",
       "        text-align: right;\n",
       "    }\n",
       "</style>\n",
       "<table border=\"1\" class=\"dataframe\">\n",
       "  <thead>\n",
       "    <tr style=\"text-align: right;\">\n",
       "      <th></th>\n",
       "      <th>title</th>\n",
       "      <th>url</th>\n",
       "      <th>review_text</th>\n",
       "    </tr>\n",
       "  </thead>\n",
       "  <tbody>\n",
       "    <tr>\n",
       "      <th>0</th>\n",
       "      <td>The Wizard of Oz (1939)</td>\n",
       "      <td>http://www.rogerebert.com/reviews/great-movie-...</td>\n",
       "      <td>As a child I simply did not notice whether a m...</td>\n",
       "    </tr>\n",
       "    <tr>\n",
       "      <th>1</th>\n",
       "      <td>Metropolis (1927)</td>\n",
       "      <td>http://www.rogerebert.com/reviews/great-movie-...</td>\n",
       "      <td>The opening shots of the restored “Metropolis”...</td>\n",
       "    </tr>\n",
       "    <tr>\n",
       "      <th>2</th>\n",
       "      <td>Battleship Potemkin (1925)</td>\n",
       "      <td>http://www.rogerebert.com/reviews/great-movie-...</td>\n",
       "      <td>\"The Battleship Potemkin” has been so famous f...</td>\n",
       "    </tr>\n",
       "    <tr>\n",
       "      <th>3</th>\n",
       "      <td>E.T. The Extra-Terrestrial (1982)</td>\n",
       "      <td>http://www.rogerebert.com/reviews/great-movie-...</td>\n",
       "      <td>Dear Raven and Emil:\\n\\nSunday we sat on the b...</td>\n",
       "    </tr>\n",
       "    <tr>\n",
       "      <th>4</th>\n",
       "      <td>Modern Times (1936)</td>\n",
       "      <td>http://www.rogerebert.com/reviews/modern-times...</td>\n",
       "      <td>A lot of movies are said to be timeless, but s...</td>\n",
       "    </tr>\n",
       "  </tbody>\n",
       "</table>\n",
       "</div>"
      ],
      "text/plain": [
       "                               title  \\\n",
       "0            The Wizard of Oz (1939)   \n",
       "1                  Metropolis (1927)   \n",
       "2         Battleship Potemkin (1925)   \n",
       "3  E.T. The Extra-Terrestrial (1982)   \n",
       "4                Modern Times (1936)   \n",
       "\n",
       "                                                 url  \\\n",
       "0  http://www.rogerebert.com/reviews/great-movie-...   \n",
       "1  http://www.rogerebert.com/reviews/great-movie-...   \n",
       "2  http://www.rogerebert.com/reviews/great-movie-...   \n",
       "3  http://www.rogerebert.com/reviews/great-movie-...   \n",
       "4  http://www.rogerebert.com/reviews/modern-times...   \n",
       "\n",
       "                                         review_text  \n",
       "0  As a child I simply did not notice whether a m...  \n",
       "1  The opening shots of the restored “Metropolis”...  \n",
       "2  \"The Battleship Potemkin” has been so famous f...  \n",
       "3  Dear Raven and Emil:\\n\\nSunday we sat on the b...  \n",
       "4  A lot of movies are said to be timeless, but s...  "
      ]
     },
     "execution_count": 9,
     "metadata": {},
     "output_type": "execute_result"
    }
   ],
   "source": [
    "# The most efficient method for us to build a dataframe of all the info from these text files is to create an empty list\n",
    "# then append dictionaries we create from ready each text file during the iteration, appending each dictionary into the list\n",
    "# that list of dictionaries can then be converted to a pandas dataframe once all data is gathered\n",
    "df_list = []\n",
    "for review in glob.glob('ebert_reviews/*.txt'):\n",
    "    with open(review, encoding='utf-8') as file:\n",
    "        title = file.readline()[:-1]\n",
    "        url = file.readline()[:-1]     # since url is on line 2, we can just use readline again to auto read the next line \n",
    "        review_text = file.read()     # will read all the remaining lines in the text file, aka The review\n",
    "        df_list.append({'title': title,\n",
    "                        'url': url,\n",
    "                        'review_text': review_text\n",
    "                       })\n",
    "\n",
    "# convert to pandas dataframe \n",
    "import pandas as pd \n",
    "df = pd.DataFrame(df_list, columns = ['title', 'url', 'review_text'])\n",
    "df.head() # check the top 5 lines"
   ]
  },
  {
   "cell_type": "markdown",
   "metadata": {},
   "source": [
    " "
   ]
  }
 ],
 "metadata": {
  "kernelspec": {
   "display_name": "Python 3",
   "language": "python",
   "name": "python3"
  },
  "language_info": {
   "codemirror_mode": {
    "name": "ipython",
    "version": 3
   },
   "file_extension": ".py",
   "mimetype": "text/x-python",
   "name": "python",
   "nbconvert_exporter": "python",
   "pygments_lexer": "ipython3",
   "version": "3.7.6"
  }
 },
 "nbformat": 4,
 "nbformat_minor": 4
}
