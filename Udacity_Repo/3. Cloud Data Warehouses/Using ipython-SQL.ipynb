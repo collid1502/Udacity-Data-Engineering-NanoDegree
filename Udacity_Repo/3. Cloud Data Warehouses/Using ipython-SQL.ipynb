{
 "cells": [
  {
   "cell_type": "markdown",
   "metadata": {},
   "source": [
    "# Using ipython-sql"
   ]
  },
  {
   "cell_type": "markdown",
   "metadata": {},
   "source": [
    "In case we don't already have the required library within our environment, we can pip install it"
   ]
  },
  {
   "cell_type": "code",
   "execution_count": 1,
   "metadata": {},
   "outputs": [
    {
     "name": "stdout",
     "output_type": "stream",
     "text": [
      "Collecting ipython-sql\n",
      "  Downloading ipython_sql-0.4.0-py3-none-any.whl (19 kB)\n",
      "Requirement already satisfied: ipython-genutils>=0.1.0 in c:\\users\\dan\\anaconda3\\envs\\dan1\\lib\\site-packages (from ipython-sql) (0.2.0)\n",
      "Requirement already satisfied: ipython>=1.0 in c:\\users\\dan\\anaconda3\\envs\\dan1\\lib\\site-packages (from ipython-sql) (7.12.0)\n",
      "Collecting prettytable<1\n",
      "  Downloading prettytable-0.7.2.tar.bz2 (21 kB)\n",
      "Requirement already satisfied: six in c:\\users\\dan\\anaconda3\\envs\\dan1\\lib\\site-packages (from ipython-sql) (1.14.0)\n",
      "Requirement already satisfied: sqlalchemy>=0.6.7 in c:\\users\\dan\\anaconda3\\envs\\dan1\\lib\\site-packages (from ipython-sql) (1.3.13)\n",
      "Collecting sqlparse\n",
      "  Downloading sqlparse-0.4.1-py3-none-any.whl (42 kB)\n",
      "Requirement already satisfied: colorama; sys_platform == \"win32\" in c:\\users\\dan\\anaconda3\\envs\\dan1\\lib\\site-packages (from ipython>=1.0->ipython-sql) (0.4.3)\n",
      "Requirement already satisfied: jedi>=0.10 in c:\\users\\dan\\anaconda3\\envs\\dan1\\lib\\site-packages (from ipython>=1.0->ipython-sql) (0.14.1)\n",
      "Requirement already satisfied: decorator in c:\\users\\dan\\anaconda3\\envs\\dan1\\lib\\site-packages (from ipython>=1.0->ipython-sql) (4.4.1)\n",
      "Requirement already satisfied: prompt-toolkit!=3.0.0,!=3.0.1,<3.1.0,>=2.0.0 in c:\\users\\dan\\anaconda3\\envs\\dan1\\lib\\site-packages (from ipython>=1.0->ipython-sql) (3.0.3)\n",
      "Requirement already satisfied: pygments in c:\\users\\dan\\anaconda3\\envs\\dan1\\lib\\site-packages (from ipython>=1.0->ipython-sql) (2.5.2)\n",
      "Requirement already satisfied: backcall in c:\\users\\dan\\anaconda3\\envs\\dan1\\lib\\site-packages (from ipython>=1.0->ipython-sql) (0.1.0)\n",
      "Requirement already satisfied: setuptools>=18.5 in c:\\users\\dan\\anaconda3\\envs\\dan1\\lib\\site-packages (from ipython>=1.0->ipython-sql) (45.2.0.post20200210)\n",
      "Requirement already satisfied: pickleshare in c:\\users\\dan\\anaconda3\\envs\\dan1\\lib\\site-packages (from ipython>=1.0->ipython-sql) (0.7.5)\n",
      "Requirement already satisfied: traitlets>=4.2 in c:\\users\\dan\\anaconda3\\envs\\dan1\\lib\\site-packages (from ipython>=1.0->ipython-sql) (4.3.3)\n",
      "Requirement already satisfied: parso>=0.5.0 in c:\\users\\dan\\anaconda3\\envs\\dan1\\lib\\site-packages (from jedi>=0.10->ipython>=1.0->ipython-sql) (0.5.2)\n",
      "Requirement already satisfied: wcwidth in c:\\users\\dan\\anaconda3\\envs\\dan1\\lib\\site-packages (from prompt-toolkit!=3.0.0,!=3.0.1,<3.1.0,>=2.0.0->ipython>=1.0->ipython-sql) (0.1.8)\n",
      "Building wheels for collected packages: prettytable\n",
      "  Building wheel for prettytable (setup.py): started\n",
      "  Building wheel for prettytable (setup.py): finished with status 'done'\n",
      "  Created wheel for prettytable: filename=prettytable-0.7.2-py3-none-any.whl size=13704 sha256=832ba30892e51057567d980d07eb9eeed5d3d756be4d7bf105f2a08dd7b1c72e\n",
      "  Stored in directory: c:\\users\\dan\\appdata\\local\\pip\\cache\\wheels\\8c\\76\\0b\\eb9eb3da7e2335e3577e3f96a0ae9f74f206e26457bd1a2bc8\n",
      "Successfully built prettytable\n",
      "Installing collected packages: prettytable, sqlparse, ipython-sql\n",
      "Successfully installed ipython-sql-0.4.0 prettytable-0.7.2 sqlparse-0.4.1\n"
     ]
    }
   ],
   "source": [
    "!pip install ipython-sql"
   ]
  },
  {
   "cell_type": "markdown",
   "metadata": {},
   "source": [
    " "
   ]
  },
  {
   "cell_type": "markdown",
   "metadata": {},
   "source": [
    "## Some Notes\n",
    "\n",
    "- load ipython-sql: `%load_ext sql`\n",
    "- To execute SQL queries you write one of the following atop of your cell:\n",
    "    - `%sql`\n",
    "        - For a one-liner SQL query\n",
    "        - You can access a python var suing `$`\n",
    "    - `%%sql`\n",
    "        - For a multi line SQL query \n",
    "        - You can **NOT** access a python var suing `$` \n",
    "        \n",
    "- Running a connection string like: `postgresql://postgres:postgres@db:5432/pagila` connects to the database"
   ]
  },
  {
   "cell_type": "markdown",
   "metadata": {},
   "source": [
    "- `sakila` is a sample database created in `MySql` \n",
    "- The postgresql version of it is called `Pagila` "
   ]
  },
  {
   "cell_type": "code",
   "execution_count": null,
   "metadata": {},
   "outputs": [],
   "source": []
  }
 ],
 "metadata": {
  "kernelspec": {
   "display_name": "Python 3",
   "language": "python",
   "name": "python3"
  },
  "language_info": {
   "codemirror_mode": {
    "name": "ipython",
    "version": 3
   },
   "file_extension": ".py",
   "mimetype": "text/x-python",
   "name": "python",
   "nbconvert_exporter": "python",
   "pygments_lexer": "ipython3",
   "version": "3.7.6"
  }
 },
 "nbformat": 4,
 "nbformat_minor": 4
}
